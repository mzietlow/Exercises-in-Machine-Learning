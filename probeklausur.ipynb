{
 "cells": [
  {
   "cell_type": "markdown",
   "metadata": {},
   "source": [
    "# Probeklausur"
   ]
  },
  {
   "cell_type": "markdown",
   "metadata": {},
   "source": [
    "## Polynomielle Merkmale:"
   ]
  },
  {
   "cell_type": "code",
   "execution_count": 6,
   "metadata": {},
   "outputs": [
    {
     "data": {
      "text/plain": [
       "((674, 40, 454276, 26960, 1600), 998)"
      ]
     },
     "execution_count": 6,
     "metadata": {},
     "output_type": "execute_result"
    }
   ],
   "source": [
    "(674,40,674**2, 674*40, 40**2),998"
   ]
  },
  {
   "cell_type": "code",
   "execution_count": 6,
   "metadata": {},
   "outputs": [
    {
     "data": {
      "text/plain": [
       "((100, 19, 10000, 1900, 361), 71)"
      ]
     },
     "execution_count": 6,
     "metadata": {},
     "output_type": "execute_result"
    }
   ],
   "source": [
    "(100,19,100**2, 100*19,19**2),71"
   ]
  },
  {
   "cell_type": "code",
   "execution_count": 5,
   "metadata": {},
   "outputs": [
    {
     "data": {
      "text/plain": [
       "((348, 121104, 348, 1), 1)"
      ]
     },
     "execution_count": 5,
     "metadata": {},
     "output_type": "execute_result"
    }
   ],
   "source": [
    "(348,348**2,348,1), 1"
   ]
  },
  {
   "cell_type": "markdown",
   "metadata": {},
   "source": [
    "## Konfusionsmatrix"
   ]
  },
  {
   "cell_type": "markdown",
   "metadata": {},
   "source": [
    "- TP: 1\n",
    "- TN: 1\n",
    "- FP: 2\n",
    "- FN: 1\n"
   ]
  },
  {
   "cell_type": "code",
   "execution_count": 13,
   "metadata": {},
   "outputs": [
    {
     "name": "stdout",
     "output_type": "stream",
     "text": [
      "acc:  0.4\n",
      "prec:  0.3333333333333333\n",
      "rec:  0.5\n",
      "f1:  0.4\n"
     ]
    }
   ],
   "source": [
    "acc = 2/5\n",
    "prec = 1 / (1+2)\n",
    "rec = 1 / (1+1)\n",
    "f1 = 2*prec*rec / (prec+rec)\n",
    "\n",
    "print(\"acc: \", 2 / 5)\n",
    "print(\"prec: \", prec) # TP / (TP + FP)\n",
    "print(\"rec: \", rec) # TP / (TP + FN)\n",
    "print(\"f1: \", f1)"
   ]
  },
  {
   "cell_type": "markdown",
   "metadata": {},
   "source": [
    "## KNN"
   ]
  },
  {
   "cell_type": "markdown",
   "metadata": {},
   "source": [
    "2-Nächste Nachbarn von x=(9,59) sind:\n",
    "\n",
    "1. (7,29), 80\n",
    "2. (10,3), 69\n",
    "\n",
    "Das Ergebnis ist also: (80+69)/2 = 74,5"
   ]
  },
  {
   "cell_type": "code",
   "execution_count": 8,
   "metadata": {},
   "outputs": [
    {
     "name": "stdout",
     "output_type": "stream",
     "text": [
      "1 46.17358552246078\n",
      "2 30.066592756745816\n",
      "3 107.00467279516349\n",
      "4 56.00892785976178\n",
      "5 80.02499609497022\n",
      "Result:  67.0\n"
     ]
    }
   ],
   "source": [
    "def dist(x1,y1):\n",
    "    return ((x1-9)**2+(y1-59)**2)**(1/2)\n",
    "\n",
    "print(\"1\", dist(5,13))\n",
    "print(\"2\", dist(7,29))\n",
    "print(\"3\", dist(8,-48))\n",
    "print(\"4\", dist(10,3))\n",
    "print(\"5\", dist(11,-21))\n",
    "print(\"Result: \", (54+80)/2)"
   ]
  },
  {
   "cell_type": "markdown",
   "metadata": {},
   "source": [
    "## Naive Bayes\n",
    "\n",
    "P(c_1| D) = 3 / 5\n",
    "P(c_2| D) = 2 / 5\n",
    "\n",
    "P(x_1=0| c=c_1, D) = 2 / 3\n",
    "P(x_1=0| c=c_2, D) = 1 / 2\n",
    "\n",
    "P(x_1=1| c=c_1, D) = 1 / 3\n",
    "P(x_1=1| c=c_2, D) = 1 / 2\n",
    "\n",
    "P(x_2=0| c=c_1, D) = 1 / 3\n",
    "P(x_2=0| c=c_2, D) = 1 / 2\n",
    "\n",
    "P(x_2=1| c=c_1, D) = 2 / 3\n",
    "P(x_2=1| c=c_2, D) = 1 / 2\n",
    "\n",
    "clf(x_1=0, x_2=0, D):\n",
    "\n",
    "c_1: P(c_1| D) * P(x_1=0| c=c_1, D) * P(x_2=0| c=c_1, D) = (3/5)*(2/3)*(1/3) = 0,133\n",
    "\n",
    "c_2: P(c_2| D) * P(x_1=0| c=c_2, D) * P(x_2=0| c=c_2, D) = (2/5) * (1/2) * (1/2) = 0,1\n",
    "\n",
    "=> c_1"
   ]
  },
  {
   "cell_type": "code",
   "execution_count": 28,
   "metadata": {},
   "outputs": [
    {
     "data": {
      "text/plain": [
       "0.6"
      ]
     },
     "execution_count": 28,
     "metadata": {},
     "output_type": "execute_result"
    }
   ],
   "source": [
    "3/5"
   ]
  },
  {
   "cell_type": "code",
   "execution_count": 26,
   "metadata": {},
   "outputs": [
    {
     "data": {
      "text/plain": [
       "(0.1333333333333333, 0.1)"
      ]
     },
     "execution_count": 26,
     "metadata": {},
     "output_type": "execute_result"
    }
   ],
   "source": [
    "(3/5)*(2/3)*(1/3), (2/5) * (1/2) * (1/2)"
   ]
  },
  {
   "cell_type": "markdown",
   "metadata": {},
   "source": [
    "## Decision Tree / IG\n",
    "\n",
    "\n",
    "NEIN: 6\\\n",
    "JA: 4\n",
    "\n",
    "=> H(D) = 0.29\n",
    "\n",
    "\n",
    "\\>80 %: NEIN\\\n",
    "\\>80 %: JA\\\n",
    "\\>80 %: JA\n",
    "\n",
    "<40 %: NEIN\\\n",
    "<40 %: JA\\\n",
    "<40 %: NEIN\n",
    "\n",
    "\n",
    "40-80 %: JA\\\n",
    "40-80 %: NEIN\\\n",
    "40-80 %: NEIN\\\n",
    "40-80 %: NEIN\n",
    "\n",
    "H(D | Stoffwiederholung) = (3/10) * 0.28 + (3/10) * 0.28 + (4/10) * 0.24\n",
    "\n",
    "IG(D, Stoffwiederholung) = H(D) - H(D | Stoffwiederholung)"
   ]
  },
  {
   "cell_type": "code",
   "execution_count": 31,
   "metadata": {},
   "outputs": [
    {
     "name": "stdout",
     "output_type": "stream",
     "text": [
      "h 0.29\n",
      "h_bedingt 0.264\n",
      "ig 0.025999999999999968\n"
     ]
    }
   ],
   "source": [
    "h = 0.29\n",
    "h_bedingt = (3/10) * 0.28 + (3/10) * 0.28 + (4/10) * 0.24\n",
    "ig = h-h_bedingt\n",
    "\n",
    "print(\"h\", h)\n",
    "print(\"h_bedingt\", h_bedingt)\n",
    "print(\"ig\", ig)"
   ]
  },
  {
   "cell_type": "markdown",
   "metadata": {},
   "source": [
    "## Clustering\n",
    "\n"
   ]
  },
  {
   "cell_type": "code",
   "execution_count": 38,
   "metadata": {},
   "outputs": [
    {
     "name": "stdout",
     "output_type": "stream",
     "text": [
      "x_1,m_1 0.0\n",
      "x_2,m_1 3.4828149534536\n",
      "x_3,m_1 1.562049935181331\n",
      "x_4,m_1 1.2206555615733703\n",
      "x_5,m_1 2.23606797749979\n",
      "\n",
      "\n",
      "x_1,m_2 1.562049935181331\n",
      "x_2,m_2 5.024937810560446\n",
      "x_3,m_2 0.0\n",
      "x_4,m_2 1.711724276862369\n",
      "x_5,m_2 1.442220510185596\n",
      "(2.8666666666666667, 3.1)\n",
      "(5.6, 4.3)\n"
     ]
    }
   ],
   "source": [
    "def dist(p, m):\n",
    "    (x_1,y_1) = p\n",
    "    x_m, y_m = m\n",
    "    return ((x_1-x_m)**2+(y_1-y_m)**2)**(1/2)\n",
    "\n",
    "x_1 = (4,3.5)\n",
    "x_2 = (1.3,1.3)\n",
    "x_3 = (5,4.7)\n",
    "x_4 = (3.3,4.5)\n",
    "x_5 = (6.2,3.9)\n",
    "\n",
    "m_1=(4,3.5)\n",
    "m_2=(5,4.7)\n",
    "\n",
    "print(\"x_1,m_1\", dist(x_1, m_1))\n",
    "print(\"x_2,m_1\", dist(x_2, m_1))\n",
    "print(\"x_3,m_1\", dist(x_3, m_1))\n",
    "print(\"x_4,m_1\", dist(x_4, m_1))\n",
    "print(\"x_5,m_1\", dist(x_5, m_1))\n",
    "print(\"\\n\")\n",
    "print(\"x_1,m_2\", dist(x_1, m_2))\n",
    "print(\"x_2,m_2\", dist(x_2, m_2))\n",
    "print(\"x_3,m_2\", dist(x_3, m_2))\n",
    "print(\"x_4,m_2\", dist(x_4, m_2))\n",
    "print(\"x_5,m_2\", dist(x_5, m_2))\n",
    "\n",
    "\n",
    "m_1_neu_x = (x_1[0] + x_2[0] + x_4[0])/3\n",
    "m_1_neu_y = (x_1[1] + x_2[1] + x_4[1])/3\n",
    "\n",
    "m_2_neu = x_3 + x_5\n",
    "\n",
    "m_2_neu_x = (x_3[0] + x_5[0])/2\n",
    "m_2_neu_y = (x_3[1] + x_5[1])/2\n",
    "\n",
    "print((m_1_neu_x, m_1_neu_y))\n",
    "print((m_2_neu_x, m_2_neu_y))"
   ]
  },
  {
   "cell_type": "markdown",
   "metadata": {},
   "source": [
    "## Apriori\n",
    "\n",
    "minsupp = 0.5\n",
    "\n",
    "A,\\\n",
    "V,\\\n",
    "S,\\\n",
    "W\n",
    "\n",
    "{A, V}\\\n",
    "{A, S}\\\n",
    "{A, W}\\\n",
    "{V, W}"
   ]
  },
  {
   "cell_type": "markdown",
   "metadata": {},
   "source": [
    "## Kovmatrix\n",
    "\n",
    "-1.3, -0.7, 1, 1\n",
    "\n",
    "-1.4, -0.4, 0.5, 1.3"
   ]
  },
  {
   "cell_type": "code",
   "execution_count": 3,
   "metadata": {},
   "outputs": [
    {
     "name": "stdout",
     "output_type": "stream",
     "text": [
      "(4.18, 3.8999999999999995)\n",
      "(3.8999999999999995, 4.06)\n",
      "0.7176350047203662\n",
      "0.7080658514573345\n",
      "0.9866657100056588\n"
     ]
    }
   ],
   "source": [
    "x_1_x_1 = (-1.3)**2+ (-0.7)**2+ 1**2+ 1\n",
    "x_2_x_2 = (-1.4)**2 + (-0.4)**2 + 0.5**2 + 1.3**2\n",
    "x_1_x_2 = (-1.3) * (-1.4)+(-0.7) * (-0.4)+(1) * (0.5)+(1) * (1.3)\n",
    "\n",
    "\n",
    "print((x_1_x_1, x_1_x_2))\n",
    "print((x_1_x_2, x_2_x_2))\n",
    "\n",
    "def norm(x):\n",
    "    sub_sum = sum(x_val**2 for x_val in x)\n",
    "    return (sub_sum)**(1/2)\n",
    "\n",
    "points = (-1.3,-1.4),(-0.7,-0.4),(1,0.5),(1,1.3)\n",
    "points_reduced = ((1.909,0),(0.779,0),(-1.063,0),(-1.625,0))\n",
    "\n",
    "var_E = 1/4 * sum(norm(p)**2 for p in points)**(1/2)\n",
    "var_E_reduced = 1/4 * sum(norm(p)**2 for p in points_reduced)**(1/2)\n",
    "\n",
    "ret_var = var_E_reduced / var_E\n",
    "\n",
    "print(var_E)\n",
    "print(var_E_reduced)\n",
    "print(ret_var)"
   ]
  },
  {
   "cell_type": "markdown",
   "metadata": {},
   "source": [
    "## MDP1\n",
    "\n",
    "s^s_o,detektiere,s^s_o,runter,s^s_u,beendeTag,s^t\n",
    "\n",
    "- rew(s^s_o, detektiere, s^s_o) = -2\n",
    "- rew(s^s_o, runter, s^s_u) = 15\n",
    "- rew(s^s_u, beendeTag, s^t) = 10\n"
   ]
  },
  {
   "cell_type": "code",
   "execution_count": 76,
   "metadata": {},
   "outputs": [
    {
     "data": {
      "text/plain": [
       "19.6"
      ]
     },
     "execution_count": 76,
     "metadata": {},
     "output_type": "execute_result"
    }
   ],
   "source": [
    "-2+0.9*15+0.9**2 *10"
   ]
  },
  {
   "cell_type": "markdown",
   "metadata": {},
   "source": [
    "## MDP2 (TODO)\n",
    "\n",
    "(s^v_a,load,s^u_a,3) => (s_v_a, load) = 0 + alpha(1) * (3+0-0) = 3\\\n",
    "(s^u_a,move,s^u_r,−1) => (s^u_a, move) = 0 + alpha(2) * (-1 + gamma(1) * 0) = -0.5\\\n",
    "(s^u_r,unload,s^u_r,−1) => (s^u_r,unload) = 0 + alpha(3) * (-1 + gamma(1) * 0) = -0.333\\\n",
    "(s^u_r,unload,s^u_r,−1) => (s^u_r,unload) = -0.333 + alpha(4) * (-1 + gamma(1) * -0.333 + 0.333) = -0.575\\\n",
    "(s^u_r,unload,s^w_r,8) => (s^u_r,unload) = -0.575 + alpha(5) * (8 + gamma(1) * 0 + 0.575) = 1.14 \\\n",
    "(s^w_r,move,s^w_a,0) => (s^w_r,move) = 0 + alpha(6) * (0+gamma(1) * 0 - 0) = 0\n",
    "\n",
    "\n"
   ]
  },
  {
   "cell_type": "code",
   "execution_count": 13,
   "metadata": {},
   "outputs": [
    {
     "name": "stdout",
     "output_type": "stream",
     "text": [
      "1 3.0\n",
      "2 -0.5\n",
      "3 -0.3333333333333333\n",
      "4 -0.574675\n",
      "5 1.14\n",
      "6 0.0\n"
     ]
    }
   ],
   "source": [
    "def gamma(n):\n",
    "    return 0.9**n\n",
    "\n",
    "def alpha(n):\n",
    "    return 1/n\n",
    "\n",
    "print(\"1\", 0 + alpha(1) * (3+0-0))\n",
    "print(\"2\", 0 + alpha(2) * (-1 + gamma(1) * 0)) \n",
    "print(\"3\", 0 + alpha(3) * (-1 + gamma(1) * 0))\n",
    "print(\"4\", -0.333 + alpha(4) * (-1 + gamma(1) * -0.333 + 0.333))\n",
    "print(\"5\", -0.575 + alpha(5) * (8 + gamma(1) * 0 + 0.575))\n",
    "print(\"6\", 0 + alpha(6) * (0+gamma(1) * 0 - 0))\n"
   ]
  },
  {
   "cell_type": "code",
   "execution_count": 65,
   "metadata": {},
   "outputs": [
    {
     "name": "stdout",
     "output_type": "stream",
     "text": [
      "u^\\gamma(s^v_a | π_tr) = 3.0\n",
      "u^\\gamma(s^u_a | π_tr) =\n",
      "u^\\gamma(s^u_r | π_tr) =\n",
      "u^\\gamma(s^u_r | π_tr) =\n",
      "u^\\gamma(s^u_r | π_tr) =\n",
      "u^\\gamma(s^w_r | π_tr) =\n"
     ]
    }
   ],
   "source": [
    "\n",
    "\n",
    "gamma = 0.9\n",
    "\n",
    "print(\"1.\", )\n",
    "\n",
    "print(\"\\n\")\n",
    "\n",
    "\n",
    "print(\"u^\\gamma(s^v_a | π_tr) =\",)\n",
    "print(\"u^\\gamma(s^u_a | π_tr) =\", ) \n",
    "print(\"u^\\gamma(s^u_r | π_tr) =\", ) \n",
    "print(\"u^\\gamma(s^u_r | π_tr) =\", ) \n",
    "print(\"u^\\gamma(s^u_r | π_tr) =\", ) \n",
    "print(\"u^\\gamma(s^w_r | π_tr) =\", ) "
   ]
  },
  {
   "cell_type": "markdown",
   "metadata": {},
   "source": [
    "## Backprop\n",
    "\n",
    "a^{(1)}_1=0.1+0.2 = 0.3\n",
    "\n",
    "a^{(2)}_1=0.3*1.5 + 0.05= 0.45+ 0.05 = 0.5\n",
    "\n",
    "\n",
    "\\phi(x)=0.5\n"
   ]
  },
  {
   "cell_type": "code",
   "execution_count": 68,
   "metadata": {},
   "outputs": [
    {
     "data": {
      "text/plain": [
       "-0.6931471805599453"
      ]
     },
     "execution_count": 68,
     "metadata": {},
     "output_type": "execute_result"
    }
   ],
   "source": [
    "import math\n",
    "\n",
    "math.log(0.5)"
   ]
  },
  {
   "cell_type": "markdown",
   "metadata": {},
   "source": [
    "## CNN Dims\n",
    "\n",
    "**conv mit 9x3x3**\n",
    "\n",
    "channels: 3*9=27\n",
    "height: 994-3+1 = 992\n",
    "width: 994-3+1 = 992\n",
    "\n",
    "**pool 2x2 stride 2**\n",
    "\n",
    "channels: 27\n",
    "height: 992 / 2 = 496\n",
    "width: 992 / 2 = 496\n",
    "\n",
    "\n",
    "**conv mit 7x5x5**\n",
    "channels: 27*7 = 189\n",
    "height: 496-5+1 = 492\n",
    "width: 496-5+1 = 492\n",
    "\n",
    "**pool 4x4 stride 4**\n",
    "channels: 189\n",
    "height: 492 / 4 = 123\n",
    "width: 492 / 4 = 123"
   ]
  }
 ],
 "metadata": {
  "kernelspec": {
   "display_name": "venv",
   "language": "python",
   "name": "python3"
  },
  "language_info": {
   "codemirror_mode": {
    "name": "ipython",
    "version": 3
   },
   "file_extension": ".py",
   "mimetype": "text/x-python",
   "name": "python",
   "nbconvert_exporter": "python",
   "pygments_lexer": "ipython3",
   "version": "3.10.5"
  }
 },
 "nbformat": 4,
 "nbformat_minor": 2
}
