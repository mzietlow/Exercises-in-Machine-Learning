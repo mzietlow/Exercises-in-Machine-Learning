{
 "cells": [
  {
   "cell_type": "markdown",
   "metadata": {},
   "source": [
    "# Rechenaufgabe zu 5.2 (CNNs)\n",
    "\n",
    "## Aufgabe 1\n",
    "\n",
    "Seien $M_I$ und $M_K$ gegeben durch:\n",
    "\n",
    "$$\n",
    "M_I= \n",
    "\\begin{pmatrix}\n",
    "1 & 2 & 3 & 4 & 5 \\\\\n",
    "3 & 5 & 2 & 1 & 3 \\\\\n",
    "5 & 7 & 10 & 2 & 7 \\\\\n",
    "6 & 8 & 13 & 7 & 1 \\\\\n",
    "10 & 12 & 10 & 9 & 8\n",
    "\\end{pmatrix}\n",
    "\\qquad\n",
    "\n",
    "M_K=\\begin{pmatrix}\n",
    "1 & 0 & -1 \\\\\n",
    "2 & 0 & -2 \\\\\n",
    "1 & 0 & -1\n",
    "\\end{pmatrix}\n",
    "$$\n",
    "\n",
    "Berechnen Sie die Faltung $M_I\\star M_K$ ohne Padding und mit einem Stride von $1$."
   ]
  },
  {
   "cell_type": "markdown",
   "metadata": {},
   "source": [
    "**Antwort:** \n",
    "\n",
    "Wir müssen insgesamt 9 Einträge berechnen:\n",
    "\n",
    "- $1 -3 + 6 -4 +5 -10=-5$\n",
    "- $2-4+10-2+7-2=11$\n",
    "- $3-5+4-6+10-7=-1$\n",
    "- $3-2+10-20+6-13=-16$\n",
    "- $5-1+14-4+8-7=15$\n",
    "- $2-3+20-14+13-1=17$\n",
    "- $5 - 10 +12 -26 + 10 -10=-19$\n",
    "- $7-2+16-14+12-9=10$\n",
    "- $10-7+26-2+10-8=29$\n",
    "\n",
    "Also:\n",
    "\n",
    "$$\n",
    "M_I\\star M_K = \n",
    "\\begin{pmatrix}\n",
    "-5 & 11 & -1 \\\\\n",
    "-16 & 15 & 17 \\\\\n",
    "-19 & 10 & 29 \\\\\n",
    "\\end{pmatrix}\n",
    "$$"
   ]
  },
  {
   "cell_type": "markdown",
   "metadata": {},
   "source": [
    "## Aufgabe 2\n",
    "\n",
    "Sei $M$ definiert durch:\n",
    "\n",
    "$$\n",
    "M=\n",
    "\\begin{pmatrix}\n",
    "1 & 3 & 4 & 10 \\\\\n",
    "1 & 2 & 5 & 12 \\\\\n",
    "2 & 3 & 0 & 1 \\\\\n",
    "4 & 5 & 2 & 1\n",
    "\\end{pmatrix}\n",
    "$$\n",
    "\n",
    "Wenden Sie $2\\times 2$-Max-Pooling mit einem Stride von $2$ an.\n"
   ]
  },
  {
   "cell_type": "markdown",
   "metadata": {},
   "source": [
    "**Antwort:** \n",
    "\n",
    "Wir erhalten\n",
    "\n",
    "$$\n",
    "\\operatorname{pool}(M)\n",
    "=\n",
    "\\begin{pmatrix}\n",
    "3 & 12 \\\\\n",
    "5 & 2 \\\\\n",
    "\\end{pmatrix}\n",
    "$$"
   ]
  },
  {
   "cell_type": "markdown",
   "metadata": {},
   "source": [
    "## Aufgabe 3\n",
    "\n",
    "Angenommen, Sie haben als Eingabe für ein CNN ein RGB-Bild der Größe $994\\times 994$. Die Dimensionen dieser Eingabe sind also, die 3 Farbkanäle eingerechnet, $3\\times 994\\times 994$.\n",
    "\n",
    "In der Architektur des CNNs sei festgelegt, dass:\n",
    "\n",
    "\n",
    "1. Im ersten Layer eine Faltung mit $9$ $3\\times3$-Filtern (ohne Padding und mit Stride $1$) durchgeführt wird.\n",
    "    - Wie lauten nun die Dimensionen der Feature Map?\n",
    "2. Nun wird auf der Feature Map eine $2\\times 2$-Pooling-Operation (mit Stride $2$) durchgeführt. \n",
    "    - Wie lauten die Dimensionen der daraus resultierenden Feature Map?\n",
    "3. Nun wird eine Faltung mit $7$ $5\\times 5$-Filtern (wieder ohne Padding und mit Stride $1$) durchgeführt.\n",
    "    - Wie lauten die Dimensionen der resultierenden Feature Map?\n",
    "4. Nun wird eine $4\\times 4$-Pooling-Operation (mit Stride $4$) durchgeführt.\n",
    "    - Wie lauten die Dimensionen der resultierenden Feature Map?"
   ]
  },
  {
   "cell_type": "markdown",
   "metadata": {},
   "source": [
    "**Antwort:**\n",
    "\n",
    "Nach dem Skript führen wir eine Depthwise Convolution durch, bei der wir jeden Channel auf jeder Dimension ausführen. Wir erhalten also:\n",
    "\n",
    "1. **Nach der Faltung:** $(9\\cdot 3 \\times 994-3+1 \\times 994-3+1) = (27\\times 992 \\times 992)$\n",
    "2. **Nach dem $2\\times 2$-Pool:** $(27\\times 992/2 \\times 992/2) = (27\\times 496\\times 496)$\n",
    "3. **Nach der Faltung:** $(7 \\cdot 27 \\times 496-5+1\\times 496-5+1) = (189\\times 492\\times 492)$\n",
    "4. **Nach dem $4\\times 4$-Pool:** $(189\\times 492/4 \\times 492/4) = (189\\times 123 \\times 123)$"
   ]
  }
 ],
 "metadata": {
  "language_info": {
   "name": "python"
  }
 },
 "nbformat": 4,
 "nbformat_minor": 2
}
