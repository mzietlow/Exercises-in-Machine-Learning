{
 "cells": [
  {
   "cell_type": "markdown",
   "metadata": {},
   "source": [
    "# Programmieraufgaben zu 3.1 (K-Means Clustering)\n",
    "\n",
    "Sei ein Datensatz gegeben durch\n",
    "\n",
    "$$\n",
    "E=\\{(8.5,16),(12.4,26.8),(9.3,21),(11.5,17),(17.5,25),(13,22.6),(4,16.5)\\}\n",
    "$$\n",
    "\n",
    "\n",
    "1. Wählen Sie $k = 2$ und als Initialisierungsmethode K-Means++. \n",
    "    - Geben Sie die Clusterzugehörigkeiten aller Punkte an. \n",
    "    - Geben Sie die finalen Zentroiden an.\n",
    "2. Wählen Sie nun k = 3.\n",
    "    - Geben Sie die Clusterzugehörigkeiten aller Punkte an. \n",
    "    - Geben Sie die finalen Zentroiden an.\n",
    "3. Berechnen Sie die Trägheit bzgl. $E$ sowohl für $k=2$ als auch für $k=3$."
   ]
  },
  {
   "cell_type": "code",
   "execution_count": 1,
   "metadata": {},
   "outputs": [
    {
     "data": {
      "text/plain": [
       "[(8.5, 16),\n",
       " (12.4, 26.8),\n",
       " (9.3, 21),\n",
       " (11.5, 17),\n",
       " (17.5, 25),\n",
       " (13, 22.6),\n",
       " (4, 16.5)]"
      ]
     },
     "execution_count": 1,
     "metadata": {},
     "output_type": "execute_result"
    }
   ],
   "source": [
    "E = [\n",
    "    (8.5, 16),\n",
    "    (12.4, 26.8),\n",
    "    (9.3, 21),\n",
    "    (11.5, 17),\n",
    "    (17.5, 25),\n",
    "    (13, 22.6),\n",
    "    (4, 16.5),\n",
    "]\n",
    "\n",
    "E"
   ]
  },
  {
   "cell_type": "markdown",
   "metadata": {},
   "source": [
    "## Aufgabe 1\n",
    "\n",
    "Wählen Sie $k = 2$ und als Initialisierungsmethode K-Means++. \n",
    "- Geben Sie die Clusterzugehörigkeiten aller Punkte an. \n",
    "- Geben Sie die finalen Zentroiden an."
   ]
  },
  {
   "cell_type": "code",
   "execution_count": 2,
   "metadata": {},
   "outputs": [
    {
     "name": "stdout",
     "output_type": "stream",
     "text": [
      "Clusterzogehörigkeiten: [1 0 1 1 0 0 1]\n",
      "\n",
      "Zentroiden: [14.3 24.8], [ 8.325 17.625]\n"
     ]
    }
   ],
   "source": [
    "from sklearn.cluster import KMeans\n",
    "\n",
    "kmeans_k2 = KMeans(init=\"k-means++\", n_clusters=2, random_state=5).fit(E)\n",
    "\n",
    "print(f\"Clusterzogehörigkeiten: {kmeans_k2.predict(E)}\")\n",
    "print()\n",
    "\n",
    "c_1 = kmeans_k2.cluster_centers_[0]\n",
    "c_2 = kmeans_k2.cluster_centers_[1]\n",
    "print(f\"Zentroiden: {kmeans_k2.cluster_centers_[0]}, {kmeans_k2.cluster_centers_[1]}\")"
   ]
  },
  {
   "cell_type": "markdown",
   "metadata": {},
   "source": [
    "## Aufgabe 2\n",
    "\n",
    "Wählen Sie $k = 3$ und als Initialisierungsmethode K-Means++. \n",
    "- Geben Sie die Clusterzugehörigkeiten aller Punkte an. \n",
    "- Geben Sie die finalen Zentroiden an."
   ]
  },
  {
   "cell_type": "code",
   "execution_count": 3,
   "metadata": {},
   "outputs": [
    {
     "name": "stdout",
     "output_type": "stream",
     "text": [
      "Clusterzogehörigkeiten: [2 0 2 2 0 0 1]\n",
      "\n",
      "Zentroiden: [14.3 24.8], [ 4.  16.5], [ 9.76666667 18.        ]\n"
     ]
    }
   ],
   "source": [
    "from sklearn.cluster import KMeans\n",
    "\n",
    "kmeans_k3 = KMeans(init=\"k-means++\", n_clusters=3, random_state=13).fit(E)\n",
    "predictions = kmeans_k3.predict(E)\n",
    "\n",
    "print(f\"Clusterzogehörigkeiten: {predictions}\\n\")\n",
    "\n",
    "c_1 = kmeans_k3.cluster_centers_[0]\n",
    "c_2 = kmeans_k3.cluster_centers_[1]\n",
    "print(\n",
    "    f\"Zentroiden: {kmeans_k3.cluster_centers_[0]}, {kmeans_k3.cluster_centers_[1]}, {kmeans_k3.cluster_centers_[2]}\"\n",
    ")"
   ]
  },
  {
   "cell_type": "markdown",
   "metadata": {},
   "source": [
    "## Aufgabe 3\n",
    "\n",
    "Berechnen Sie die Trägheit bzgl. $E$ sowohl für $k=2$ als auch für $k=3$."
   ]
  },
  {
   "cell_type": "code",
   "execution_count": 4,
   "metadata": {},
   "outputs": [
    {
     "name": "stdout",
     "output_type": "stream",
     "text": [
      "Trägheitsmaß für k=2: 69.875\n",
      "Trägheitsmaß für k=3: 43.24666666666666\n"
     ]
    }
   ],
   "source": [
    "print(f\"Trägheitsmaß für k=2: {kmeans_k2.inertia_}\")\n",
    "print(f\"Trägheitsmaß für k=3: {kmeans_k3.inertia_}\")"
   ]
  }
 ],
 "metadata": {
  "kernelspec": {
   "display_name": "venv",
   "language": "python",
   "name": "python3"
  },
  "language_info": {
   "codemirror_mode": {
    "name": "ipython",
    "version": 3
   },
   "file_extension": ".py",
   "mimetype": "text/x-python",
   "name": "python",
   "nbconvert_exporter": "python",
   "pygments_lexer": "ipython3",
   "version": "3.10.5"
  }
 },
 "nbformat": 4,
 "nbformat_minor": 2
}
