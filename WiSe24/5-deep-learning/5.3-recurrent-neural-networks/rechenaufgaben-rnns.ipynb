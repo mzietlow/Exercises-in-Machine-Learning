{
 "cells": [
  {
   "cell_type": "markdown",
   "metadata": {},
   "source": [
    "# Rechenaufgaben zu 5.3 (Recurrent Neural Networks)"
   ]
  },
  {
   "cell_type": "markdown",
   "metadata": {},
   "source": [
    "---"
   ]
  },
  {
   "cell_type": "markdown",
   "metadata": {},
   "source": [
    "## Rechenaufgabe 1\n",
    "\n",
    "Sei ein Alphabet gegeben durch\n",
    "\n",
    "$$\n",
    "\\Sigma=\\{a,e,s,t\\}\n",
    "$$\n",
    "\n",
    "**Aufgaben:**\n",
    "\n",
    "1. Bestimmen Sie eine One-Hot-Codierung für $\\Sigma$\n",
    "2. Wie ist demnach das Wort 'test' codiert?\n"
   ]
  },
  {
   "cell_type": "code",
   "execution_count": 11,
   "metadata": {},
   "outputs": [
    {
     "name": "stdout",
     "output_type": "stream",
     "text": [
      "1.) one_hot(Sigma) = ((1, 0, 0, 0), (0, 1, 0, 0), (0, 0, 1, 0), (0, 0, 0, 1))\n",
      "1.) one_hot('test') = ((0, 0, 0, 1), (0, 1, 0, 0), (0, 0, 1, 0), (0, 0, 0, 1))\n"
     ]
    }
   ],
   "source": [
    "def encode(sigma: str):\n",
    "    match sigma:\n",
    "        case \"a\":\n",
    "            return (1, 0, 0, 0)\n",
    "        case \"e\":\n",
    "            return (0, 1, 0, 0)\n",
    "        case \"s\":\n",
    "            return (0, 0, 1, 0)\n",
    "        case \"t\":\n",
    "            return (0, 0, 0, 1)\n",
    "\n",
    "\n",
    "def encode_word(word: str):\n",
    "    return tuple(encode(char) for char in word)\n",
    "\n",
    "\n",
    "print(f\"1.) one_hot(Sigma) = {encode_word('aest')}\")\n",
    "print(f\"1.) one_hot('test') = {encode_word('test')}\")"
   ]
  },
  {
   "attachments": {
    "image.png": {
     "image/png": "[encoded data removed]"
    }
   },
   "cell_type": "markdown",
   "metadata": {},
   "source": [
    "## Rechenaufgabe 2\n",
    "\n",
    "Gegeben sei das abgebildete einfache RNN\n",
    "\n",
    "![Abbildung eines einfachen RNNs](attachment:image.png)\n",
    "\n",
    "wobei\n",
    "\n",
    "$$\n",
    "\\Sigma=\\{\\text{ist}, \\text{nichts}, \\text{niemand}\\}=\\{(1,0,0)^T,(0,1,0)^T,(0,0,1)^T\\}\n",
    "$$\n",
    "\n",
    "$$\n",
    "U=\\begin{pmatrix}\n",
    "0 & 0.9 & 0.9\\\\\n",
    "0.5 & 0.1 & 0\\\\\n",
    "0.5 & 0 & 0.1\n",
    "\\end{pmatrix}\n",
    "$$\n",
    "\n",
    "$$\n",
    "W=\\begin{pmatrix}\n",
    "0 & 0.45 & 0.45\\\\\n",
    "0.25 & 0.05 & 0\\\\\n",
    "0.25 & 0 & 0.05\n",
    "\\end{pmatrix}\n",
    "$$\n",
    "\n",
    "$$\n",
    "V=\\begin{pmatrix}\n",
    "0.5 & 0 & 0\\\\\n",
    "0 & 0.5 & 0\\\\\n",
    "0 & 0 & 0.5\n",
    "\\end{pmatrix}\n",
    "$$\n",
    "\n",
    "sowie\n",
    "\n",
    "$$\n",
    "h_0=(0,1,1)^T\n",
    "$$\n",
    "\n",
    "\n",
    "Als Aktivierungsfunktion wählen wir $h^\\text{relu}$.\n",
    "\n",
    "**Aufgabe:** Berechnen Sie die Hidden States und die Ausgabe für die Eingabe $x=\\ \\text{'Niemand ist'}\\ =((0,0,1)^T,(1,0,0)^T)$."
   ]
  },
  {
   "cell_type": "code",
   "execution_count": 47,
   "metadata": {},
   "outputs": [
    {
     "name": "stdout",
     "output_type": "stream",
     "text": [
      "1.) h_1 = (1.8, 0.05, 0.15)\n",
      "2.) o_1 = (0.9, 0.025, 0.075), also 'ist'\n",
      "3.) h_2 = (0.09, 0.953, 0.958)\n",
      "4.) o_2 = (0.045, 0.476, 0.479), also 'Niemand'\n"
     ]
    }
   ],
   "source": [
    "from typing import Union\n",
    "import numpy as np\n",
    "\n",
    "\n",
    "def one_hot(x: str):\n",
    "    match (x):\n",
    "        case \"ist\":\n",
    "            return (1, 0, 0)\n",
    "        case \"nichts\":\n",
    "            return (0, 1, 0)\n",
    "        case \"Niemand\":\n",
    "            return (0, 0, 1)\n",
    "\n",
    "\n",
    "def argmax(lst: tuple):\n",
    "    return lst.index(max(lst))\n",
    "\n",
    "\n",
    "def one_hot_rev(x: tuple[int, int, int]):\n",
    "    list_argmax = argmax(x)\n",
    "    match (list_argmax):\n",
    "        case 0:\n",
    "            return \"ist\"\n",
    "        case 1:\n",
    "            return \"nichts\"\n",
    "        case 2:\n",
    "            return \"Niemand\"\n",
    "\n",
    "\n",
    "def vec_relu(x: list[float]):\n",
    "    return [relu(val) for val in x]\n",
    "\n",
    "\n",
    "def relu(x: Union[float, list[float]]):\n",
    "    if isinstance(x, list):\n",
    "        return vec_relu(x)\n",
    "\n",
    "    return max(0, x)\n",
    "\n",
    "\n",
    "def matrix_vector_product(matrix: list[list[float]], vector: list[float]):\n",
    "    result_vector = []\n",
    "    for row in matrix:\n",
    "        row_result = sum(\n",
    "            row_entry * vec_entry for row_entry, vec_entry in zip(row, vector)\n",
    "        )\n",
    "        result_vector += [row_result]\n",
    "\n",
    "    return result_vector\n",
    "\n",
    "\n",
    "def vector_sum(vec_1, vec_2):\n",
    "    return [val_1 + val_2 for val_1, val_2 in zip(vec_1, vec_2)]\n",
    "\n",
    "\n",
    "U = [\n",
    "    [0, 0.9, 0.9],\n",
    "    [0.5, 0.1, 0],\n",
    "    [0.5, 0, 0.1],\n",
    "]\n",
    "\n",
    "W = [\n",
    "    [0, 0.45, 0.45],\n",
    "    [0.25, 0.05, 0],\n",
    "    [0.25, 0, 0.05],\n",
    "]\n",
    "\n",
    "V = [\n",
    "    [0.5, 0, 0],\n",
    "    [0, 0.5, 0],\n",
    "    [0, 0, 0.5],\n",
    "]\n",
    "\n",
    "h_0 = [0, 1, 1]\n",
    "\n",
    "input_vector_1 = one_hot(\"Niemand\")\n",
    "input_vector_2 = one_hot(\"ist\")\n",
    "\n",
    "h_1 = relu(\n",
    "    vector_sum(matrix_vector_product(U, input_vector_1), matrix_vector_product(W, h_0))\n",
    ")\n",
    "\n",
    "o_1 = relu(matrix_vector_product(V, h_1))\n",
    "\n",
    "h_2 = relu(\n",
    "    vector_sum(matrix_vector_product(U, input_vector_2), matrix_vector_product(W, h_1))\n",
    ")\n",
    "\n",
    "o_2 = relu(matrix_vector_product(V, h_2))\n",
    "\n",
    "\n",
    "def round_vec(lst: list[float]):\n",
    "    return tuple(round(val, 3) for val in lst)\n",
    "\n",
    "\n",
    "print(f\"1.) h_1 = {round_vec(h_1)}\")\n",
    "print(f\"2.) o_1 = {round_vec(o_1)}, also '{one_hot_rev(o_1)}'\")\n",
    "print(f\"3.) h_2 = {round_vec(h_2)}\")\n",
    "print(f\"4.) o_2 = {round_vec(o_2)}, also '{one_hot_rev(o_2)}'\")"
   ]
  }
 ],
 "metadata": {
  "kernelspec": {
   "display_name": "venv",
   "language": "python",
   "name": "python3"
  },
  "language_info": {
   "codemirror_mode": {
    "name": "ipython",
    "version": 3
   },
   "file_extension": ".py",
   "mimetype": "text/x-python",
   "name": "python",
   "nbconvert_exporter": "python",
   "pygments_lexer": "ipython3",
   "version": "3.10.5"
  }
 },
 "nbformat": 4,
 "nbformat_minor": 2
}
