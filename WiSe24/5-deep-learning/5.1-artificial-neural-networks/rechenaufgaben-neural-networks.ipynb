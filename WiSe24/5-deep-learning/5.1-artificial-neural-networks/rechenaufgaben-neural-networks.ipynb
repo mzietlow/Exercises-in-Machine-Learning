{
 "cells": [
  {
   "cell_type": "markdown",
   "metadata": {},
   "source": [
    "# Rechenaufgaben zu 5.1 (Künstliche Neuronale Netzwerke)"
   ]
  },
  {
   "cell_type": "markdown",
   "metadata": {},
   "source": [
    "---"
   ]
  },
  {
   "attachments": {
    "image.png": {
     "image/png": "[encoded data removed]"
    }
   },
   "cell_type": "markdown",
   "metadata": {},
   "source": [
    "## Rechenaufgabe\n",
    "\n",
    "Gegeben sei das folgende neuronale Netzwerk.\n",
    "\n",
    "![image.png](attachment:image.png)\n",
    "\n",
    "\n",
    "Außerdem seien folgende Werte gegeben:\n",
    "\n",
    "- $x_1=0.1$\n",
    "- $x_0=0.2$\n",
    "- $a^{(1)}_0=0.05$\n",
    "\n",
    "Der gewünschte Ausgabewert bei der gegebenen Eingabe ist $y=0.3$.\n",
    "\n",
    "**Aufgaben:**\n",
    "\n",
    "Führen Sie eine Iteration des Backpropagation-Algorithmus durch, indem Sie die folgenden Schritte ausführen.\n",
    "\n",
    "Verwenden Sie als Aktivierungsfunktion ReLU und als Lernrate $\\gamma=0.1$.\n",
    "\n",
    "1. Führen Sie den Forward-Pass durch. Wie lautet der Ausgabewert $\\phi(x)$\n",
    "2. Berechnen Sie den Wert $\\operatorname{cost}(y,a^{(2)}_1)$, wobei $\\operatorname{cost}$ die logistische Kostenfunktion sei.\n",
    "3. Berechnen Sie den Fehler für $a^{(2)}_1$\n",
    "4. Berechnen Sie das aktualisierte Gewicht $w^\\text{neu}_1$\n",
    "5. Berechnen Sie den Fehler für $a^{(1)}_{1}$\n",
    "6. Berechnen Sie das aktualisierte Gewicht $w^\\text{neu}_0$\n",
    "7. Führen Sie nochmal einen Forward-Pass durch. Wie lautet der neue Ausgabewert $\\phi(x)$\n"
   ]
  },
  {
   "cell_type": "code",
   "execution_count": 92,
   "metadata": {},
   "outputs": [
    {
     "name": "stdout",
     "output_type": "stream",
     "text": [
      "1.) phi(x)=0.500\n"
     ]
    }
   ],
   "source": [
    "x_0 = 0.2\n",
    "x_1 = 0.1\n",
    "a_1_0 = 0.05\n",
    "\n",
    "w_0 = 1\n",
    "w_1 = 1.5\n",
    "\n",
    "learning_rate = 0.1\n",
    "\n",
    "\n",
    "def relu(x):\n",
    "    return max(0, x)\n",
    "\n",
    "\n",
    "# forward pass\n",
    "\n",
    "## layer 1\n",
    "z_1_1 = (w_0 * x_1) + (1 * x_0)\n",
    "a_1_1 = relu(z_1_1)\n",
    "\n",
    "## layer 2\n",
    "z_2_1 = (w_1 * a_1_1) + (1 * a_1_0)\n",
    "a_2_1 = relu(z_2_1)\n",
    "\n",
    "print(f\"1.) phi(x)={a_2_1:0.3f}\")"
   ]
  },
  {
   "cell_type": "code",
   "execution_count": null,
   "metadata": {},
   "outputs": [
    {
     "name": "stdout",
     "output_type": "stream",
     "text": [
      "2.) cost(y, a^(2)_1) = 0.693\n"
     ]
    }
   ],
   "source": [
    "from math import log\n",
    "\n",
    "\n",
    "def logistic_cost(y, y_hat):\n",
    "    return -(y * log(y_hat) + (1 - y) * log(1 - y_hat))\n",
    "\n",
    "\n",
    "cost_iteration_0 = logistic_cost(0.3, a_2_1)\n",
    "print(f\"2.) cost(y, a^(2)_1) = {cost_iteration_0:0.3f}\")"
   ]
  },
  {
   "cell_type": "code",
   "execution_count": 126,
   "metadata": {},
   "outputs": [
    {
     "name": "stdout",
     "output_type": "stream",
     "text": [
      "3.) delta(z^(2)_1) = 0.800\n"
     ]
    }
   ],
   "source": [
    "def relu_derivative(x):\n",
    "    if x > 0:\n",
    "        return 1\n",
    "    if x < 0:\n",
    "        return 0\n",
    "    else:\n",
    "        return float(\"NaN\")\n",
    "\n",
    "\n",
    "def derivative_of_cost_wrt_z(y, z):\n",
    "    \"\"\"\n",
    "    Wir bilden die Ableitung\n",
    "    \\partial -(y * log(relu(z)) + (1 - y) * log(1 - relu(z))) / \\partial z\n",
    "\n",
    "    Mit Hilfe der Faktorregel, der Ableitung log'(x)=1/x und der Kettenregel erhalten wir:\n",
    "    \"\"\"\n",
    "    return -((y / relu(z)) - (1 - y) / (1 - relu(z))) * relu_derivative(z)\n",
    "\n",
    "\n",
    "delta_z_2_1 = derivative_of_cost_wrt_z(0.3, z_2_1)\n",
    "\n",
    "print(f\"3.) delta(z^(2)_1) = {delta_z_2_1:0.3f}\")"
   ]
  },
  {
   "cell_type": "code",
   "execution_count": null,
   "metadata": {},
   "outputs": [
    {
     "name": "stdout",
     "output_type": "stream",
     "text": [
      "4.) w^(neu)_1 = 1.476\n"
     ]
    }
   ],
   "source": [
    "derivative_wrt_w_1 = delta_z_2_1 * a_1_1\n",
    "w_1_neu = w_1 - learning_rate * derivative_wrt_w_1\n",
    "\n",
    "print(f\"4.) w^(neu)_1 = {w_1_neu}\")"
   ]
  },
  {
   "cell_type": "code",
   "execution_count": null,
   "metadata": {},
   "outputs": [
    {
     "name": "stdout",
     "output_type": "stream",
     "text": [
      "5.) delta(z^(1)_1) = 1.200\n"
     ]
    }
   ],
   "source": [
    "delta_a_1_1 = relu_derivative(z_1_1) * w_1 * delta_z_2_1\n",
    "print(f\"5.) delta(z^(1)_1) = {delta_a_1_1:0.3f}\")"
   ]
  },
  {
   "cell_type": "code",
   "execution_count": 114,
   "metadata": {},
   "outputs": [
    {
     "name": "stdout",
     "output_type": "stream",
     "text": [
      "6.) w^(neu)_0 = 0.988\n"
     ]
    }
   ],
   "source": [
    "derivative_wrt_w_0 = delta_a_1_1 * x_1\n",
    "w_0_neu = w_0 - learning_rate * derivative_wrt_w_0\n",
    "\n",
    "print(f\"6.) w^(neu)_0 = {w_0_neu:0.3f}\")"
   ]
  },
  {
   "cell_type": "code",
   "execution_count": 115,
   "metadata": {},
   "outputs": [
    {
     "name": "stdout",
     "output_type": "stream",
     "text": [
      "7.) phi(x)=0.491\n"
     ]
    }
   ],
   "source": [
    "# forward pass\n",
    "\n",
    "## layer 1\n",
    "z_1_1_neu = (w_0_neu * x_1) + (1 * x_0)\n",
    "a_1_1_neu = relu(z_1_1_neu)\n",
    "\n",
    "## layer 2\n",
    "z_2_1_neu = (w_1_neu * a_1_1_neu) + (1 * a_1_0)\n",
    "a_2_1_neu = relu(z_2_1_neu)\n",
    "\n",
    "print(f\"7.) phi(x)={a_2_1_neu:0.3f}\")"
   ]
  }
 ],
 "metadata": {
  "kernelspec": {
   "display_name": "venv",
   "language": "python",
   "name": "python3"
  },
  "language_info": {
   "codemirror_mode": {
    "name": "ipython",
    "version": 3
   },
   "file_extension": ".py",
   "mimetype": "text/x-python",
   "name": "python",
   "nbconvert_exporter": "python",
   "pygments_lexer": "ipython3",
   "version": "3.10.5"
  }
 },
 "nbformat": 4,
 "nbformat_minor": 2
}
