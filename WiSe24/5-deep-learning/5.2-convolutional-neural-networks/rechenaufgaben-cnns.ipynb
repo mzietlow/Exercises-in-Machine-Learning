{
 "cells": [
  {
   "cell_type": "markdown",
   "metadata": {},
   "source": [
    "# Rechenaufgaben zu 5.2 (Convolutional Neural Networks)"
   ]
  },
  {
   "cell_type": "markdown",
   "metadata": {},
   "source": [
    "---"
   ]
  },
  {
   "cell_type": "markdown",
   "metadata": {},
   "source": [
    "## Rechenaufgabe 1\n",
    "\n",
    "Seien $M_I$ und $M_K$ wie folgt definiert:\n",
    "\n",
    "$$\n",
    "M_I= \\begin{pmatrix}\n",
    "1 & 2 & 3 & 4 & 5 \\\\\n",
    "3 & 5 & 2 & 1 & 3 \\\\\n",
    "5 & 7 & 10 & 2 & 7 \\\\\n",
    "6 & 8 & 13 & 7 & 1 \\\\\n",
    "10 & 12 & 10 & 9 & 8\n",
    "\\end{pmatrix} \n",
    "$$\n",
    "\n",
    "$$\n",
    "M_K=\\begin{pmatrix}\n",
    "1 & 0 & -1 \\\\\n",
    "2 & 0 & -2 \\\\\n",
    "1 & 0 & -1\n",
    "\\end{pmatrix}\n",
    "$$\n",
    "\n",
    "**Aufgabe:** Berechnen Sie die Faltung $M_I \\star M_K$ ohne Padding und mit einem Stride von 1.\n"
   ]
  },
  {
   "cell_type": "code",
   "execution_count": 29,
   "metadata": {},
   "outputs": [
    {
     "data": {
      "text/plain": [
       "[[-5, 11, -1], [-16, 15, 17], [-19, 10, 29]]"
      ]
     },
     "execution_count": 29,
     "metadata": {},
     "output_type": "execute_result"
    }
   ],
   "source": [
    "def frob_scalprod(a_mat: list[list[int]], b_mat: list[list[int]]) -> int:\n",
    "    return sum(\n",
    "        a * b for a_row, b_row in zip(a_mat, b_mat) for a, b in zip(a_row, b_row)\n",
    "    )\n",
    "\n",
    "\n",
    "def conv_without_padding_and_stride_1(input_mat, kernel_mat):\n",
    "    kernel_height, kernel_width = len(kernel_mat), len(kernel_mat[0])\n",
    "    input_height, input_width = len(input_mat), len(input_mat[0])\n",
    "\n",
    "    result = []\n",
    "\n",
    "    for i in range(input_height - kernel_height + 1):\n",
    "        selected_input_rows = input_mat[i : i + kernel_height]\n",
    "        sub_result = []\n",
    "        for j in range(input_width - kernel_width + 1):\n",
    "            sub_input_mat = [row[j : j + kernel_width] for row in selected_input_rows]\n",
    "            frob_result = frob_scalprod(sub_input_mat, kernel_mat)\n",
    "            sub_result += [frob_result]\n",
    "\n",
    "        result += [sub_result]\n",
    "\n",
    "    return result\n",
    "\n",
    "\n",
    "M_I = [\n",
    "    [1, 2, 3, 4, 5],\n",
    "    [3, 5, 2, 1, 3],\n",
    "    [5, 7, 10, 2, 7],\n",
    "    [6, 8, 13, 7, 1],\n",
    "    [10, 12, 10, 9, 8],\n",
    "]\n",
    "\n",
    "M_K = [\n",
    "    [1, 0, -1],\n",
    "    [2, 0, -2],\n",
    "    [1, 0, -1],\n",
    "]\n",
    "\n",
    "conv_without_padding_and_stride_1(M_I, M_K)"
   ]
  },
  {
   "cell_type": "markdown",
   "metadata": {},
   "source": [
    "## Rechenaufgabe 2\n",
    "\n",
    "Seien $M$ wie folgt definiert:\n",
    "\n",
    "$$\n",
    "M=\\begin{pmatrix}\n",
    "1 & 3 & 4 & 10\\\\\n",
    "1 & 2 & 5 & 12\\\\\n",
    "2 & 3 & 0 & 1\\\\\n",
    "4 & 5 & 2 & 1\n",
    "\\end{pmatrix}\n",
    "$$\n",
    "\n",
    "**Aufgabe:** Wenden Sie $2\\times 2$-Max-Pooling mit einem Stride von $2$ an."
   ]
  },
  {
   "cell_type": "code",
   "execution_count": 30,
   "metadata": {},
   "outputs": [
    {
     "data": {
      "text/plain": [
       "[[3, 12], [5, 2]]"
      ]
     },
     "execution_count": 30,
     "metadata": {},
     "output_type": "execute_result"
    }
   ],
   "source": [
    "M = [\n",
    "    [1, 3, 4, 10],\n",
    "    [1, 2, 5, 12],\n",
    "    [2, 3, 0, 1],\n",
    "    [4, 5, 2, 1],\n",
    "]\n",
    "\n",
    "\n",
    "def sub_max_pool(submatrix):\n",
    "    return max([val for row in submatrix for val in row])\n",
    "\n",
    "\n",
    "def max_pool(matrix, kernel_size, stride):\n",
    "    matrix_height, matrix_width = len(matrix), len(matrix[0])\n",
    "    result = []\n",
    "    for i in range(0, matrix_height - 1, stride):\n",
    "        sub_result = []\n",
    "        for j in range(0, matrix_width - 1, stride):\n",
    "            sub_pool_result = sub_max_pool(\n",
    "                [row[j : j + kernel_size] for row in matrix[i : i + kernel_size]]\n",
    "            )\n",
    "            sub_result += [sub_pool_result]\n",
    "\n",
    "        result += [sub_result]\n",
    "\n",
    "    return result\n",
    "\n",
    "\n",
    "max_pool(M, 2, 2)"
   ]
  },
  {
   "cell_type": "markdown",
   "metadata": {},
   "source": [
    "## Rechenaufgabe 3\n",
    "\n",
    "Angenommen, Sie haben als Eingabe für ein CNN ein RGB-Bild der Größe $994 \\times 994$. Die Dimensionen dieser Eingabe sind also, die $3$ Farbkanäle eingerechnet, $3 \\times 994 \\times 994$.\n",
    "\n",
    "In der Architektur des CNNs sei festgelegt, dass als erstes eine Faltung mit $9$ $3 \\times 3$-Filtern (ohne Padding und mit Stride $1$) durchgeführt wird.\n",
    "\n",
    "**Aufgaben:** \n",
    "\n",
    "1. Wie lauten nun die Dimensionen der Feature Map?\n",
    "2. Nun wird auf der Feature Map eine $2 \\times 2$-Pooling-Operation (mit Stride $2$) durchgeführt.\n",
    "    - Wie lauten die Dimensionen der daraus resultierenden Feature Map?\n",
    "3. Nun wird eine Faltung mit $7$ $5 \\times 5$-Filtern (wieder ohne Padding und mit Stride $1$) durchgeführt.\n",
    "    - Wie lauten die Dimensionen der resultierenden Feature Map?\n",
    "4. Nun wird eine $4\\times 4$-Pooling-Operation (mit Stride $4$) durchgeführt.\n",
    "    - Wie lauten die Dimensionen der resultierenden Feature Map?"
   ]
  },
  {
   "cell_type": "code",
   "execution_count": 10,
   "metadata": {},
   "outputs": [
    {
     "name": "stdout",
     "output_type": "stream",
     "text": [
      "1.) Dimensionen der ersten Feature Map: (27, 992, 992)\n",
      "2.) Dimensionen der zweite Feature Map: (27, 496, 496)\n",
      "3.) Dimensionen der dritten Feature Map: (189, 492, 492)\n",
      "4.) Dimensionen der vierten Feature Map: (189, 123, 123)\n"
     ]
    }
   ],
   "source": [
    "def calc_feature_map_dim(\n",
    "    dims: tuple[int, int, int], number_of_kernels, kernel: tuple[int, int], stride\n",
    "):\n",
    "    channel, width, height = dims\n",
    "    kernel_width, kernel_height = kernel\n",
    "\n",
    "    feat_map_channels = channel * number_of_kernels\n",
    "    feat_map_width = int((width - kernel_width) / stride) + 1\n",
    "    feat_map_height = int((height - kernel_height) / stride) + 1\n",
    "\n",
    "    return feat_map_channels, feat_map_width, feat_map_height\n",
    "\n",
    "\n",
    "input_dims = (3, 994, 994)\n",
    "\n",
    "first_feature_map_dims = calc_feature_map_dim(input_dims, 9, (3, 3), 1)\n",
    "\n",
    "second_feature_map_dims = calc_feature_map_dim(first_feature_map_dims, 1, (2, 2), 2)\n",
    "\n",
    "third_feature_map_dims = calc_feature_map_dim(second_feature_map_dims, 7, (5, 5), 1)\n",
    "\n",
    "fourth_feature_map_dims = calc_feature_map_dim(third_feature_map_dims, 1, (4, 4), 4)\n",
    "\n",
    "\n",
    "print(f\"1.) Dimensionen der ersten Feature Map: {first_feature_map_dims}\")\n",
    "print(f\"2.) Dimensionen der zweite Feature Map: {second_feature_map_dims}\")\n",
    "print(f\"3.) Dimensionen der dritten Feature Map: {third_feature_map_dims}\")\n",
    "print(f\"4.) Dimensionen der vierten Feature Map: {fourth_feature_map_dims}\")"
   ]
  }
 ],
 "metadata": {
  "kernelspec": {
   "display_name": "venv",
   "language": "python",
   "name": "python3"
  },
  "language_info": {
   "codemirror_mode": {
    "name": "ipython",
    "version": 3
   },
   "file_extension": ".py",
   "mimetype": "text/x-python",
   "name": "python",
   "nbconvert_exporter": "python",
   "pygments_lexer": "ipython3",
   "version": "3.10.5"
  }
 },
 "nbformat": 4,
 "nbformat_minor": 2
}
