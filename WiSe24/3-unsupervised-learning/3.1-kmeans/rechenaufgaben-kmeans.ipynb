{
 "cells": [
  {
   "cell_type": "markdown",
   "metadata": {},
   "source": [
    "# Rechenaufgaben zu 3.1 (K-Means Clustering)"
   ]
  },
  {
   "cell_type": "markdown",
   "metadata": {},
   "source": [
    "---"
   ]
  },
  {
   "cell_type": "markdown",
   "metadata": {},
   "source": [
    "## Rechenaufgabe\n",
    "\n",
    "Sei ein Datensatz $E$ gegeben durch\n",
    "\n",
    "$$\n",
    "E=\\{(4, 3.5), (1.3, 1.3), (5, 4.7), (3.3, 4.5), (6.2, 3.9)\\}\n",
    "$$\n",
    "\n",
    "Wählen Sie (für $k = 2$) als initiale Zentroiden $m_1 = (4, 3.5)$ und $m_2 = (5, 4.7)$.\n",
    "\n",
    "**Aufgaben**:\n",
    "\n",
    "1. Berechnen Sie für alle Punkte in E die Cluster-Zugehörigkeit. Geben Sie für jeden Punkt jeweils die Abstände $\\varphi$ zu den Zentroiden an.\n",
    "2. Berechnen Sie die Zentroiden $m_1$ und $m_2$ neu.\n",
    "3. Berechnen Sie erneut die Clusterzugehörigkeiten und geben Sie an, aus welchen Punkten die resultierenden Cluster bestehen."
   ]
  },
  {
   "cell_type": "code",
   "execution_count": 24,
   "metadata": {},
   "outputs": [
    {
     "name": "stdout",
     "output_type": "stream",
     "text": [
      "--- Aufgabe 1 ---\n",
      "dist(x_0, m_1)=0.000\n",
      "dist(x_0, m_2)=1.562\n",
      "clust(x_0)=C_1\n",
      "dist(x_1, m_1)=3.483\n",
      "dist(x_1, m_2)=5.025\n",
      "clust(x_1)=C_1\n",
      "dist(x_2, m_1)=1.562\n",
      "dist(x_2, m_2)=0.000\n",
      "clust(x_2)=C_2\n",
      "dist(x_3, m_1)=1.221\n",
      "dist(x_3, m_2)=1.712\n",
      "clust(x_3)=C_1\n",
      "dist(x_4, m_1)=2.236\n",
      "dist(x_4, m_2)=1.442\n",
      "clust(x_4)=C_2\n"
     ]
    }
   ],
   "source": [
    "E = [(4, 3.5), (1.3, 1.3), (5, 4.7), (3.3, 4.5), (6.2, 3.9)]\n",
    "\n",
    "m_1 = (4, 3.5)\n",
    "m_2 = (5, 4.7)\n",
    "\n",
    "\n",
    "def dist(x, centroid):\n",
    "    x_1, x_2 = x\n",
    "    c_1, c_2 = centroid\n",
    "\n",
    "    return ((x_1 - c_1) ** 2 + (x_2 - c_2) ** 2) ** (1 / 2)\n",
    "\n",
    "\n",
    "def get_cluster(x, centroids):\n",
    "    c_1, c_2 = centroids\n",
    "    return \"C_1\" if dist(x, m_1) < dist(x, m_2) else \"C_2\"\n",
    "\n",
    "\n",
    "print(\"--- Aufgabe 1 ---\")\n",
    "\n",
    "for i, x in enumerate(E):\n",
    "    dist_to_m_1 = dist(x, m_1)\n",
    "    dist_to_m_2 = dist(x, m_2)\n",
    "\n",
    "    print(f\"dist(x_{i}, m_1)={dist_to_m_1:0.3f}\")\n",
    "    print(f\"dist(x_{i}, m_2)={dist_to_m_2:0.3f}\")\n",
    "\n",
    "    print(f\"clust(x_{i})={get_cluster(x, (m_1, m_2))}\")"
   ]
  },
  {
   "cell_type": "code",
   "execution_count": 25,
   "metadata": {},
   "outputs": [
    {
     "name": "stdout",
     "output_type": "stream",
     "text": [
      "--- Aufgabe 2 ---\n",
      "m_1' = (2.867, 3.1)\n",
      "m_2' = (5.6, 4.3)\n"
     ]
    }
   ],
   "source": [
    "print(\"--- Aufgabe 2 ---\")\n",
    "\n",
    "\n",
    "def recalc_centroid(cluster_name: str):\n",
    "    cluster_points = [x for x in E if get_cluster(x, (m_1, m_2)) == cluster_name]\n",
    "\n",
    "    dim_1_vals = [x[0] for x in cluster_points]\n",
    "    dim_2_vals = [x[1] for x in cluster_points]\n",
    "\n",
    "    dim_1_avg = sum(dim_1_vals) / len(dim_1_vals)\n",
    "    dim_2_avg = sum(dim_2_vals) / len(dim_2_vals)\n",
    "\n",
    "    return (round(dim_1_avg, 3), round(dim_2_avg, 3))\n",
    "\n",
    "\n",
    "m_1_prime = recalc_centroid(\"C_1\")\n",
    "m_2_prime = recalc_centroid(\"C_2\")\n",
    "\n",
    "print(f\"m_1' = {m_1_prime}\")\n",
    "print(f\"m_2' = {m_2_prime}\")"
   ]
  },
  {
   "cell_type": "code",
   "execution_count": 26,
   "metadata": {},
   "outputs": [
    {
     "name": "stdout",
     "output_type": "stream",
     "text": [
      "--- Aufgabe 3 ---\n",
      "dist(x_0, m_1')=1.202\n",
      "dist(x_0, m_2')=1.789\n",
      "clust(x_0)=C_1; (4, 3.5)\n",
      "dist(x_1, m_1')=2.387\n",
      "dist(x_1, m_2')=5.243\n",
      "clust(x_1)=C_1; (1.3, 1.3)\n",
      "dist(x_2, m_1')=2.666\n",
      "dist(x_2, m_2')=0.721\n",
      "clust(x_2)=C_2; (5, 4.7)\n",
      "dist(x_3, m_1')=1.465\n",
      "dist(x_3, m_2')=2.309\n",
      "clust(x_3)=C_1; (3.3, 4.5)\n",
      "dist(x_4, m_1')=3.428\n",
      "dist(x_4, m_2')=0.721\n",
      "clust(x_4)=C_2; (6.2, 3.9)\n"
     ]
    }
   ],
   "source": [
    "print(\"--- Aufgabe 3 ---\")\n",
    "\n",
    "for i, x in enumerate(E):\n",
    "    dist_to_m_1 = dist(x, m_1_prime)\n",
    "    dist_to_m_2 = dist(x, m_2_prime)\n",
    "\n",
    "    print(f\"dist(x_{i}, m_1')={dist_to_m_1:0.3f}\")\n",
    "    print(f\"dist(x_{i}, m_2')={dist_to_m_2:0.3f}\")\n",
    "\n",
    "    print(f\"clust(x_{i})={get_cluster(x, (m_1_prime, m_2_prime))}; {x}\")"
   ]
  }
 ],
 "metadata": {
  "kernelspec": {
   "display_name": "venv",
   "language": "python",
   "name": "python3"
  },
  "language_info": {
   "codemirror_mode": {
    "name": "ipython",
    "version": 3
   },
   "file_extension": ".py",
   "mimetype": "text/x-python",
   "name": "python",
   "nbconvert_exporter": "python",
   "pygments_lexer": "ipython3",
   "version": "3.10.5"
  }
 },
 "nbformat": 4,
 "nbformat_minor": 2
}
