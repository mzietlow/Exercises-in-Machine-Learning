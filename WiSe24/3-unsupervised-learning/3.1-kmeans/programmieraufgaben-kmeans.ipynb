{
 "cells": [
  {
   "cell_type": "markdown",
   "metadata": {},
   "source": [
    "# Programmieraufgaben zu 3.1 (K-Means Clustering)"
   ]
  },
  {
   "cell_type": "markdown",
   "metadata": {},
   "source": [
    "---"
   ]
  },
  {
   "cell_type": "markdown",
   "metadata": {},
   "source": [
    "## Programmieraufgabe\n",
    "\n",
    "Sei ein Datensatz E gegeben durch\n",
    "\n",
    "$$\n",
    "E=\\{(8.5, 16), (12.4, 26.8), (9.3, 21), (11.5, 17), (17.5, 25), (13, 22.6), (4, 16.5)\\}\n",
    "$$\n",
    "\n",
    "Nutzen Sie Python und scikit-learn, um die folgenden Aufgaben zu bearbeiten.\n",
    "\n",
    "**Aufgaben**:\n",
    "\n",
    "1. Wählen Sie k = 2 und als Initialisierungsmethode K-Means++. \n",
    "    - Geben Sie die Clusterzugehörigkeiten aller Punkte an.\n",
    "    - Geben Sie die finalen Zentroiden an.\n",
    "2. Wählen Sie nun k = 3.\n",
    "    - Geben Sie die Clusterzugehörigkeiten aller Punkte an.\n",
    "    - Geben Sie die finalen Zentroiden an.\n",
    "3.Berechnen Sie die Trägheit bzgl. E sowohl für k = 2 als auch für k = 3."
   ]
  },
  {
   "cell_type": "code",
   "execution_count": 215,
   "metadata": {},
   "outputs": [
    {
     "name": "stdout",
     "output_type": "stream",
     "text": [
      "----- Aufgabe 1 -----\n",
      "cluster(E) = [1 0 1 1 0 0 1]\n",
      "m_0 = (14.3, 24.8)\n",
      "m_1 = (8.325, 17.625)\n",
      "inertia(k=2) = 69.875\n",
      "\n",
      "----- Aufgabe 2 -----\n",
      "cluster(E) = [2 0 1 2 0 1 2]\n",
      "m_0 = (14.95, 25.9)\n",
      "m_1 = (11.15, 21.8)\n",
      "m_2 = (8.0, 16.5)\n",
      "inertia(k=3) = 51.750\n"
     ]
    }
   ],
   "source": [
    "from sklearn.cluster import KMeans\n",
    "\n",
    "\n",
    "E = [(8.5, 16), (12.4, 26.8), (9.3, 21), (11.5, 17), (17.5, 25), (13, 22.6), (4, 16.5)]\n",
    "\n",
    "print(\"----- Aufgabe 1 -----\")\n",
    "\n",
    "cluster = KMeans(n_clusters=2, init=\"k-means++\").fit(E)\n",
    "\n",
    "print(f\"cluster(E) = {cluster.labels_}\")\n",
    "print(f\"m_0 = {tuple(cluster.cluster_centers_[0])}\")\n",
    "print(f\"m_1 = {tuple(cluster.cluster_centers_[1])}\")\n",
    "print(f\"inertia(k=2) = {cluster.inertia_:0.3f}\")\n",
    "\n",
    "print()\n",
    "\n",
    "print(\"----- Aufgabe 2 -----\")\n",
    "\n",
    "cluster = KMeans(n_clusters=3, init=\"k-means++\").fit(E)\n",
    "\n",
    "print(f\"cluster(E) = {cluster.labels_}\")\n",
    "print(f\"m_0 = {tuple(cluster.cluster_centers_[0])}\")\n",
    "print(f\"m_1 = {tuple(cluster.cluster_centers_[1])}\")\n",
    "print(f\"m_2 = {tuple(cluster.cluster_centers_[2])}\")\n",
    "print(f\"inertia(k=3) = {cluster.inertia_:0.3f}\")"
   ]
  }
 ],
 "metadata": {
  "kernelspec": {
   "display_name": "venv",
   "language": "python",
   "name": "python3"
  },
  "language_info": {
   "codemirror_mode": {
    "name": "ipython",
    "version": 3
   },
   "file_extension": ".py",
   "mimetype": "text/x-python",
   "name": "python",
   "nbconvert_exporter": "python",
   "pygments_lexer": "ipython3",
   "version": "3.10.5"
  }
 },
 "nbformat": 4,
 "nbformat_minor": 2
}
