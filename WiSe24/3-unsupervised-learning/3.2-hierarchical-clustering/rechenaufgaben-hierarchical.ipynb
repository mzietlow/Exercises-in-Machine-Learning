{
 "cells": [
  {
   "cell_type": "markdown",
   "metadata": {},
   "source": [
    "# Rechenaufgaben zu 3.2 (Hierarchical Clustering)"
   ]
  },
  {
   "cell_type": "markdown",
   "metadata": {},
   "source": [
    "---"
   ]
  },
  {
   "cell_type": "markdown",
   "metadata": {},
   "source": [
    "## Rechenaufgabe\n",
    "\n",
    "Sei ein Datensatz $E$ gegeben durch\n",
    "\n",
    "$$\n",
    "E=\\{x_1 = (2.8, 12.5), x_2 = (3.9, 6.7), x_3 = (14, 17.3), x_4 = (14.7, 17.2)\\}\n",
    "$$\n",
    "\n",
    "Sei $X$ die Menge der Cluster und sei initial $X := \\{\\{x_1\\}, \\{x_2\\}, \\{x_3\\}, \\{x_4\\}\\}$.\n",
    "\n",
    "**Aufgaben**:\n",
    "\n",
    "1. Berechnen Sie $D_\\text{single}(X_1 , X_2)$ für alle $X_1 , X_2 \\in X$ (mit $X_1 \\neq X_2$).\n",
    "2. Bestimmen Sie, welche initialen Cluster nun zusammengelegt werden und geben Sie das Ergebnis-Clustering an.\n",
    "3. Berechnen Sie nun $D_\\text{single}(X_1 , X_2)$ für alle $X_1, X_2$ im aktualisierten Cluster $X$.\n",
    "4. Bestimmen Sie, welche Cluster nun zusammengelegt werden und geben Sie das Ergebnis-Clustering an.\n",
    "5. Wo liegt der Schwellwert für das im zweiten Schritt gebildete Clustering?\n"
   ]
  },
  {
   "cell_type": "code",
   "execution_count": null,
   "metadata": {},
   "outputs": [
    {
     "name": "stdout",
     "output_type": "stream",
     "text": [
      "------ Aufgabe 1 ------\n",
      "D_single(X_1 , X_2) = 5.903\n",
      "D_single(X_1 , X_3) = 12.185\n",
      "D_single(X_1 , X_4) = 12.795\n",
      "D_single(X_2 , X_3) = 14.641\n",
      "D_single(X_2 , X_4) = 15.063\n",
      "D_single(X_3 , X_4) = 0.707\n",
      "\n",
      "------ Aufgabe 2 ------\n",
      "X = {{x_1}, {x_2}, {x_3, x_4}}\n",
      "\n",
      "------ Aufgabe 3 ------\n",
      "D_single(X_1 , X_2) = 5.903\n",
      "D_single(X_1 , X_3) = 12.185\n",
      "D_single(X_2 , X_3) = 14.641\n",
      "\n",
      "------ Aufgabe 4 ------\n",
      "Schwellwert (D_single(X_1, X_2)) = 5.903\n"
     ]
    }
   ],
   "source": [
    "def dist(x, y):\n",
    "    x_1, x_2 = x\n",
    "    y_1, y_2 = y\n",
    "\n",
    "    return ((x_1 - y_1) ** 2 + (x_2 - y_2) ** 2) ** (1 / 2)\n",
    "\n",
    "\n",
    "def single_linkage_dist(X_1: list[float], X_2: list[float]):\n",
    "    all_distances = [dist(x_1, x_2) for x_1 in X_1 for x_2 in X_2]\n",
    "    return min(all_distances)\n",
    "\n",
    "\n",
    "x_1 = (2.8, 12.5)\n",
    "x_2 = (3.9, 6.7)\n",
    "x_3 = (14, 17.3)\n",
    "x_4 = (14.7, 17.2)\n",
    "\n",
    "E = [[x_1], [x_2], [x_3], [x_4]]\n",
    "\n",
    "print(\"------ Aufgabe 1 ------\")\n",
    "\n",
    "visited = []\n",
    "for i, X_i in enumerate(E, start=1):\n",
    "    for j, X_j in enumerate(E, start=1):\n",
    "\n",
    "        if i == j or {i, j} in visited:\n",
    "            continue\n",
    "\n",
    "        print(f\"D_single(X_{i} , X_{j}) = {single_linkage_dist(X_i, X_j):0.3f}\")\n",
    "        visited += [{i, j}]"
   ]
  },
  {
   "cell_type": "code",
   "execution_count": 79,
   "metadata": {},
   "outputs": [
    {
     "name": "stdout",
     "output_type": "stream",
     "text": [
      "------ Aufgabe 2 ------\n",
      "X = {{x_1}, {x_2}, {x_3, x_4}}\n"
     ]
    }
   ],
   "source": [
    "print(\"------ Aufgabe 2 ------\")\n",
    "\n",
    "X_1 = [x_1]\n",
    "X_2 = [x_2]\n",
    "X_3 = [x_3, x_4]\n",
    "\n",
    "E_prime = [X_1, X_2, X_3]\n",
    "\n",
    "print(\"X = {{x_1}, {x_2}, {x_3, x_4}}\")"
   ]
  },
  {
   "cell_type": "code",
   "execution_count": 80,
   "metadata": {},
   "outputs": [
    {
     "name": "stdout",
     "output_type": "stream",
     "text": [
      "------ Aufgabe 3 ------\n",
      "D_single(X_1 , X_2) = 5.903\n",
      "D_single(X_1 , X_3) = 12.185\n",
      "D_single(X_2 , X_3) = 14.641\n",
      "\n",
      "------ Aufgabe 4 ------\n",
      "Schwellwert (D_single(X_1, X_2)) = 5.903\n"
     ]
    }
   ],
   "source": [
    "print(\"------ Aufgabe 3 ------\")\n",
    "\n",
    "visited = []\n",
    "for i, X_i in enumerate(E_prime, start=1):\n",
    "    for j, X_j in enumerate(E_prime, start=1):\n",
    "\n",
    "        if i == j or {i, j} in visited:\n",
    "            continue\n",
    "\n",
    "        print(f\"D_single(X_{i} , X_{j}) = {single_linkage_dist(X_i, X_j):0.3f}\")\n",
    "        visited += [{i, j}]\n",
    "\n",
    "print()\n",
    "print(\"------ Aufgabe 4 ------\")\n",
    "print(f\"Schwellwert (D_single(X_1, X_2)) = 5.903\")"
   ]
  }
 ],
 "metadata": {
  "kernelspec": {
   "display_name": "venv",
   "language": "python",
   "name": "python3"
  },
  "language_info": {
   "codemirror_mode": {
    "name": "ipython",
    "version": 3
   },
   "file_extension": ".py",
   "mimetype": "text/x-python",
   "name": "python",
   "nbconvert_exporter": "python",
   "pygments_lexer": "ipython3",
   "version": "3.10.5"
  }
 },
 "nbformat": 4,
 "nbformat_minor": 2
}
