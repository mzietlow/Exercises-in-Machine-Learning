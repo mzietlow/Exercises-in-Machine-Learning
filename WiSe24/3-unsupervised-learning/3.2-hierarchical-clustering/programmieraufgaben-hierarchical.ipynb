{
 "cells": [
  {
   "cell_type": "markdown",
   "metadata": {},
   "source": [
    "# Programmieraufgaben zu 3.2 (Hierarchical Clustering)"
   ]
  },
  {
   "cell_type": "markdown",
   "metadata": {},
   "source": [
    "---"
   ]
  },
  {
   "cell_type": "markdown",
   "metadata": {},
   "source": [
    "## Programmieraufgabe \n",
    "\n",
    "Sei ein Datensatz $E$ gegeben durch\n",
    "\n",
    "$$\n",
    "E=\\{(7.1, 1.5), (5, 14.6), (9.7, 8.1), (14, 4.6), (15.5, 2.2), (18.4, 6.2), (20.3, 10.3)\\}\n",
    "$$\n",
    "\n",
    "Nutzen Sie Python und scikit-learn, um die folgenden Aufgaben zu bearbeiten.\n",
    "\n",
    "**Aufgaben**:\n",
    "\n",
    "1. Wählen Sie $k=2$ und wenden Sie das agglomerative Clustering mit Single-Link an. Geben Sie die Clusterzugehörigkeiten aller Punkte an.\n",
    "2. Wählen Sie $k=3$ und wenden Sie das agglomerative Clustering mit Single-Link an. Geben Sie die Clusterzugehörigkeiten aller Punkte an.\n",
    "3. Lassen Sie sich ein durch agglomeratives Clustering bestimmtes Dendrogramm bzgl. $E$ anzeigen."
   ]
  },
  {
   "cell_type": "code",
   "execution_count": 7,
   "metadata": {},
   "outputs": [
    {
     "name": "stdout",
     "output_type": "stream",
     "text": [
      "------- Aufgabe 1 -------\n",
      "Cluster bei k=2: [0 1 0 0 0 0 0]\n",
      "\n",
      "------- Aufgabe 2 -------\n",
      "Cluster bei k=3: [0 1 0 0 0 2 2]\n"
     ]
    }
   ],
   "source": [
    "from sklearn.cluster import AgglomerativeClustering\n",
    "\n",
    "E = [\n",
    "    (7.1, 1.5),\n",
    "    (5, 14.6),\n",
    "    (9.7, 8.1),\n",
    "    (14, 4.6),\n",
    "    (15.5, 2.2),\n",
    "    (18.4, 6.2),\n",
    "    (20.3, 10.3),\n",
    "]\n",
    "\n",
    "print(\"------- Aufgabe 1 -------\")\n",
    "cluster_2 = AgglomerativeClustering(n_clusters=2).fit_predict(E)\n",
    "print(f\"Cluster bei k=2: {cluster_2}\")\n",
    "\n",
    "print()\n",
    "print(\"------- Aufgabe 2 -------\")\n",
    "cluster_3 = AgglomerativeClustering(n_clusters=3).fit_predict(E)\n",
    "print(f\"Cluster bei k=3: {cluster_3}\")"
   ]
  },
  {
   "cell_type": "code",
   "execution_count": 9,
   "metadata": {},
   "outputs": [
    {
     "name": "stdout",
     "output_type": "stream",
     "text": [
      "------- Aufgabe 3 -------\n"
     ]
    },
    {
     "data": {
      "image/png": "[encoded data removed]",
      "text/plain": [
       "<Figure size 640x480 with 1 Axes>"
      ]
     },
     "metadata": {},
     "output_type": "display_data"
    }
   ],
   "source": [
    "import numpy as np\n",
    "from scipy.cluster.hierarchy import dendrogram\n",
    "\n",
    "\n",
    "def plot_dendrogram(model, **kwargs):\n",
    "    # Create linkage matrix and then plot the dendrogram\n",
    "\n",
    "    # create the counts of samples under each node\n",
    "    counts = np.zeros(model.children_.shape[0])\n",
    "    n_samples = len(model.labels_)\n",
    "    for i, merge in enumerate(model.children_):\n",
    "        current_count = 0\n",
    "        for child_idx in merge:\n",
    "            if child_idx < n_samples:\n",
    "                current_count += 1  # leaf node\n",
    "            else:\n",
    "                current_count += counts[child_idx - n_samples]\n",
    "        counts[i] = current_count\n",
    "\n",
    "    distance = np.arange(model.children_.shape[0])\n",
    "\n",
    "    linkage_matrix = np.column_stack([model.children_, distance, counts]).astype(float)\n",
    "\n",
    "    # Plot the corresponding dendrogram\n",
    "    dendrogram(linkage_matrix, **kwargs)\n",
    "\n",
    "\n",
    "print(\"------- Aufgabe 3 -------\")\n",
    "\n",
    "model = AgglomerativeClustering(n_clusters=5, linkage=\"single\").fit(E)\n",
    "plot_dendrogram(model)"
   ]
  }
 ],
 "metadata": {
  "kernelspec": {
   "display_name": "venv",
   "language": "python",
   "name": "python3"
  },
  "language_info": {
   "codemirror_mode": {
    "name": "ipython",
    "version": 3
   },
   "file_extension": ".py",
   "mimetype": "text/x-python",
   "name": "python",
   "nbconvert_exporter": "python",
   "pygments_lexer": "ipython3",
   "version": "3.10.5"
  }
 },
 "nbformat": 4,
 "nbformat_minor": 2
}
