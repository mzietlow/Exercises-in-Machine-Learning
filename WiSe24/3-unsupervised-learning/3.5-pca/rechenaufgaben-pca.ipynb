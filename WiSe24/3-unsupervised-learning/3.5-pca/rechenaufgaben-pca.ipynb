{
 "cells": [
  {
   "cell_type": "markdown",
   "metadata": {},
   "source": [
    "# Rechenaufgaben zu 3.5 (Principal Component Analysis)"
   ]
  },
  {
   "cell_type": "markdown",
   "metadata": {},
   "source": [
    "---"
   ]
  },
  {
   "cell_type": "markdown",
   "metadata": {},
   "source": [
    "## Rechenaufgabe\n",
    "\n",
    "Sei ein standardisierter Datensatz $E$ gegeben durch\n",
    "\n",
    "$$\n",
    "E=\\{(-1.3, -1.4), (-0.7, -0.4), (1, 0.5), (1, 1.3)\\}\n",
    "$$\n",
    "\n",
    "und sei weiterhin $E^\\text{compressed}$ die komprimierte Version von $E$, definiert durch\n",
    "\n",
    "$$\n",
    "E^\\text{compressed}=\\{(1.909, 0.779), (-1.063, -1.625)\\}\n",
    "$$\n",
    "\n",
    "**Aufgaben**:\n",
    "\n",
    "1. Berechnen Sie die Kovarianzmatrix.\n",
    "2. Berechnen Sie die Varianz bzgl. $E$.\n",
    "3. Bestimmen Sie die retained variance."
   ]
  },
  {
   "cell_type": "code",
   "execution_count": 71,
   "metadata": {},
   "outputs": [
    {
     "name": "stdout",
     "output_type": "stream",
     "text": [
      "===== Aufgabe 1 =====\n",
      "Cov(E) = E^T * E = \n",
      "\n",
      "1.045\n",
      "\t0.975\n",
      "0.975\n",
      "\t1.015\n"
     ]
    }
   ],
   "source": [
    "import math\n",
    "\n",
    "E = [(-1.3, -1.4), (-0.7, -0.4), (1, 0.5), (1, 1.3)]\n",
    "E_transposed = [x[0] for x in E], [x[1] for x in E]\n",
    "\n",
    "\n",
    "def dot_product(x, y):\n",
    "    return sum(x_i * y_i for x_i, y_i in zip(x, y))\n",
    "\n",
    "\n",
    "def covar_mat(X: list[tuple[int]]):\n",
    "    norm = len(X[0])\n",
    "    for x in X:\n",
    "        for i, y in enumerate(X):\n",
    "            space = \"\\t\" * i\n",
    "            print(f\"{space}{dot_product(x, y) / norm:0.3f}\")\n",
    "\n",
    "\n",
    "print(\"===== Aufgabe 1 =====\")\n",
    "print(\"Cov(E) = E^T * E = \\n\")\n",
    "covar_mat(E_transposed)"
   ]
  },
  {
   "cell_type": "code",
   "execution_count": 96,
   "metadata": {},
   "outputs": [
    {
     "name": "stdout",
     "output_type": "stream",
     "text": [
      "===== Aufgaben 2 und 3 =====\n",
      "V(E) = 2.060\n",
      "V(E') = 2.005\n",
      "retVar(E', E) = 0.974\n"
     ]
    }
   ],
   "source": [
    "print(\"===== Aufgaben 2 und 3 =====\")\n",
    "\n",
    "E_compressed = [1.909, 0.779, -1.063, -1.625]\n",
    "\n",
    "\n",
    "def mean(data):\n",
    "    dims = len(data[0])\n",
    "    return [sum(x[dim] for x in data) for dim in range(dims)]\n",
    "\n",
    "\n",
    "def var(data):\n",
    "    data = [[x] if isinstance(x, float) else [*x] for x in data]  # normalize data\n",
    "\n",
    "    dims = len(data[0])\n",
    "    return sum(\n",
    "        sum((x[dim] - mean(data)[dim]) ** 2 for dim in range(dims)) for x in data\n",
    "    ) / len(data)\n",
    "\n",
    "\n",
    "print(f\"V(E) = {var(E):0.3f}\")\n",
    "print(f\"V(E') = {var(E_compressed):0.3f}\")\n",
    "print(f\"retVar(E', E) = {var(E_compressed) / var(E):0.3f}\")"
   ]
  }
 ],
 "metadata": {
  "kernelspec": {
   "display_name": "venv",
   "language": "python",
   "name": "python3"
  },
  "language_info": {
   "codemirror_mode": {
    "name": "ipython",
    "version": 3
   },
   "file_extension": ".py",
   "mimetype": "text/x-python",
   "name": "python",
   "nbconvert_exporter": "python",
   "pygments_lexer": "ipython3",
   "version": "3.10.5"
  }
 },
 "nbformat": 4,
 "nbformat_minor": 2
}
