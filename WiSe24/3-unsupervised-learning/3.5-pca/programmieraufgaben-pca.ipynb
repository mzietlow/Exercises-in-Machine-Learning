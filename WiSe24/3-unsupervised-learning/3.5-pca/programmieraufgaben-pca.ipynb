{
 "cells": [
  {
   "cell_type": "markdown",
   "metadata": {},
   "source": [
    "# Programmieraufgaben zu 3.5 (Principal Component Analysis)"
   ]
  },
  {
   "cell_type": "markdown",
   "metadata": {},
   "source": [
    "---"
   ]
  },
  {
   "cell_type": "markdown",
   "metadata": {},
   "source": [
    "## Programmieraufgabe \n",
    "\n",
    "Sei ein Datensatz E gegeben durch\n",
    "\n",
    "$$\n",
    "E=\\{(-1.222, -1.297, -1.648), (-0.604, -0.208, 1.436), (1.247, 0.809, -0.414),(1.247, 1.826, -0.846),\n",
    "\\\\\n",
    "(-0.693, 0.301, 1.128), (-0.869, -1.006, 0.141), (0.894, -0.425, 0.203)\\}\n",
    "$$\n",
    "\n",
    "Nutzen Sie Python und scikit-learn, um die folgenden Aufgaben zu bearbeiten.\n",
    "\n",
    "**Aufgaben**:\n",
    "\n",
    "1. Führen Sie eine Hauptkomponentenanalyse auf $E$ aus, wobei $2$ Komponenten behalten werden sollen und geben Sie die zu den Hauptkomponenten zugehörigen Eigenwerte an.\n",
    "2. Führen Sie eine Hauptkomponentenanalyse auf $E$ aus, wobei $3$ Komponenten behalten werden sollen und geben Sie die zu den Hauptkomponenten zugehörigen Eigenwerte an."
   ]
  },
  {
   "cell_type": "code",
   "execution_count": 21,
   "metadata": {},
   "outputs": [
    {
     "name": "stdout",
     "output_type": "stream",
     "text": [
      "Eigenwerte für n=2: [2.065, 1.171]\n",
      "Eigenwerte für n=3: [2.065, 1.171, 0.263]\n"
     ]
    }
   ],
   "source": [
    "import numpy as np\n",
    "from sklearn.decomposition import PCA\n",
    "\n",
    "E = [\n",
    "    (-1.222, -1.297, -1.648),\n",
    "    (-0.604, -0.208, 1.436),\n",
    "    (1.247, 0.809, -0.414),\n",
    "    (1.247, 1.826, -0.846),\n",
    "    (-0.693, 0.301, 1.128),\n",
    "    (-0.869, -1.006, 0.141),\n",
    "    (0.894, -0.425, 0.203),\n",
    "]\n",
    "\n",
    "pca_two_components = PCA(n_components=2).fit(E)\n",
    "pca_three_components = PCA(n_components=3).fit(E)\n",
    "\n",
    "print(\n",
    "    f\"Eigenwerte für n=2: {list(np.round(pca_two_components.explained_variance_, 3))}\"\n",
    ")\n",
    "print(\n",
    "    f\"Eigenwerte für n=3: {list(np.round(pca_three_components.explained_variance_, 3))}\"\n",
    ")"
   ]
  }
 ],
 "metadata": {
  "kernelspec": {
   "display_name": "venv",
   "language": "python",
   "name": "python3"
  },
  "language_info": {
   "codemirror_mode": {
    "name": "ipython",
    "version": 3
   },
   "file_extension": ".py",
   "mimetype": "text/x-python",
   "name": "python",
   "nbconvert_exporter": "python",
   "pygments_lexer": "ipython3",
   "version": "3.10.5"
  }
 },
 "nbformat": 4,
 "nbformat_minor": 2
}
