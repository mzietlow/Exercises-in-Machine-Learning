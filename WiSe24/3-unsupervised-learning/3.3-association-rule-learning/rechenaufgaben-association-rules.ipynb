{
 "cells": [
  {
   "cell_type": "markdown",
   "metadata": {},
   "source": [
    "# Rechenaufgaben zu 3.3 (Assoziationsregeln)"
   ]
  },
  {
   "cell_type": "markdown",
   "metadata": {},
   "source": [
    "---"
   ]
  },
  {
   "cell_type": "markdown",
   "metadata": {},
   "source": [
    "## Rechenaufgabe\n",
    "\n",
    "Sei ein Transaktions-Datensatz $F$ gegeben durch\n",
    "\n",
    "| Nr. | a   | b   | c   | d   |\n",
    "| --- | --- | --- | --- | --- |\n",
    "| 1   | 1   | 1   | 0   |   1 |\n",
    "| 2   | 0   | 1   | 0   |   1 |\n",
    "| 3   | 1   | 0   | 1   |   0 |\n",
    "| 4   | 1   | 1   | 1   |   1 |\n",
    "| 5   | 0   | 0   | 0   |   1 |\n",
    "\n",
    "\n",
    "Bestimmen Sie folgende Werte für Support und Konfidenz bezüglich Datensatz $F$.\n",
    "\n",
    "\n",
    "\n",
    "1. $\\operatorname{support}(\\{a\\})$\n",
    "2. $\\operatorname{support}(\\{b,c\\})$\n",
    "3. $\\operatorname{support}(\\{a,c\\})$\n",
    "4. $\\operatorname{support}(\\{b,c,d\\})$\n",
    "5. $\\operatorname{support}(\\{a\\} \\implies \\{d\\})$\n",
    "6. $\\operatorname{conf}(\\{a\\} \\implies \\{d\\})$\n",
    "7. $\\operatorname{support}(\\{a,b\\}\\implies \\{c\\})$\n",
    "8. $\\operatorname{conf}(\\{a,b\\} \\implies \\{c\\})$"
   ]
  },
  {
   "cell_type": "code",
   "execution_count": null,
   "metadata": {},
   "outputs": [
    {
     "name": "stdout",
     "output_type": "stream",
     "text": [
      "------ Aufgabe 1 ------\n",
      "D_single(X_1 , X_2) = 5.903\n",
      "D_single(X_1 , X_3) = 12.185\n",
      "D_single(X_1 , X_4) = 12.795\n",
      "D_single(X_2 , X_3) = 14.641\n",
      "D_single(X_2 , X_4) = 15.063\n",
      "D_single(X_3 , X_4) = 0.707\n",
      "\n",
      "------ Aufgabe 2 ------\n",
      "X = {{x_1}, {x_2}, {x_3, x_4}}\n",
      "\n",
      "------ Aufgabe 3 ------\n",
      "D_single(X_1 , X_2) = 5.903\n",
      "D_single(X_1 , X_3) = 12.185\n",
      "D_single(X_2 , X_3) = 14.641\n",
      "\n",
      "------ Aufgabe 4 ------\n",
      "Schwellwert (D_single(X_1, X_2)) = 5.903\n"
     ]
    }
   ],
   "source": [
    "import math\n",
    "\n",
    "a_dim = 1\n",
    "b_dim = 2\n",
    "c_dim = 3\n",
    "d_dim = 4\n",
    "\n",
    "t_1 = [1, 1, 0, 1]\n",
    "t_2 = [0, 1, 0, 1]\n",
    "t_3 = [1, 0, 1, 0]\n",
    "t_4 = [1, 1, 1, 1]\n",
    "t_5 = [0, 0, 0, 1]\n",
    "\n",
    "\n",
    "F = [t_1, t_2, t_3, t_4, t_5]\n",
    "\n",
    "\n",
    "def support(dims: list[int]):\n",
    "    return sum(math.prod(t[dim - 1] for dim in dims) for t in F) / len(F)\n",
    "\n",
    "\n",
    "def sup_implication(dims_1, dims_2):\n",
    "    # support(dims_1 => dims_2)\n",
    "    return support([*dims_1, *dims_2])\n",
    "\n",
    "\n",
    "def conf(dims_1, dims_2):\n",
    "    return sup_implication(dims_1, dims_2) / support(dims_1)\n",
    "\n",
    "\n",
    "print(\"support({a}) = \" + f\"{support([a_dim]):0.3f}\")\n",
    "print(\"support({b,c}) = \" + f\"{support([b_dim, c_dim]):0.3f}\")\n",
    "print(\"support({a,c}) = \" + f\"{support([a_dim, c_dim]):0.3f}\")\n",
    "print(\"support({b,c,d}) = \" + f\"{support([b_dim, c_dim, d_dim]):0.3f}\")\n",
    "\n",
    "print(\"support({a} => {d}) = \" + f\"{sup_implication([a_dim], [d_dim]):0.3f}\")\n",
    "print(\"conf({a} => {d}) = \" + f\"{conf([a_dim], [d_dim]):0.3f}\")\n",
    "\n",
    "print(\"support({a,b} => {c}) = \" + f\"{sup_implication([a_dim, b_dim], [c_dim]):0.3f}\")\n",
    "print(\"conf({a,b} => {c}) = \" + f\"{conf([a_dim, b_dim], [c_dim]):0.3f}\")"
   ]
  },
  {
   "cell_type": "code",
   "execution_count": 79,
   "metadata": {},
   "outputs": [
    {
     "name": "stdout",
     "output_type": "stream",
     "text": [
      "------ Aufgabe 2 ------\n",
      "X = {{x_1}, {x_2}, {x_3, x_4}}\n"
     ]
    }
   ],
   "source": [
    "print(\"------ Aufgabe 2 ------\")\n",
    "\n",
    "X_1 = [x_1]\n",
    "X_2 = [x_2]\n",
    "X_3 = [x_3, x_4]\n",
    "\n",
    "E_prime = [X_1, X_2, X_3]\n",
    "\n",
    "print(\"X = {{x_1}, {x_2}, {x_3, x_4}}\")"
   ]
  },
  {
   "cell_type": "code",
   "execution_count": 80,
   "metadata": {},
   "outputs": [
    {
     "name": "stdout",
     "output_type": "stream",
     "text": [
      "------ Aufgabe 3 ------\n",
      "D_single(X_1 , X_2) = 5.903\n",
      "D_single(X_1 , X_3) = 12.185\n",
      "D_single(X_2 , X_3) = 14.641\n",
      "\n",
      "------ Aufgabe 4 ------\n",
      "Schwellwert (D_single(X_1, X_2)) = 5.903\n"
     ]
    }
   ],
   "source": [
    "print(\"------ Aufgabe 3 ------\")\n",
    "\n",
    "visited = []\n",
    "for i, X_i in enumerate(E_prime, start=1):\n",
    "    for j, X_j in enumerate(E_prime, start=1):\n",
    "\n",
    "        if i == j or {i, j} in visited:\n",
    "            continue\n",
    "\n",
    "        print(f\"D_single(X_{i} , X_{j}) = {single_linkage_dist(X_i, X_j):0.3f}\")\n",
    "        visited += [{i, j}]\n",
    "\n",
    "print()\n",
    "print(\"------ Aufgabe 4 ------\")\n",
    "print(f\"Schwellwert (D_single(X_1, X_2)) = 5.903\")"
   ]
  }
 ],
 "metadata": {
  "kernelspec": {
   "display_name": "venv",
   "language": "python",
   "name": "python3"
  },
  "language_info": {
   "codemirror_mode": {
    "name": "ipython",
    "version": 3
   },
   "file_extension": ".py",
   "mimetype": "text/x-python",
   "name": "python",
   "nbconvert_exporter": "python",
   "pygments_lexer": "ipython3",
   "version": "3.10.5"
  }
 },
 "nbformat": 4,
 "nbformat_minor": 2
}
