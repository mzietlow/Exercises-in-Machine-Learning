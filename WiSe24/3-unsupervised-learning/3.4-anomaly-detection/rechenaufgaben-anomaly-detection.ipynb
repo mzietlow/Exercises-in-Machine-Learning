{
 "cells": [
  {
   "cell_type": "markdown",
   "metadata": {},
   "source": [
    "# Rechenaufgaben zu 3.4 (Hierarchical Clustering)"
   ]
  },
  {
   "cell_type": "markdown",
   "metadata": {},
   "source": [
    "---"
   ]
  },
  {
   "cell_type": "markdown",
   "metadata": {},
   "source": [
    "## Rechenaufgabe\n",
    "\n",
    "Sei ein Datensatz E gegeben durch\n",
    "\n",
    "$$\n",
    "E=\\{(10, 52), (11.5, 31), (10, 34), (11, 40)\\}\n",
    "$$\n",
    "\n",
    "**Aufgaben**:\n",
    "\n",
    "1. Berechnen Sie für jedes Merkmal $i$:\n",
    "    - den Mittelwert $\\mu_i$\n",
    "    - die Varianz $\\sigma_i^2$\n",
    "\n",
    "2. Sei nun $x_{(5)} = (9.5, 55)$ ein neuer Datenpunkt und sei $\\varepsilon= 0.9$.\n",
    "    - Bestimmen Sie $p_E(x_{(5)})$\n",
    "    - Geben Sie an, ob es sich bei $x_{(5)}$ um einen abnormalen Punkt handelt."
   ]
  },
  {
   "cell_type": "code",
   "execution_count": 70,
   "metadata": {},
   "outputs": [
    {
     "name": "stdout",
     "output_type": "stream",
     "text": [
      "------ Aufgabe 1 ------\n",
      "mu_1 = 10.625\n",
      "mu_2 = 39.250\n",
      "(sigma_1)^2 = 0.422\n",
      "(sigma_2)^2 = 64.688\n"
     ]
    }
   ],
   "source": [
    "import math\n",
    "\n",
    "E = [(10, 52), (11.5, 31), (10, 34), (11, 40)]\n",
    "\n",
    "\n",
    "def sample_mean(dim: int):\n",
    "    return sum(x[dim - 1] for x in E) / len(E)\n",
    "\n",
    "\n",
    "def sample_variance(dim: int):\n",
    "    mean = sample_mean(dim)\n",
    "    return sum((x[dim - 1] - mean) ** 2 for x in E) / len(E)\n",
    "\n",
    "\n",
    "mu_1 = sample_mean(1)\n",
    "mu_2 = sample_mean(2)\n",
    "sigma_1 = sample_variance(1)\n",
    "sigma_2 = sample_variance(2)\n",
    "\n",
    "\n",
    "print(\"------ Aufgabe 1 ------\")\n",
    "print(f\"mu_1 = {mu_1:0.3f}\")\n",
    "print(f\"mu_2 = {mu_2:0.3f}\")\n",
    "print(f\"(sigma_1)^2 = {sigma_1:0.3f}\")\n",
    "print(f\"(sigma_2)^2 = {sigma_2:0.3f}\")"
   ]
  },
  {
   "cell_type": "code",
   "execution_count": 69,
   "metadata": {},
   "outputs": [
    {
     "name": "stdout",
     "output_type": "stream",
     "text": [
      "------ Aufgabe 2 ------\n",
      "p_E(x_5) = 0.001\n",
      "x_5 is abornmal: True\n"
     ]
    }
   ],
   "source": [
    "x_5 = (9.5, 55)\n",
    "eps = 0.9\n",
    "\n",
    "\n",
    "def gaussian(x, sigma, mu):\n",
    "    first_part = 1 / math.sqrt(2 * math.pi * sigma)\n",
    "    second_part = math.exp(-((x - mu) ** 2) / (2 * sigma))\n",
    "    return first_part * second_part\n",
    "\n",
    "\n",
    "def two_dim_gaussian(x):\n",
    "    x_1, x_2 = x\n",
    "    return gaussian(x_1, sigma_1, mu_1) * gaussian(x_2, sigma_2, mu_2)\n",
    "\n",
    "\n",
    "print(\"------ Aufgabe 2 ------\")\n",
    "p_x_5 = two_dim_gaussian(x_5)\n",
    "print(f\"p_E(x_5) = {p_x_5:0.3f}\")\n",
    "print(f\"x_5 is abornmal: {p_x_5 < eps}\")"
   ]
  }
 ],
 "metadata": {
  "kernelspec": {
   "display_name": "venv",
   "language": "python",
   "name": "python3"
  },
  "language_info": {
   "codemirror_mode": {
    "name": "ipython",
    "version": 3
   },
   "file_extension": ".py",
   "mimetype": "text/x-python",
   "name": "python",
   "nbconvert_exporter": "python",
   "pygments_lexer": "ipython3",
   "version": "3.10.5"
  }
 },
 "nbformat": 4,
 "nbformat_minor": 2
}
