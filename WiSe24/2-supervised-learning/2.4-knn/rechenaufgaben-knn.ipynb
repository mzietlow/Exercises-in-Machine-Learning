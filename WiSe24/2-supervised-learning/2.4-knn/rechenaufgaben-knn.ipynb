{
 "cells": [
  {
   "cell_type": "markdown",
   "metadata": {},
   "source": [
    "# Rechenaufgaben zu 2.4 (K-Nearest-Neighbor)"
   ]
  },
  {
   "cell_type": "markdown",
   "metadata": {},
   "source": [
    "---"
   ]
  },
  {
   "cell_type": "markdown",
   "metadata": {},
   "source": [
    "## Rechenaufgabe 1\n",
    "\n",
    "Sei ein Datensatz $D$ gegeben durch\n",
    "\n",
    "$$\n",
    "D = \\{((-2,1),1), ((-1.9,1.4),1), ((-2.6,3.3),2), ((-3.9,4.5),2), ((-6.8,6),3)\\}\n",
    "$$\n",
    "\n",
    "**Aufgabe**: Bestimmen Sie den nächsten Nachbarn von $x^{(6)}=(-7.8,0.8)$."
   ]
  },
  {
   "cell_type": "code",
   "execution_count": 21,
   "metadata": {},
   "outputs": [
    {
     "name": "stdout",
     "output_type": "stream",
     "text": [
      "Der nächste Nachbar ist: (-6.8, 6)\n"
     ]
    }
   ],
   "source": [
    "D = [((-2, 1), 1), ((-1.9, 1.4), 1), ((-2.6, 3.3), 2), ((-3.9, 4.5), 2), ((-6.8, 6), 3)]\n",
    "x_vals = [d[0] for d in D]\n",
    "\n",
    "\n",
    "def dist_from_x_6(x):\n",
    "    x_1, x_2 = x\n",
    "    dist_1 = (x_1 + 7.8) ** 2\n",
    "    dist_2 = (x_2 - 0.8) ** 2\n",
    "\n",
    "    return (dist_1 + dist_2) ** (1 / 2)\n",
    "\n",
    "\n",
    "distances = [dist_from_x_6(x) for x in x_vals]\n",
    "\n",
    "nearest_neighbor = distances.index(min(distances))\n",
    "\n",
    "print(f\"Der nächste Nachbar ist: {x_vals[nearest_neighbor]}\")"
   ]
  },
  {
   "cell_type": "markdown",
   "metadata": {},
   "source": [
    "---"
   ]
  },
  {
   "cell_type": "markdown",
   "metadata": {},
   "source": [
    "## Rechenaufgabe 2\n",
    "\n",
    "Sei ein Datensatz $D$ gegeben durch\n",
    "\n",
    "$$\n",
    "D = \\{((5,13),54),((7,29),80),((8,-48),48),((10,3),69),((11,-21),59)\\}\n",
    "$$\n",
    "\n",
    "Bestimmen Sie den Wert von $y^{(6)}$, wobei $x^{(6)}=(9,59)$, mithilfe der Regressions-Variante von KNN mit $k=2$ bzgl. $D$."
   ]
  },
  {
   "cell_type": "code",
   "execution_count": null,
   "metadata": {},
   "outputs": [
    {
     "name": "stdout",
     "output_type": "stream",
     "text": [
      "Antwort: 67.0\n"
     ]
    }
   ],
   "source": [
    "D = [((5, 13), 54), ((7, 29), 80), ((8, -48), 48), ((10, 3), 69), ((11, -21), 59)]\n",
    "x_vals = [d[0] for d in D]\n",
    "y_hats = [d[1] for d in D]\n",
    "\n",
    "\n",
    "def dist_from_x_6(x):\n",
    "    x_1, x_2 = x\n",
    "    dist_1 = (x_1 - 9) ** 2\n",
    "    dist_2 = (x_2 - 59) ** 2\n",
    "\n",
    "    return (dist_1 + dist_2) ** (1 / 2)\n",
    "\n",
    "\n",
    "distances = [dist_from_x_6(x) for x in x_vals]\n",
    "sorted_dists = sorted(distances)\n",
    "\n",
    "k_1_idx = distances.index(sorted_dists[0])  # lowest dist\n",
    "k_2_idx = distances.index(sorted_dists[1])  # second lowest dist\n",
    "\n",
    "# regression on KNNs\n",
    "result = (y_hats[k_1_idx] + y_hats[k_2_idx]) / 2\n",
    "\n",
    "print(f\"Antwort: {result}\")"
   ]
  }
 ],
 "metadata": {
  "kernelspec": {
   "display_name": "venv",
   "language": "python",
   "name": "python3"
  },
  "language_info": {
   "codemirror_mode": {
    "name": "ipython",
    "version": 3
   },
   "file_extension": ".py",
   "mimetype": "text/x-python",
   "name": "python",
   "nbconvert_exporter": "python",
   "pygments_lexer": "ipython3",
   "version": "3.10.5"
  }
 },
 "nbformat": 4,
 "nbformat_minor": 2
}
