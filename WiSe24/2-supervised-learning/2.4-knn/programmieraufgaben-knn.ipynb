{
 "cells": [
  {
   "cell_type": "markdown",
   "metadata": {},
   "source": [
    "# Programmieraufgaben zu 2.4 (K-Nearest-Neighbor)"
   ]
  },
  {
   "cell_type": "markdown",
   "metadata": {},
   "source": [
    "---"
   ]
  },
  {
   "cell_type": "markdown",
   "metadata": {},
   "source": [
    "## Programmieraufgabe 1\n",
    "\n",
    "Sei ein Datensatz D gegeben durch\n",
    "\n",
    "$$\n",
    "D=\\{((14.26, 18.98), 1), ((9.45, 8.61), 1), ((7.53, -0.7), 1), ((15.62, 4.92), 2), ((17.47, -8.43), 2), ((6.66, -5.27), 3)\\}\n",
    "$$\n",
    "\n",
    "**Aufgabe**: Bestimmen Sie die Klasse des Punktes $x^7 = (13.92, -1.76)$ mittels KNN bzgl. $D$. Wählen Sie für $k$ die folgenden Werte:\n",
    "- $k=1$\n",
    "- $k=3$\n",
    "- $k=5$"
   ]
  },
  {
   "cell_type": "code",
   "execution_count": 11,
   "metadata": {},
   "outputs": [
    {
     "name": "stdout",
     "output_type": "stream",
     "text": [
      "k=1 => 1\n",
      "k=3 => 2\n",
      "k=5 => 1\n"
     ]
    }
   ],
   "source": [
    "from sklearn.neighbors import KNeighborsClassifier\n",
    "\n",
    "D = [\n",
    "    ((14.26, 18.98), 1),\n",
    "    ((9.45, 8.61), 1),\n",
    "    ((7.53, -0.7), 1),\n",
    "    ((15.62, 4.92), 2),\n",
    "    ((17.47, -8.43), 2),\n",
    "    ((6.66, -5.27), 3),\n",
    "]\n",
    "\n",
    "x_vals = [d[0] for d in D]\n",
    "y_hats = [d[1] for d in D]\n",
    "\n",
    "x_7 = (13.92, -1.76)\n",
    "\n",
    "print(\n",
    "    f\"k=1 => {KNeighborsClassifier(n_neighbors=1).fit(x_vals, y_hats).predict([x_7])[0]}\"\n",
    ")\n",
    "print(\n",
    "    f\"k=3 => {KNeighborsClassifier(n_neighbors=3).fit(x_vals, y_hats).predict([x_7])[0]}\"\n",
    ")\n",
    "print(\n",
    "    f\"k=5 => {KNeighborsClassifier(n_neighbors=5).fit(x_vals, y_hats).predict([x_7])[0]}\"\n",
    ")"
   ]
  },
  {
   "cell_type": "markdown",
   "metadata": {},
   "source": [
    "---"
   ]
  },
  {
   "cell_type": "markdown",
   "metadata": {},
   "source": [
    "## Programmieraufgabe 2\n",
    "\n",
    "Sei ein Datensatz $D$ gegeben durch\n",
    "\n",
    "$$\n",
    "D=\\{((9.8, 40.29), 1), ((-0.1, 37.54), 1), ((-18.46, 46.52), 1), ((-30.33, 22.56), 2), ((12.51, 30.13), 2), ((36.45, 13.2), 3)\\}\n",
    "$$\n",
    "\n",
    "**Aufgaben**:\n",
    "\n",
    "1. Berechnen Sie die z-transformierte Variante $\\hat{D}$ zu Datensatz $D$.\n",
    "2. Bestimmen Sie die Klasse des Punktes $x^7=(-4.2, 21.45)$ mittels KNN mit $k=3$ bzgl. $\\hat{D}$. Beachten Sie, dass $x^{(7)}$ noch nicht z-transformiert ist."
   ]
  },
  {
   "cell_type": "code",
   "execution_count": 29,
   "metadata": {},
   "outputs": [
    {
     "name": "stdout",
     "output_type": "stream",
     "text": [
      "1. \\hat{D}=[((0.376, 0.765), 1), ((-0.08, 0.52), 1), ((-0.926, 1.32), 1), ((-1.473, -0.815), 2), ((0.501, -0.14), 2), ((1.604, -1.649), 3)]\n",
      "clf(x_7_scaled)=2\n"
     ]
    }
   ],
   "source": [
    "from sklearn.preprocessing import StandardScaler\n",
    "from sklearn.neighbors import KNeighborsClassifier\n",
    "import numpy as np\n",
    "\n",
    "D = [\n",
    "    ((9.8, 40.29), 1),\n",
    "    ((-0.1, 37.54), 1),\n",
    "    ((-18.46, 46.52), 1),\n",
    "    ((-30.33, 22.56), 2),\n",
    "    ((12.51, 30.13), 2),\n",
    "    ((36.45, 13.2), 3),\n",
    "]\n",
    "x_vals = [d[0] for d in D]\n",
    "y_hats = [d[1] for d in D]\n",
    "\n",
    "scaler = StandardScaler().fit(x_vals)\n",
    "x_std_vals = scaler.transform(x_vals)\n",
    "x_std_vals = [\n",
    "    tuple(np.round(x, 3)) for x in x_std_vals\n",
    "]  # round and turn ndarrays into tuples\n",
    "\n",
    "D_hat = list(zip(x_std_vals, y_hats))\n",
    "\n",
    "print(f\"1. \\hat{{D}}={D_hat}\")\n",
    "\n",
    "x_7_scaled = scaler.transform([(-4.2, 21.45)])[0]\n",
    "\n",
    "clf = KNeighborsClassifier(n_neighbors=3).fit(x_std_vals, y_hats)\n",
    "x_7_cls = clf.predict([x_7_scaled])[0]\n",
    "\n",
    "print(f\"clf(x_7_scaled)={x_7_cls}\")"
   ]
  },
  {
   "cell_type": "markdown",
   "metadata": {},
   "source": [
    "---"
   ]
  },
  {
   "cell_type": "markdown",
   "metadata": {},
   "source": [
    "## Programmieraufgabe 3\n",
    "\n",
    "Sei ein Datensatz D gegeben durch\n",
    "\n",
    "$$\n",
    "D=\\{((3.1, 4.1), 5.9), ((2.6, 5.3), 5.8), ((9.7, 9.3), 2.3), ((8.4, 6.2), 6.4), ((3.3, 8.3), 2.7), ((9.5, 0.2), 8.8)\\}\n",
    "$$\n",
    "\n",
    "**Aufgabe**: Bestimmen Sie, unter Nutzung von Python und scikit-learn, den Wert von $y^{(7)}$, wobei $x^{(7)}=(4.1, 9.7)$, mithilfe der KNN-Regression($k=3$) bzgl. $D$."
   ]
  },
  {
   "cell_type": "code",
   "execution_count": 21,
   "metadata": {},
   "outputs": [
    {
     "name": "stdout",
     "output_type": "stream",
     "text": [
      "clf(x_7)=4.967\n"
     ]
    }
   ],
   "source": [
    "from sklearn.neighbors import KNeighborsRegressor\n",
    "\n",
    "D = [\n",
    "    ((3.1, 4.1), 5.9),\n",
    "    ((2.6, 5.3), 5.8),\n",
    "    ((9.7, 9.3), 2.3),\n",
    "    ((8.4, 6.2), 6.4),\n",
    "    ((3.3, 8.3), 2.7),\n",
    "    ((9.5, 0.2), 8.8),\n",
    "]\n",
    "\n",
    "x_vals = [d[0] for d in D]\n",
    "y_hats = [d[1] for d in D]\n",
    "\n",
    "x_7 = (4.1, 9.7)\n",
    "\n",
    "regressor = KNeighborsRegressor(n_neighbors=3).fit(x_vals, y_hats)\n",
    "\n",
    "print(f\"clf(x_7)={regressor.predict([x_7])[0]:0.3f}\")"
   ]
  }
 ],
 "metadata": {
  "kernelspec": {
   "display_name": "venv",
   "language": "python",
   "name": "python3"
  },
  "language_info": {
   "codemirror_mode": {
    "name": "ipython",
    "version": 3
   },
   "file_extension": ".py",
   "mimetype": "text/x-python",
   "name": "python",
   "nbconvert_exporter": "python",
   "pygments_lexer": "ipython3",
   "version": "3.10.5"
  }
 },
 "nbformat": 4,
 "nbformat_minor": 2
}
