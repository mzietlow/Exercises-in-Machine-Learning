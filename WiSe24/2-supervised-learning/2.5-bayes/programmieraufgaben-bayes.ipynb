{
 "cells": [
  {
   "cell_type": "markdown",
   "metadata": {},
   "source": [
    "# Programmieraufgaben zu 2.5 (Bayes-Klassifikation)"
   ]
  },
  {
   "cell_type": "markdown",
   "metadata": {},
   "source": [
    "---"
   ]
  },
  {
   "cell_type": "markdown",
   "metadata": {},
   "source": [
    "## Programmieraufgabe 1\n",
    "\n",
    "Sei ein Datensatz D gegeben durch\n",
    "\n",
    "$$\n",
    "D=\\{((0, 50), 0), ((1, 200), 2), ((2, 200), 1), ((0, 100), 1), ((1, 50), 0), ((0, 200), 2)\\}\n",
    "$$\n",
    "\n",
    "sowie die Klassen $Z = {0, 1, 2}$.\n",
    "\n",
    "**Aufgabe**: Bestimmen Sie, unter Nutzung von Python und scikit-learn, wie der Punkt $x^{(7)}=(2, 50)$ mit einem Naive Bayes-Klassifikator klassifiziert werden würde. Wählen Sie dazu eine geeignete Option von scikit-learn aus."
   ]
  },
  {
   "cell_type": "code",
   "execution_count": 3,
   "metadata": {},
   "outputs": [
    {
     "name": "stdout",
     "output_type": "stream",
     "text": [
      "clf(x^(7)) = 0\n"
     ]
    }
   ],
   "source": [
    "from sklearn.naive_bayes import GaussianNB\n",
    "\n",
    "D = [\n",
    "    ((0, 50), 0),\n",
    "    ((1, 200), 2),\n",
    "    ((2, 200), 1),\n",
    "    ((0, 100), 1),\n",
    "    ((1, 50), 0),\n",
    "    ((0, 200), 2),\n",
    "]\n",
    "\n",
    "x_vals = [d[0] for d in D]\n",
    "y_hats = [d[1] for d in D]\n",
    "\n",
    "clf = GaussianNB().fit(x_vals, y_hats)\n",
    "\n",
    "print(f\"clf(x^(7)) = {clf.predict([(2,50)])[0]}\")"
   ]
  },
  {
   "cell_type": "markdown",
   "metadata": {},
   "source": [
    "---"
   ]
  },
  {
   "cell_type": "markdown",
   "metadata": {},
   "source": [
    "## Programmieraufgabe 2\n",
    "\n",
    "Seien Trainingsdatensatz $D^\\text{train}$ gegeben durch\n",
    "\n",
    "$$\n",
    "D^\\text{train}=\\{((1.29, -1.83), 1), ((0.76, -0.95), 1), ((5.24, -1.59), 0), ((8.74, -0.27), 0), ((2.77, -2.23), 0), ((1.24, -1.65), 1)\\}\n",
    "$$\n",
    "\n",
    "\n",
    "sowie die Klassen $Z=\\{0, 1\\}$.\n",
    "Weiterhin sei folgender Testdatensatz gegeben:\n",
    "\n",
    "$$\n",
    "D^\\text{test}=\\{((0.62, -1.58), 1), ((6.82, 0.07), 0), ((2.64, -0.15), 1), ((3.23, -1.58), 0)\\}\n",
    "$$\n",
    "\n",
    "\n",
    "**Aufgabe**:\n",
    "- Führen Sie für $D^\\text{test}$ eine Naive Bayes-Klassifikation durch. Wählen Sie hierfür wieder eine geeignete Option von scikit-learn aus.\n",
    "- Bestimmen Sie nun:\n",
    "    - Genauigkeit\n",
    "    - Präzision\n",
    "    - Sensitivität\n",
    "    - F1\n"
   ]
  },
  {
   "cell_type": "code",
   "execution_count": 7,
   "metadata": {},
   "outputs": [
    {
     "name": "stdout",
     "output_type": "stream",
     "text": [
      "--- Teil 1 ---\n",
      "clf(D^test) = [1 0 0 0]\n",
      "\n",
      "--- Teil 2 ---\n",
      "accuracy_score: 0.750\n",
      "precision_score: 1.000\n",
      "recall_score: 0.500\n",
      "f1_score: 0.667\n"
     ]
    }
   ],
   "source": [
    "from sklearn.naive_bayes import GaussianNB\n",
    "from sklearn.metrics import accuracy_score, precision_score, recall_score, f1_score\n",
    "\n",
    "D_train = [\n",
    "    ((1.29, -1.83), 1),\n",
    "    ((0.76, -0.95), 1),\n",
    "    ((5.24, -1.59), 0),\n",
    "    ((8.74, -0.27), 0),\n",
    "    ((2.77, -2.23), 0),\n",
    "    ((1.24, -1.65), 1),\n",
    "]\n",
    "\n",
    "x_vals_train = [d[0] for d in D_train]\n",
    "y_hats_train = [d[1] for d in D_train]\n",
    "\n",
    "\n",
    "clf = GaussianNB().fit(x_vals_train, y_hats_train)\n",
    "\n",
    "D_test = [\n",
    "    ((0.62, -1.58), 1),\n",
    "    ((6.82, 0.07), 0),\n",
    "    ((2.64, -0.15), 1),\n",
    "    ((3.23, -1.58), 0),\n",
    "]\n",
    "\n",
    "x_vals_test = [d[0] for d in D_test]\n",
    "y_hats_test = [d[1] for d in D_test]\n",
    "\n",
    "\n",
    "print(\"--- Teil 1 ---\")\n",
    "print(f\"clf(D^test) = {clf.predict(x_vals_test)}\")\n",
    "\n",
    "print()\n",
    "\n",
    "print(\"--- Teil 2 ---\")\n",
    "print(f\"accuracy_score: {accuracy_score(y_hats_test, clf.predict(x_vals_test)):0.3f}\")\n",
    "print(f\"precision_score: {precision_score(y_hats_test, clf.predict(x_vals_test)):0.3f}\")\n",
    "print(f\"recall_score: {recall_score(y_hats_test, clf.predict(x_vals_test)):0.3f}\")\n",
    "print(f\"f1_score: {f1_score(y_hats_test, clf.predict(x_vals_test)):0.3f}\")"
   ]
  }
 ],
 "metadata": {
  "kernelspec": {
   "display_name": "venv",
   "language": "python",
   "name": "python3"
  },
  "language_info": {
   "codemirror_mode": {
    "name": "ipython",
    "version": 3
   },
   "file_extension": ".py",
   "mimetype": "text/x-python",
   "name": "python",
   "nbconvert_exporter": "python",
   "pygments_lexer": "ipython3",
   "version": "3.10.5"
  }
 },
 "nbformat": 4,
 "nbformat_minor": 2
}
