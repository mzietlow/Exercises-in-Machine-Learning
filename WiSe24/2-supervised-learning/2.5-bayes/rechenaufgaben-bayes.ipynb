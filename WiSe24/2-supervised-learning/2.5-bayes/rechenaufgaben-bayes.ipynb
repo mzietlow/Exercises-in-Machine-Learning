{
 "cells": [
  {
   "cell_type": "markdown",
   "metadata": {},
   "source": [
    "# Rechenaufgaben zu 2.5 (Bayes-Klassifikation)"
   ]
  },
  {
   "cell_type": "markdown",
   "metadata": {},
   "source": [
    "---"
   ]
  },
  {
   "cell_type": "markdown",
   "metadata": {},
   "source": [
    "## Rechenaufgabe 1\n",
    "\n",
    "Sei ein Datensatz $D$ gegeben durch\n",
    "\n",
    "$$\n",
    "D = \\{((1,0),c_1),((0,1),c_1),((1,1),c_2),((0,0),c_2),((0,1),c_1)\\}\n",
    "$$\n",
    "\n",
    "wobei $Z_1=Z_2=\\{0,1\\}$ sowie die Klassen $Z = \\{c_1, c_2\\}$.\n",
    "\n",
    "**Aufgaben**:\n",
    "\n",
    "1. Bestimmen Sie $P(c_1 \\mid D)$ und $P(c_2 \\mid D)$ mit dem Ansatz der Naiven-Bayes-Klassifikation.\n",
    "2. Bestimmen Sie die Wahrscheinlichkeitsverteilungen der einzelnen Merkmalsausprägungen bzgl. der beiden Klassen.\n",
    "    - $P(x_1 = 0 \\mid c=c_1, D)$\n",
    "    - $P(x_1 = 0 \\mid c=c_2, D)$\n",
    "    - $P(x_1 = 1 \\mid c=c_1, D)$\n",
    "    - $P(x_1 = 1 \\mid c=c_2, D)$\n",
    "    - $P(x_2 = 0 \\mid c=c_1, D)$\n",
    "    - $P(x_2 = 0 \\mid c=c_2, D)$\n",
    "    - $P(x_2 = 1 \\mid c=c_1, D)$\n",
    "    - $P(x_2 = 1 \\mid c=c_2, D)$\n",
    "3. Gegeben sei nun der Datenpunkt $(0,0)$. Bestimmen Sie die Wahrscheinlichkeiten, dass dieser Datenpunkt $c_1$ bzw. $c_2$ angehört.\n",
    "4. Welcher Klasse gehört der neue Datenpunkt laut den obigen Berechnungen an?"
   ]
  },
  {
   "cell_type": "code",
   "execution_count": 27,
   "metadata": {},
   "outputs": [
    {
     "name": "stdout",
     "output_type": "stream",
     "text": [
      "--- Aufgabe 1 ---\n",
      "P(c_1 | D) = 0.6\n",
      "P(c_2 | D) = 0.4\n",
      "\n",
      "--- Aufgabe 2 ---\n",
      "P(x_1 = 0 | c=c_1, D) = 0.667\n",
      "P(x_1 = 0 | c=c_2, D) = 0.500\n",
      "P(x_1 = 1 | c=c_1, D) = 0.333\n",
      "P(x_1 = 1 | c=c_2, D) = 0.500\n",
      "P(x_2 = 0 | c=c_1, D) = 0.333\n",
      "P(x_2 = 0 | c=c_2, D) = 0.500\n",
      "P(x_2 = 1 | c=c_1, D) = 0.667\n",
      "P(x_2 = 1 | c=c_2, D) = 0.500\n",
      "\n",
      "--- Aufgabe 3 ---\n",
      "P(c_1 | (0,0), D) = 0.133\n",
      "P(c_2 | (0,0), D) = 0.100\n",
      "\n",
      "--- Aufgabe 4 ---\n",
      "cls(x) = c_1\n"
     ]
    }
   ],
   "source": [
    "D = [\n",
    "    ((1, 0), \"c_1\"),\n",
    "    ((0, 1), \"c_1\"),\n",
    "    ((1, 1), \"c_2\"),\n",
    "    ((0, 0), \"c_2\"),\n",
    "    ((0, 1), \"c_1\"),\n",
    "]\n",
    "\n",
    "x_vals = [d[0] for d in D]\n",
    "y_hats = [d[1] for d in D]\n",
    "\n",
    "\n",
    "def probability_of_class(cls: str) -> float:\n",
    "    \"\"\"That is, P(cls | D)\"\"\"\n",
    "    return y_hats.count(cls) / len(y_hats)\n",
    "\n",
    "\n",
    "def prob_of_x_given_class(val: int, dim: int, cls: str):\n",
    "    \"\"\"That is, P(x_dim = val | c=cls, D)\"\"\"\n",
    "    dim -= 1  # off-by-one adjustment\n",
    "    nominator = len(\n",
    "        [(x, y) for (x, y) in zip(x_vals, y_hats) if x[dim] == val and y == cls]\n",
    "    )\n",
    "    denominator = y_hats.count(cls)\n",
    "\n",
    "    return nominator / denominator\n",
    "\n",
    "\n",
    "def prob_of_class_given_x(cls: str, val: tuple[int, int]):\n",
    "    \"\"\"That is, P(cls | val, D) = P(cls | D) * P(val_1 | cls, D) * P(val_2 | cls, D)\"\"\"\n",
    "    val_1, val_2 = val\n",
    "\n",
    "    return (\n",
    "        probability_of_class(cls)\n",
    "        * prob_of_x_given_class(val_1, 1, cls)\n",
    "        * prob_of_x_given_class(val_2, 2, cls)\n",
    "    )\n",
    "\n",
    "\n",
    "print(\"--- Aufgabe 1 ---\")\n",
    "print(f\"P(c_1 | D) = {probability_of_class('c_1')}\")\n",
    "print(f\"P(c_2 | D) = {probability_of_class('c_2')}\")\n",
    "\n",
    "print()\n",
    "\n",
    "print(\"--- Aufgabe 2 ---\")\n",
    "print(f\"P(x_1 = 0 | c=c_1, D) = {prob_of_x_given_class(val=0, dim=1, cls='c_1'):0.3f}\")\n",
    "print(f\"P(x_1 = 0 | c=c_2, D) = {prob_of_x_given_class(val=0, dim=1, cls='c_2'):0.3f}\")\n",
    "print(f\"P(x_1 = 1 | c=c_1, D) = {prob_of_x_given_class(val=1, dim=1, cls='c_1'):0.3f}\")\n",
    "print(f\"P(x_1 = 1 | c=c_2, D) = {prob_of_x_given_class(val=1, dim=1, cls='c_2'):0.3f}\")\n",
    "print(f\"P(x_2 = 0 | c=c_1, D) = {prob_of_x_given_class(val=0, dim=2, cls='c_1'):0.3f}\")\n",
    "print(f\"P(x_2 = 0 | c=c_2, D) = {prob_of_x_given_class(val=0, dim=2, cls='c_2'):0.3f}\")\n",
    "print(f\"P(x_2 = 1 | c=c_1, D) = {prob_of_x_given_class(val=1, dim=2, cls='c_1'):0.3f}\")\n",
    "print(f\"P(x_2 = 1 | c=c_2, D) = {prob_of_x_given_class(val=1, dim=2, cls='c_2'):0.3f}\")\n",
    "\n",
    "print()\n",
    "\n",
    "print(\"--- Aufgabe 3 ---\")\n",
    "print(f\"P(c_1 | (0,0), D) = {prob_of_class_given_x('c_1', (0, 0)):0.3f}\")\n",
    "print(f\"P(c_2 | (0,0), D) = {prob_of_class_given_x('c_2', (0, 0)):0.3f}\")\n",
    "\n",
    "print()\n",
    "\n",
    "print(\"--- Aufgabe 4 ---\")\n",
    "print(f\"cls(x) = c_1\")"
   ]
  }
 ],
 "metadata": {
  "kernelspec": {
   "display_name": "venv",
   "language": "python",
   "name": "python3"
  },
  "language_info": {
   "codemirror_mode": {
    "name": "ipython",
    "version": 3
   },
   "file_extension": ".py",
   "mimetype": "text/x-python",
   "name": "python",
   "nbconvert_exporter": "python",
   "pygments_lexer": "ipython3",
   "version": "3.10.5"
  }
 },
 "nbformat": 4,
 "nbformat_minor": 2
}
