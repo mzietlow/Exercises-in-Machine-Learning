{
 "cells": [
  {
   "cell_type": "markdown",
   "metadata": {},
   "source": [
    "# Rechenaufgaben zu 2.6 (Enscheidungsbäume)"
   ]
  },
  {
   "cell_type": "markdown",
   "metadata": {},
   "source": [
    "---"
   ]
  },
  {
   "cell_type": "markdown",
   "metadata": {},
   "source": [
    "## Rechenaufgabe 1\n",
    "\n",
    "Sei ein Datensatz $D$ gegeben durch\n",
    "\n",
    "$$\n",
    "D = \\{((Sonne,>20°C),Eistee),\\;((Sonne,10-20°C),Eistee),\\\\ \\qquad ((Wolken,>20°C),Eistee),((Wolken, <10°C),Tee)\\}\n",
    "$$\n",
    "\n",
    "**Aufgaben**:\n",
    "\n",
    "1. Berechnen Sie die Entropie $H(D)$.\n",
    "2. Berechnen Sie die bedingten Entropien $H(D \\mid x_1)$ und $H(D \\mid x_2)$.\n",
    "3. Berechnen Sie jeweils den Informationsgewinn $IG(D,x_1)$ und $IG(D,x_2)$.\n"
   ]
  },
  {
   "cell_type": "code",
   "execution_count": null,
   "metadata": {},
   "outputs": [
    {
     "name": "stdout",
     "output_type": "stream",
     "text": [
      "--- Aufgabe 1 ---\n",
      "H(D) = 0.244\n",
      "\n",
      "--- Aufgabe 2 ---\n",
      "H(D | x_1) = 0.151\n",
      "H(D | x_2) = 0.000\n",
      "\n",
      "--- Aufgabe 3 ---\n",
      "IG(D | x_1) = 0.09370405245622496\n",
      "IG(D | x_2) = 0.244\n"
     ]
    }
   ],
   "source": [
    "import math\n",
    "\n",
    "D = [\n",
    "    ((\"Sonne\", \">20°C\"), \"Eistee\"),\n",
    "    ((\"Sonne\", \"10-20°C\"), \"Eistee\"),\n",
    "    ((\"Wolken\", \">20°C\"), \"Eistee\"),\n",
    "    ((\"Wolken\", \"<10°C\"), \"Tee\"),\n",
    "]\n",
    "\n",
    "x_vals = [d[0] for d in D]\n",
    "y_hats = [d[1] for d in D]\n",
    "\n",
    "\n",
    "def entropy(labels):\n",
    "    dataset_size = len(labels)\n",
    "\n",
    "    aggregate_sum = 0\n",
    "    for label in set(labels):\n",
    "        label_frequency = labels.count(label)\n",
    "        entropy_fraction = label_frequency / dataset_size\n",
    "\n",
    "        aggregate_sum += entropy_fraction * math.log10(entropy_fraction)\n",
    "\n",
    "    return -aggregate_sum\n",
    "\n",
    "\n",
    "def conditional_entropy(values, labels, dim):\n",
    "    dataset_size = len(labels)\n",
    "\n",
    "    dim_idx = dim - 1  # off-by-one correction\n",
    "    dim_vals = set([x[dim_idx] for x in values])\n",
    "\n",
    "    aggregate_sum = 0\n",
    "    for dim_val in dim_vals:\n",
    "        conditioned_labels = [\n",
    "            y for x, y in zip(values, labels) if x[dim_idx] == dim_val\n",
    "        ]\n",
    "\n",
    "        dim_val_frequency = len(conditioned_labels) / dataset_size\n",
    "        aggregate_sum += dim_val_frequency * entropy(conditioned_labels)\n",
    "\n",
    "    return aggregate_sum\n",
    "\n",
    "\n",
    "def information_gain(values, labels, dim):\n",
    "    return entropy(labels) - conditional_entropy(values, labels, dim)\n",
    "\n",
    "\n",
    "print(\"--- Aufgabe 1 ---\")\n",
    "print(f\"H(D) = {entropy(y_hats):0.3f}\")\n",
    "\n",
    "print()\n",
    "\n",
    "print(\"--- Aufgabe 2 ---\")\n",
    "print(f\"H(D | x_1) = {conditional_entropy(x_vals, y_hats, 1):0.3f}\")\n",
    "print(f\"H(D | x_2) = {conditional_entropy(x_vals, y_hats, 2):0.3f}\")\n",
    "\n",
    "print()\n",
    "\n",
    "print(\"--- Aufgabe 3 ---\")\n",
    "print(f\"IG(D | x_1) = {information_gain(x_vals, y_hats, 1)}\")\n",
    "print(f\"IG(D | x_2) = {information_gain(x_vals, y_hats, 2):0.3f}\")"
   ]
  }
 ],
 "metadata": {
  "kernelspec": {
   "display_name": "venv",
   "language": "python",
   "name": "python3"
  },
  "language_info": {
   "codemirror_mode": {
    "name": "ipython",
    "version": 3
   },
   "file_extension": ".py",
   "mimetype": "text/x-python",
   "name": "python",
   "nbconvert_exporter": "python",
   "pygments_lexer": "ipython3",
   "version": "3.10.5"
  }
 },
 "nbformat": 4,
 "nbformat_minor": 2
}
