{
 "cells": [
  {
   "cell_type": "markdown",
   "metadata": {},
   "source": [
    "# Programmieraufgaben zu 2.6 (Enscheidungsbäume)"
   ]
  },
  {
   "cell_type": "markdown",
   "metadata": {},
   "source": [
    "---"
   ]
  },
  {
   "cell_type": "markdown",
   "metadata": {},
   "source": [
    "## Programmieraufgabe 1\n",
    "\n",
    "Seien ein Trainingsdatensatz $D^\\text{train}$ und ein Testdatensatz $D^\\text{test}$ gegeben durch;\n",
    "\n",
    "$$\n",
    "D^\\text{train}=((37.5, 2), 1), ((36, 1), 0), ((39, 1), 1), ((37.5, 1), 0),((39, 0), 1), ((37.5, 0), 0), ((37.5, 1), 0), ((36, 2), 1)\n",
    "\\\\\n",
    "D^\\text{test}=((36, 0), 0), ((37.5, 1), 0), ((39, 1), 1), ((39, 2), 0)\n",
    "$$\n",
    "\n",
    "\n",
    "**Aufgaben**: \n",
    "\n",
    "Trainieren Sie einen Entscheidungsbaum anhand von $D^\\text{train}$ und nutzen Sie ihn, um die Beispiele aus $D^\\text{test}$ zu klassifizieren.\n",
    "\n",
    "1. Geben Sie die resultierenden Klassenzuweisungen für die Beispiele aus $D^\\text{test}$ an.\n",
    "2. Erstellen Sie die dazugehörige Konfusionsmatrix."
   ]
  },
  {
   "cell_type": "code",
   "execution_count": 7,
   "metadata": {},
   "outputs": [
    {
     "name": "stdout",
     "output_type": "stream",
     "text": [
      "--- Aufgabe 1 ---\n",
      "clf(D_test) = [0 0 1 1]\n",
      "\n",
      "--- Aufgabe 2 ---\n"
     ]
    },
    {
     "data": {
      "text/plain": [
       "array([[2, 1],\n",
       "       [0, 1]])"
      ]
     },
     "execution_count": 7,
     "metadata": {},
     "output_type": "execute_result"
    }
   ],
   "source": [
    "from sklearn.tree import DecisionTreeClassifier\n",
    "from sklearn.metrics import confusion_matrix\n",
    "\n",
    "D_train = [\n",
    "    ((37.5, 2), 1),\n",
    "    ((36, 1), 0),\n",
    "    ((39, 1), 1),\n",
    "    ((37.5, 1), 0),\n",
    "    ((39, 0), 1),\n",
    "    ((37.5, 0), 0),\n",
    "    ((37.5, 1), 0),\n",
    "    ((36, 2), 1),\n",
    "]\n",
    "\n",
    "x_vals_train = [d[0] for d in D_train]\n",
    "y_hats_train = [d[1] for d in D_train]\n",
    "\n",
    "clf_100 = DecisionTreeClassifier().fit(x_vals_train, y_hats_train)\n",
    "\n",
    "\n",
    "D_test = [((36, 0), 0), ((37.5, 1), 0), ((39, 1), 1), ((39, 2), 0)]\n",
    "\n",
    "x_vals_test = [d[0] for d in D_test]\n",
    "y_hats_test = [d[1] for d in D_test]\n",
    "\n",
    "\n",
    "print(\"--- Aufgabe 1 ---\")\n",
    "print(f\"clf(D_test) = {clf_100.predict(x_vals_test)}\")\n",
    "\n",
    "print()\n",
    "\n",
    "print(\"--- Aufgabe 2 ---\")\n",
    "confusion_matrix(y_hats_test, clf_100.predict(x_vals_test))"
   ]
  },
  {
   "cell_type": "markdown",
   "metadata": {},
   "source": [
    "|           | clf=0 | clf=1 |\n",
    "| --------- | ----- | ----- |\n",
    "| **y=0**   | 2     |  1    |\n",
    "| **y=1**   | 0     |  1    |\n",
    "\n",
    "und damit\n",
    "\n",
    "|           | y=1 | y= 0|\n",
    "| --------- | --- | --- |\n",
    "| **clf=1** | 1   |  1  |\n",
    "| **clf=0** | 0   |  2  |"
   ]
  },
  {
   "cell_type": "markdown",
   "metadata": {},
   "source": [
    "---"
   ]
  },
  {
   "cell_type": "markdown",
   "metadata": {},
   "source": [
    "## Programmieraufgabe 2\n",
    "\n",
    "Seien ein Trainingsdatensatz $D^\\text{train}$ und ein Testdatensatz $D^\\text{test}$ gegeben durch\n",
    "\n",
    "$$\n",
    "D^\\text{train}=\\{((37.5, 2), 1), ((36, 1), 0), ((39, 1), 1), ((37.5, 1), 0),((39, 0), 1), ((37.5, 0), 0), ((37.5, 1), 0), ((36, 2), 1)\\}\n",
    "\\\\\n",
    "D^\\text{test}=\\{((36, 0), 0), ((37.5, 1), 0), ((39, 1), 1), ((39, 2), 0)\\}\n",
    "$$\n",
    "\n",
    "Nutzen Sie Python und scikit-learn, um die folgenden Aufgaben zu bearbeiten.\n",
    "\n",
    "**Aufgabe**:\n",
    "\n",
    "- Trainieren Sie einen Entscheidungswald anhand von $D^\\text{train}$ und nutzen Sie ihn, um die Beispiele aus $D^\\text{test}$ zu klassifizieren.Dabei soll die Anzahl erstellter Entscheidungsbäume $100$ betragen.\n",
    "    1. Geben Sie die resultierenden Klassenzuweisungen für die Beispiele aus $D^\\text{test}$ an.\n",
    "    2. Geben Sie außerdem die resultierende Genauigkeit und den $F1$-Wert an.\n",
    "- Trainieren Sie nun zwei weitere Entscheidungswälder, einmal mit $10$ generierten Entscheidungsbäumen und einmal mit $1000$.\n",
    "    1. Geben Sie die resultierenden Klassenzuweisungen für die Beispiele aus $D^\\text{test}$ an.\n",
    "    2. Geben Sie außerdem die resultierende Genauigkeit und den $F1$-Wert an."
   ]
  },
  {
   "cell_type": "code",
   "execution_count": 16,
   "metadata": {},
   "outputs": [
    {
     "name": "stdout",
     "output_type": "stream",
     "text": [
      "--- Classification ---\n",
      "clf_10(D_test) = [0 0 1 1]\n",
      "clf_100(D_test) = [0 0 1 1]\n",
      "clf_1000(D_test) = [0 0 1 1]\n",
      "\n",
      "--- Accuracy ---\n",
      "acc(clf_10, D_test) = 0.750\n",
      "acc(clf_100, D_test) = 0.750\n",
      "acc(clf_1000, D_test) = 0.750\n",
      "\n",
      "--- F1-Score ---\n",
      "f_1(clf_10, D_test) = 0.667\n",
      "f_1(clf_100, D_test) = 0.667\n",
      "f_1(clf_1000, D_test) = 0.667\n"
     ]
    }
   ],
   "source": [
    "from sklearn.ensemble import RandomForestClassifier\n",
    "from sklearn.metrics import accuracy_score, f1_score\n",
    "\n",
    "D_train = [\n",
    "    ((37.5, 2), 1),\n",
    "    ((36, 1), 0),\n",
    "    ((39, 1), 1),\n",
    "    ((37.5, 1), 0),\n",
    "    ((39, 0), 1),\n",
    "    ((37.5, 0), 0),\n",
    "    ((37.5, 1), 0),\n",
    "    ((36, 2), 1),\n",
    "]\n",
    "\n",
    "x_vals_train = [d[0] for d in D_train]\n",
    "y_hats_train = [d[1] for d in D_train]\n",
    "\n",
    "D_test = [((36, 0), 0), ((37.5, 1), 0), ((39, 1), 1), ((39, 2), 0)]\n",
    "x_vals_test = [d[0] for d in D_test]\n",
    "y_hats_test = [d[1] for d in D_test]\n",
    "\n",
    "\n",
    "clf_10 = RandomForestClassifier(n_estimators=10).fit(x_vals_train, y_hats_train)\n",
    "clf_100 = RandomForestClassifier(n_estimators=100).fit(x_vals_train, y_hats_train)\n",
    "clf_1000 = RandomForestClassifier(n_estimators=1000).fit(x_vals_train, y_hats_train)\n",
    "pred_clf_10 = clf_10.predict(x_vals_test)\n",
    "pred_clf_100 = clf_100.predict(x_vals_test)\n",
    "pred_clf_1000 = clf_1000.predict(x_vals_test)\n",
    "\n",
    "print(\"--- Classification ---\")\n",
    "print(f\"clf_10(D_test) = {pred_clf_10}\")\n",
    "print(f\"clf_100(D_test) = {pred_clf_100}\")\n",
    "print(f\"clf_1000(D_test) = {pred_clf_1000}\")\n",
    "\n",
    "print()\n",
    "\n",
    "print(\"--- Accuracy ---\")\n",
    "print(f\"acc(clf_10, D_test) = {accuracy_score(y_hats_test, pred_clf_10):0.3f}\")\n",
    "print(f\"acc(clf_100, D_test) = {accuracy_score(y_hats_test, pred_clf_100):0.3f}\")\n",
    "print(f\"acc(clf_1000, D_test) = {accuracy_score(y_hats_test, pred_clf_1000):0.3f}\")\n",
    "\n",
    "print()\n",
    "\n",
    "print(\"--- F1-Score ---\")\n",
    "print(f\"f_1(clf_10, D_test) = {f1_score(y_hats_test, pred_clf_10):0.3f}\")\n",
    "print(f\"f_1(clf_100, D_test) = {f1_score(y_hats_test, pred_clf_100):0.3f}\")\n",
    "print(f\"f_1(clf_1000, D_test) = {f1_score(y_hats_test, pred_clf_1000):0.3f}\")"
   ]
  }
 ],
 "metadata": {
  "kernelspec": {
   "display_name": "venv",
   "language": "python",
   "name": "python3"
  },
  "language_info": {
   "codemirror_mode": {
    "name": "ipython",
    "version": 3
   },
   "file_extension": ".py",
   "mimetype": "text/x-python",
   "name": "python",
   "nbconvert_exporter": "python",
   "pygments_lexer": "ipython3",
   "version": "3.10.5"
  }
 },
 "nbformat": 4,
 "nbformat_minor": 2
}
