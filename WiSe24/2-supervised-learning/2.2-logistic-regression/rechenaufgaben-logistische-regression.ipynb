{
 "cells": [
  {
   "cell_type": "markdown",
   "metadata": {},
   "source": [
    "# Rechenaufgaben zu 2.2 (Logistische Regression)\n"
   ]
  },
  {
   "cell_type": "markdown",
   "metadata": {},
   "source": [
    "---"
   ]
  },
  {
   "cell_type": "markdown",
   "metadata": {},
   "source": [
    "## Rechenaufgabe 1\n",
    "\n",
    "Sei ein Datensatz $D$ gegeben durch\n",
    "\n",
    "$$\n",
    "D=\\{((56,44),1),((50,37),0),((47,53),1),((18,40),0)\\}\n",
    "$$\n",
    "\n",
    "\n",
    "und $\\theta=(45,-0.5,-0.5)$. \n",
    "\n",
    "**Aufgabe**: Bestimmen Sie die logistische Kostenfunktion $L^\\text{logit}$ von $h^\\text{logit}_\\theta$ bzgl. $D$."
   ]
  },
  {
   "cell_type": "code",
   "execution_count": null,
   "metadata": {},
   "outputs": [
    {
     "name": "stdout",
     "output_type": "stream",
     "text": [
      "Lösung: L^logit(D, h_theta_logit)=27.715\n"
     ]
    }
   ],
   "source": [
    "from math import exp, log\n",
    "\n",
    "\n",
    "def h_logit_theta(x):\n",
    "    x_1, x_2 = x\n",
    "    return 1 / (1 + exp(-(45 - 0.5 * x_1 - 0.5 * x_2)))\n",
    "\n",
    "\n",
    "D = [((56, 44), 1), ((50, 37), 0), ((47, 53), 1), ((18, 40), 0)]\n",
    "x_vals = [d[0] for d in D]\n",
    "y_hats = [d[1] for d in D]\n",
    "\n",
    "pred = [h_logit_theta(x) for x in x_vals]\n",
    "\n",
    "\n",
    "def logit_loss(y_hat, pred):\n",
    "    return -(y_hat * log(pred) + (1 - y_hat) * log(1 - pred))\n",
    "\n",
    "\n",
    "cost = sum(logit_loss(y_hat, h_logit_theta(x)) for y_hat, x in zip(y_hats, x_vals))\n",
    "\n",
    "print(f\"Lösung: L^logit(D, h_theta_logit)={cost:0.3f}\")"
   ]
  },
  {
   "cell_type": "markdown",
   "metadata": {},
   "source": [
    "---"
   ]
  },
  {
   "cell_type": "markdown",
   "metadata": {},
   "source": [
    "## Rechenaufgabe 2\n",
    "\n",
    "Sei ein Datensatz $D$ gegeben durch\n",
    "\n",
    "$$\n",
    "D=\\{((0.33,5),1),((0.31,4),1),((0.36,6),0),((0.05,29),0),((0.18,6),0)\\}\n",
    "$$\n",
    "\n",
    "\n",
    "und ein Klassifikator $c$ mit \n",
    "\n",
    "$$\n",
    "c(x_1)=1, c(x_2)=0, c(x_3)=1, c(x_4)=0, c(x_5)=1\n",
    "$$\n",
    "\n",
    "**Aufgabe**: \n",
    "\n",
    "1. Stellen Sie die Konfusionsmatrix für den Klassifikator c auf.\n",
    "2. Berechnen Sie weiterhin die folgenden Maße:\n",
    "    - Genauigkeit\n",
    "    - Precision\n",
    "    - Recall/Sensitivität\n",
    "    - F1"
   ]
  },
  {
   "cell_type": "markdown",
   "metadata": {},
   "source": [
    "|           | y=1 | y=0 |\n",
    "| --------- | --- | --- |\n",
    "| **clf=1** |  1  | 2  |\n",
    "| **clf=0** |  1  | 1  |"
   ]
  },
  {
   "cell_type": "markdown",
   "metadata": {},
   "source": [
    "- Genauigkeit: 2/5 = 0.4\n",
    "- Precision: 1 / (1 + 2) = 1/3\n",
    "- Recall: 1 / (1 + 1) = 0.5\n",
    "- F1: 2*(1/3*0.5) / (1/3 + 0.5) = 0.4"
   ]
  }
 ],
 "metadata": {
  "kernelspec": {
   "display_name": "venv",
   "language": "python",
   "name": "python3"
  },
  "language_info": {
   "codemirror_mode": {
    "name": "ipython",
    "version": 3
   },
   "file_extension": ".py",
   "mimetype": "text/x-python",
   "name": "python",
   "nbconvert_exporter": "python",
   "pygments_lexer": "ipython3",
   "version": "3.10.5"
  }
 },
 "nbformat": 4,
 "nbformat_minor": 2
}
