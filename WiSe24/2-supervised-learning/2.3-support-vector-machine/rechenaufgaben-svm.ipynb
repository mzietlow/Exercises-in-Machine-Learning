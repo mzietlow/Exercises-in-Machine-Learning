{
 "cells": [
  {
   "cell_type": "markdown",
   "metadata": {},
   "source": [
    "# Rechenaufgaben zu 2.3 (Support Vector Machine)"
   ]
  },
  {
   "cell_type": "markdown",
   "metadata": {},
   "source": [
    "---"
   ]
  },
  {
   "cell_type": "markdown",
   "metadata": {},
   "source": [
    "## Rechenaufgabe 1\n",
    "\n",
    "Sei ein Datensatz D gegeben durch\n",
    "\n",
    "$$\n",
    "D = \\{((1,2),-1),((1.5,0.5),-1),((1.5,3.5),1),((3.5,1),1),((3.5,3),1)\\}\n",
    "$$\n",
    "\n",
    "Sei weiterhin $h_0 = h_{\\theta, b}^\\text{SVM}$: $(\\frac{20}{17},\\frac{16}{17})^T x - \\frac{69}{17} = 0$ eine optimal separierende Hyperebene bzgl. $D$.\n",
    "\n",
    "**Aufgaben**: \n",
    "\n",
    "1. Bestimmen Sie den Abstand zwischen $h_0$ und den zu $h_0$ parallelen Hyperebenen $h_1$ und $h_{-1}$.\n",
    "2. Bestimmen Sie, bei welchen Punkten aus $D$ es sich um Stützvektoren handelt.\n"
   ]
  },
  {
   "cell_type": "code",
   "execution_count": 35,
   "metadata": {},
   "outputs": [
    {
     "name": "stdout",
     "output_type": "stream",
     "text": [
      "Der Abstand h_0 <-> h_1 bzw. h_0 <-> h_2 beträgt 0.664\n",
      "x_1 (1, 2) ist Support Vector (Abstand: -1.0)\n",
      "x_3 (1.5, 3.5) ist Support Vector (Abstand: 1.0)\n",
      "x_4 (3.5, 1) ist Support Vector (Abstand: 1.0)\n"
     ]
    }
   ],
   "source": [
    "def svm(x):\n",
    "    x_1, x_2 = x\n",
    "    return round(\n",
    "        20 / 17 * x_1 + 16 / 17 * x_2 - 69 / 17, 3\n",
    "    )  # Ohne Runden kommt es zu einem Float-Error (1.0000000000000009)\n",
    "\n",
    "\n",
    "def norm(theta_1, theta_2):\n",
    "    return (theta_1**2 + theta_2**2) ** (1 / 2)\n",
    "\n",
    "\n",
    "D = [\n",
    "    ((1, 2), -1),\n",
    "    ((1.5, 0.5), -1),\n",
    "    ((1.5, 3.5), 1),\n",
    "    ((3.5, 1), 1),\n",
    "    ((3.5, 3), 1),\n",
    "]\n",
    "\n",
    "x_vals = [d[0] for d in D]\n",
    "\n",
    "print(f\"Der Abstand h_0 <-> h_1 bzw. h_0 <-> h_2 beträgt {1/norm(20/17, 16/17):0.3f}\")\n",
    "\n",
    "for i, x in enumerate(x_vals, start=1):\n",
    "    abstand_h0 = svm(x)\n",
    "    if abs(abstand_h0) == 1:\n",
    "        print(f\"x_{i} {x} ist Support Vector (Abstand: {abstand_h0})\")"
   ]
  },
  {
   "cell_type": "markdown",
   "metadata": {},
   "source": [
    "---"
   ]
  },
  {
   "cell_type": "markdown",
   "metadata": {},
   "source": [
    "## Rechenaufgabe 2\n",
    "\n",
    "Sei ein Datensatz D gegeben durch\n",
    "\n",
    "$$\n",
    "D = \\{((1,3),-1),((4,3),1),((5,3.5),-1),((7,2.5),-1)\\}\n",
    "$$\n",
    "\n",
    "und $f: \\mathbb{R}^{2} \\rightarrow \\mathbb{R}$ mit $f(x_1,x_2)=\\cos((x_1+x_2-3)\\pi)$. \n",
    "\n",
    "**Aufgabe**: Berechnen Sie die Hinge-Kostenfunktion $L^\\text{hinge}(D,f)$."
   ]
  },
  {
   "cell_type": "code",
   "execution_count": 22,
   "metadata": {},
   "outputs": [
    {
     "name": "stdout",
     "output_type": "stream",
     "text": [
      "L^hinge(D,f): 2.000\n"
     ]
    }
   ],
   "source": [
    "import math\n",
    "\n",
    "D = [((1, 3), -1), ((4, 3), 1), ((5, 3.5), -1), ((7, 2.5), -1)]\n",
    "x_vals = [d[0] for d in D]\n",
    "y_hats = [d[1] for d in D]\n",
    "\n",
    "\n",
    "def hinge(y_hat, pred):\n",
    "    return max(0, 1 - y_hat * pred)\n",
    "\n",
    "\n",
    "def f_func(x):\n",
    "    x_1, x_2 = x\n",
    "    return math.cos(math.pi * (x_1 + x_2 - 3))\n",
    "\n",
    "\n",
    "total_hinge_loss = sum(hinge(y_hat, f_func(x)) for x, y_hat in zip(x_vals, y_hats))\n",
    "\n",
    "print(f\"L^hinge(D,f): {total_hinge_loss:0.3f}\")"
   ]
  }
 ],
 "metadata": {
  "kernelspec": {
   "display_name": "venv",
   "language": "python",
   "name": "python3"
  },
  "language_info": {
   "codemirror_mode": {
    "name": "ipython",
    "version": 3
   },
   "file_extension": ".py",
   "mimetype": "text/x-python",
   "name": "python",
   "nbconvert_exporter": "python",
   "pygments_lexer": "ipython3",
   "version": "3.10.5"
  }
 },
 "nbformat": 4,
 "nbformat_minor": 2
}
