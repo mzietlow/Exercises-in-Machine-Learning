{
 "cells": [
  {
   "cell_type": "markdown",
   "metadata": {},
   "source": [
    "# Programmieraufgaben zu 2.3 (Support Vector Machine)"
   ]
  },
  {
   "cell_type": "markdown",
   "metadata": {},
   "source": [
    "---"
   ]
  },
  {
   "cell_type": "markdown",
   "metadata": {},
   "source": [
    "## Programmieraufgabe 1\n",
    "\n",
    "Sei ein Datensatz $D$ gegeben durch\n",
    "\n",
    "$$\n",
    "D=\\{((2, 7), -1), ((7.5, 0.5), -1), ((3, 3.3), -1), ((2.5, 7.5), 1), ((4, 3.8), 1), ((5, 2), 1)\\}\n",
    "$$\n",
    "\n",
    "**Aufgabe**: Bestimmen Sie, unter Nutzung von Python und scikit-learn, die optimale lineare soft-margin SVM bzgl. $D$."
   ]
  },
  {
   "cell_type": "code",
   "execution_count": 26,
   "metadata": {},
   "outputs": [
    {
     "name": "stdout",
     "output_type": "stream",
     "text": [
      "Wir erhalten: h_opt = (0.320, 0.515)^Tx - 3.659\n"
     ]
    }
   ],
   "source": [
    "from sklearn.svm import SVC\n",
    "\n",
    "D = [\n",
    "    ((2, 7), -1),\n",
    "    ((7.5, 0.5), -1),\n",
    "    ((3, 3.3), -1),\n",
    "    ((2.5, 7.5), 1),\n",
    "    ((4, 3.8), 1),\n",
    "    ((5, 2), 1),\n",
    "]\n",
    "\n",
    "x_vals = [d[0] for d in D]\n",
    "y_hats = [d[1] for d in D]\n",
    "\n",
    "clf = SVC(kernel=\"linear\").fit(x_vals, y_hats)\n",
    "\n",
    "bias = -clf.intercept_[0]\n",
    "theta_1 = clf.coef_[0][0]\n",
    "theta_2 = clf.coef_[0][1]\n",
    "\n",
    "print(f\"Wir erhalten: h_opt = ({theta_1:0.3f}, {theta_2:0.3f})^Tx - {bias:0.3f}\")"
   ]
  },
  {
   "cell_type": "markdown",
   "metadata": {},
   "source": [
    "---"
   ]
  },
  {
   "cell_type": "markdown",
   "metadata": {},
   "source": [
    "## Programmieraufgabe 2\n",
    "\n",
    "Seien ein Trainingsdatensatz $D^\\text{train}$\n",
    "\n",
    "$$\n",
    "D^\\text{train}=\\{((8.7, 16.5), 1), ((10.8, 14.8), 1), ((12, 16.7), 1), ((12.2, 12.2), 1), ((16.5, 13), −1), ((5.8, 23.5), −1)\\}\n",
    "$$\n",
    "\n",
    "und ein Testdatensatz $D^\\text{test}$\n",
    "\n",
    "$$\n",
    "D^\\text{test}=\\{((13, 12.5), 1), ((6.2, 21.3), −1), ((6, 25.8), 1), ((8.5, 27.7), −1)\\}\n",
    "$$\n",
    "\n",
    "gegeben. \n",
    "\n",
    "Die folgenden Aufgaben sollen unter Nutzung von Python und scikit-learn durchgeführt werden.\n",
    "\n",
    "**Aufgaben**:\n",
    "\n",
    "\n",
    "1. Plotten Sie den Datensatz $D^\\text{train}$.\n",
    "2. Bestimmen Sie anhand des Plots aus dem vorherigen Schritt eine geeignete Kernel-Funktion.\n",
    "3. Bestimmen Sie die Supportvektoren der optimale soft-margin SVM bzgl. $D^\\text{train}$.\n",
    "4. Berechnen Sie die folgenden Maße bzgl. $D^\\text{test}$ und der zuvor trainierten SVM:\n",
    "    - Genauigkeit\n",
    "    - Präzision\n",
    "    - Sensitivität\n",
    "    - F1\n"
   ]
  },
  {
   "cell_type": "code",
   "execution_count": 62,
   "metadata": {},
   "outputs": [
    {
     "data": {
      "text/plain": [
       "[(8.7, 16.5), (10.8, 14.8), (12, 16.7), (12.2, 12.2), (16.5, 13), (5.8, 23.5)]"
      ]
     },
     "execution_count": 62,
     "metadata": {},
     "output_type": "execute_result"
    },
    {
     "data": {
      "image/png": "[encoded data removed]",
      "text/plain": [
       "<Figure size 640x480 with 1 Axes>"
      ]
     },
     "metadata": {},
     "output_type": "display_data"
    }
   ],
   "source": [
    "from seaborn import scatterplot\n",
    "\n",
    "d_train = [\n",
    "    ((8.7, 16.5), 1),\n",
    "    ((10.8, 14.8), 1),\n",
    "    ((12, 16.7), 1),\n",
    "    ((12.2, 12.2), 1),\n",
    "    ((16.5, 13), -1),\n",
    "    ((5.8, 23.5), -1),\n",
    "]\n",
    "\n",
    "x_train = [d[0] for d in d_train]\n",
    "y_hats = [d[1] for d in d_train]\n",
    "\n",
    "x, y = zip(*x_train)\n",
    "\n",
    "scatterplot(x=x, y=y, hue=y_hats)\n",
    "x_train"
   ]
  },
  {
   "cell_type": "markdown",
   "metadata": {},
   "source": [
    "Aufgrund der kreisförmigen Anordnung der Klasse \"1\" bietet sich für das Training der SVM die Nutzung eines RBF-Kernels an."
   ]
  },
  {
   "cell_type": "code",
   "execution_count": 75,
   "metadata": {},
   "outputs": [
    {
     "name": "stdout",
     "output_type": "stream",
     "text": [
      "Support Vectors:\n",
      " [[16.5 13. ]\n",
      " [ 5.8 23.5]\n",
      " [ 8.7 16.5]\n",
      " [12.  16.7]\n",
      " [12.2 12.2]]\n",
      "\n",
      "--- Metrics ---\n",
      "Genauigkeit: 0.75\n",
      "Precision: 0.5\n",
      "Recall: 1.0\n",
      "F1: 0.6666666666666666\n"
     ]
    }
   ],
   "source": [
    "from sklearn.svm import SVC\n",
    "from sklearn.metrics import accuracy_score, precision_score, recall_score, f1_score\n",
    "\n",
    "clf = SVC(kernel=\"rbf\").fit(x_train, y_hats)\n",
    "print(\"Support Vectors:\\n\", clf.support_vectors_)\n",
    "\n",
    "D_test = [((13, 12.5), 1), ((6.2, 21.3), -1), ((6, 25.8), 1), ((8.5, 27.7), -1)]\n",
    "x_test = [d[0] for d in D_test]\n",
    "y_hats_test = [d[1] for d in D_test]\n",
    "\n",
    "pred = clf.predict(x_test)\n",
    "print()\n",
    "print(\"--- Metrics ---\")\n",
    "print(f\"Genauigkeit: {accuracy_score(pred, y_hats_test)}\")\n",
    "print(f\"Precision: {precision_score(pred, y_hats_test)}\")\n",
    "print(f\"Recall: {recall_score(pred, y_hats_test)}\")\n",
    "print(f\"F1: {f1_score(pred, y_hats_test)}\")"
   ]
  }
 ],
 "metadata": {
  "kernelspec": {
   "display_name": "venv",
   "language": "python",
   "name": "python3"
  },
  "language_info": {
   "codemirror_mode": {
    "name": "ipython",
    "version": 3
   },
   "file_extension": ".py",
   "mimetype": "text/x-python",
   "name": "python",
   "nbconvert_exporter": "python",
   "pygments_lexer": "ipython3",
   "version": "3.10.5"
  }
 },
 "nbformat": 4,
 "nbformat_minor": 2
}
