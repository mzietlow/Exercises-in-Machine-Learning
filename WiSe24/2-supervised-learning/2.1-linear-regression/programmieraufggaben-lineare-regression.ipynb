{
 "cells": [
  {
   "cell_type": "markdown",
   "metadata": {},
   "source": [
    "# Programmieraufgaben zu 2.1 (Lineare Regression)\n"
   ]
  },
  {
   "cell_type": "markdown",
   "metadata": {},
   "source": [
    "## Aufgabe 1\n",
    "\n",
    "Sei ein Datensatz $D$ gegeben durch\n",
    "\n",
    "$$\n",
    "D=\\{((23,36),0.1),((23,34),0),((26,29),1.2),((21,40),-0.5),((20,33),-1.5),((25,35),0.7)\\}\n",
    "$$\n",
    "\n",
    "Bestimmen Sie, unter Nutzung von Python und scikit-learn, $\\theta=(\\theta_0,\\theta_1,\\theta_2)$ für das optimale lineare Modell $h_\\theta$ bzgl. $D$."
   ]
  },
  {
   "cell_type": "code",
   "execution_count": 30,
   "metadata": {},
   "outputs": [
    {
     "name": "stdout",
     "output_type": "stream",
     "text": [
      "theta_1: -11.918\n",
      "theta_2: 0.445\n",
      "theta_3: 0.049\n"
     ]
    }
   ],
   "source": [
    "from sklearn.linear_model import LinearRegression\n",
    "\n",
    "D=[((23,36),0.1),((23,34),0),((26,29),1.2),((21,40),-0.5),((20,33),-1.5),((25,35),0.7)]\n",
    "x_vals = [d[0] for d in D]\n",
    "y_hats = [d[1] for d in D]\n",
    "\n",
    "\n",
    "regressor = LinearRegression().fit(x_vals, y_hats)\n",
    "\n",
    "thetas = regressor.intercept_, *regressor.coef_\n",
    "for i, theta in enumerate(thetas, start=1):\n",
    "    print(f\"theta_{i}: {theta:0.3f}\")\n"
   ]
  },
  {
   "cell_type": "markdown",
   "metadata": {},
   "source": [
    "---"
   ]
  },
  {
   "cell_type": "markdown",
   "metadata": {},
   "source": [
    "## Aufgabe 2\n",
    "\n",
    "Sei ein Datensatz $D$ gegeben durch\n",
    "\n",
    "$$\n",
    "D=\\{((0.5,4.4),6.8),((1,4.0),8.1),((1.5,3.8),9.3),((1.6,3.7),11.1),((1.2,5.2),11.6),((0.7,4.3),13.6)\\}\n",
    "$$\n",
    "\n",
    "**Aufgabe**: Bestimmen Sie, unter Nutzung von Python und scikit-learn, $\\theta=(\\theta_0,\\theta_1,\\theta_2,\\theta_3,\\theta_4,\\theta_5)$ für das optimale lineare Modell $h_\\theta$ bzgl. $D′$, wobei $D′$ die polynomielle Merkmalserweiterung von $D$ mit Maximalgrad $2$ sei."
   ]
  },
  {
   "cell_type": "code",
   "execution_count": 32,
   "metadata": {},
   "outputs": [
    {
     "name": "stdout",
     "output_type": "stream",
     "text": [
      "theta_1: -1588.241\n",
      "theta_2: 1488.408\n",
      "theta_3: 353.983\n",
      "theta_4: -180.842\n",
      "theta_5: -266.054\n",
      "theta_6: -3.934\n"
     ]
    }
   ],
   "source": [
    "from sklearn.linear_model import LinearRegression\n",
    "from sklearn.preprocessing import PolynomialFeatures\n",
    "\n",
    "D=[((0.5,4.4),6.8),((1,4.0),8.1),((1.5,3.8),9.3),((1.6,3.7),11.1),((1.2,5.2),11.6),((0.7,4.3),13.6)]\n",
    "x_vals = [d[0] for d in D]\n",
    "y_hats = [d[1] for d in D]\n",
    "\n",
    "\n",
    "x_prime_vals = PolynomialFeatures(degree=2, include_bias=False).fit_transform(x_vals)\n",
    "regressor = LinearRegression().fit(x_prime_vals, y_hats)\n",
    "\n",
    "thetas = regressor.intercept_, *regressor.coef_\n",
    "for i, theta in enumerate(thetas, start=1):\n",
    "    print(f\"theta_{i}: {theta:0.3f}\")\n",
    "\n"
   ]
  },
  {
   "cell_type": "markdown",
   "metadata": {},
   "source": [
    "---"
   ]
  },
  {
   "cell_type": "markdown",
   "metadata": {},
   "source": [
    "## Aufgabe 3\n",
    "\n",
    "Sei ein Datensatz $D$ gegeben durch\n",
    "\n",
    "$$\n",
    "D=\\{((12,7),5.5),((10,8),6),((10,7.5),7),((15,5),6.5),((16,9),7.5),((18,8),10)\\}\n",
    "$$\n",
    "\n",
    "**Aufgabe**: Bestimmen Sie, unter Nutzung von Python und scikit-learn, $\\theta=(\\theta_0,\\theta_1,\\theta_2)$ für das Ridge-Regressions Modell $h_\\theta$ bzgl. $D$ mit $\\lambda=0.1$."
   ]
  },
  {
   "cell_type": "code",
   "execution_count": 33,
   "metadata": {},
   "outputs": [
    {
     "name": "stdout",
     "output_type": "stream",
     "text": [
      "theta_1: -0.278\n",
      "theta_2: 0.347\n",
      "theta_3: 0.361\n"
     ]
    }
   ],
   "source": [
    "from sklearn.linear_model import Ridge\n",
    "\n",
    "D=[((12,7),5.5),((10,8),6),((10,7.5),7),((15,5),6.5),((16,9),7.5),((18,8),10)]\n",
    "x_vals = [d[0] for d in D]\n",
    "y_hats = [d[1] for d in D]\n",
    "\n",
    "\n",
    "regressor = Ridge(alpha=0.1).fit(x_vals, y_hats)\n",
    "\n",
    "thetas = regressor.intercept_, *regressor.coef_\n",
    "for i, theta in enumerate(thetas, start=1):\n",
    "    print(f\"theta_{i}: {theta:0.3f}\")\n"
   ]
  },
  {
   "cell_type": "markdown",
   "metadata": {},
   "source": [
    "---"
   ]
  },
  {
   "cell_type": "markdown",
   "metadata": {},
   "source": [
    "## Aufgabe 4\n",
    "\n",
    "Sei ein Datensatz $D$ gegeben durch\n",
    "\n",
    "$$\n",
    "D=\\{((17.5,20),0.85),((21.5,23),0.9),((19,19),1.1),((20,18),1),((22.5,16),1.1),((20.5,15),0.8)\\}\n",
    "$$\n",
    "\n",
    "**Aufgabe**: Bestimmen Sie, unter Nutzung von Python und scikit-learn, $\\theta=(\\theta_0,\\theta_1,\\theta_2,\\theta_3,\\theta_4,\\theta_5)$ für das Ridge-Regressions Modell $h\\theta$ bzgl. $D'$, wobei $D'$ die polynomielle Merkmalserweiterung von $D$ mit Maximalgrad $2$ ist, mit $\\lambda=0.2$."
   ]
  },
  {
   "cell_type": "code",
   "execution_count": 34,
   "metadata": {},
   "outputs": [
    {
     "name": "stdout",
     "output_type": "stream",
     "text": [
      "theta_1: -0.900\n",
      "theta_2: -0.062\n",
      "theta_3: 0.227\n",
      "theta_4: -0.002\n",
      "theta_5: 0.010\n",
      "theta_6: -0.011\n"
     ]
    }
   ],
   "source": [
    "from sklearn.linear_model import Ridge\n",
    "from sklearn.preprocessing import PolynomialFeatures\n",
    "\n",
    "D=[((17.5,20),0.85),((21.5,23),0.9),((19,19),1.1),((20,18),1),((22.5,16),1.1),((20.5,15),0.8)]\n",
    "x_vals = [d[0] for d in D]\n",
    "y_hats = [d[1] for d in D]\n",
    "\n",
    "x_prime_vals = PolynomialFeatures(degree=2, include_bias=False).fit_transform(x_vals)\n",
    "\n",
    "regressor = Ridge(alpha=0.2).fit(x_prime_vals, y_hats)\n",
    "\n",
    "\n",
    "thetas = regressor.intercept_, *regressor.coef_\n",
    "for i, theta in enumerate(thetas, start=1):\n",
    "    print(f\"theta_{i}: {theta:0.3f}\")\n"
   ]
  }
 ],
 "metadata": {
  "kernelspec": {
   "display_name": "venv",
   "language": "python",
   "name": "python3"
  },
  "language_info": {
   "codemirror_mode": {
    "name": "ipython",
    "version": 3
   },
   "file_extension": ".py",
   "mimetype": "text/x-python",
   "name": "python",
   "nbconvert_exporter": "python",
   "pygments_lexer": "ipython3",
   "version": "3.10.5"
  }
 },
 "nbformat": 4,
 "nbformat_minor": 2
}
