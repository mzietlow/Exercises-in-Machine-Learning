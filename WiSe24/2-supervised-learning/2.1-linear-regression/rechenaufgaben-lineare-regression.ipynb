{
 "cells": [
  {
   "cell_type": "markdown",
   "metadata": {},
   "source": [
    "# Rechenaufgaben zu 2.1 (Lineare Regression)\n"
   ]
  },
  {
   "cell_type": "markdown",
   "metadata": {},
   "source": [
    "---"
   ]
  },
  {
   "cell_type": "markdown",
   "metadata": {},
   "source": [
    "## Rechenaufgabe 1\n",
    "\n",
    "Sei ein Datensatz $D$ gegeben durch\n",
    "\n",
    "$$\n",
    "D=\\{((1,12),5),((2,2),8),((2,9),16),((4,9),23)\\}\n",
    "$$\n",
    "\n",
    "\n",
    "und $\\theta=(−1,4,0.5)$. \n",
    "\n",
    "**Aufgabe**: Bestimmen Sie das Bestimmtheitsmaß $R^2$ von $h_\\theta$ bzgl. $D$."
   ]
  },
  {
   "cell_type": "code",
   "execution_count": 43,
   "metadata": {},
   "outputs": [
    {
     "name": "stdout",
     "output_type": "stream",
     "text": [
      "Lösung: R^2(D, h_theta)=0.755\n"
     ]
    }
   ],
   "source": [
    "def h_theta(x):\n",
    "    x_1, x_2 = x\n",
    "    return -1 + 4*x_1 + 0.5*x_2\n",
    "\n",
    "D=[((1,12),5),((2,2),8),((2,9),16),((4,9),23)]\n",
    "x_vals = [d[0] for d in D]\n",
    "y_hats = [d[1] for d in D]\n",
    "\n",
    "pred = [h_theta(x) for x in x_vals]\n",
    "\n",
    "\n",
    "def bestimmtheitsmaß(y_hats, pred):\n",
    "    nominator = sum((y_hat - y_pred)**2 for y_hat, y_pred in zip(y_hats, pred))\n",
    "\n",
    "    y_mean = sum(y_hats) / len(y_hats)\n",
    "    denominator = sum((y_hat - y_mean)**2 for y_hat in y_hats)\n",
    "    \n",
    "    return 1 - (nominator / denominator)\n",
    "\n",
    "print(f\"Lösung: R^2(D, h_theta)={bestimmtheitsmaß(y_hats, pred):0.3f}\")\n"
   ]
  },
  {
   "cell_type": "markdown",
   "metadata": {},
   "source": [
    "---"
   ]
  },
  {
   "cell_type": "markdown",
   "metadata": {},
   "source": [
    "## Rechenaufgabe 2\n",
    "\n",
    "Sei ein Datensatz $D$ gegeben durch\n",
    "\n",
    "$$\n",
    "D=\\{((12,0),-3),((19,1.5),-4),((40,2.9),-5),((40,4.3),-5)\\}\n",
    "$$\n",
    "\n",
    "\n",
    "und $\\theta=(-2,-0.05,-0.5)$. \n",
    "\n",
    "**Aufgabe**: Bestimmen Sie den quadratischen Fehler $L$ von $h_\\theta$ bzgl. $D$."
   ]
  },
  {
   "cell_type": "code",
   "execution_count": 17,
   "metadata": {},
   "outputs": [
    {
     "name": "stdout",
     "output_type": "stream",
     "text": [
      "Lösung: L(D,f)= 1.775\n"
     ]
    }
   ],
   "source": [
    "D=[((12,0),-3),((19,1.5),-4),((40,2.9),-5),((40,4.3),-5)]\n",
    "\n",
    "x_vals = [d[0] for d in D]\n",
    "y_hats = [d[1] for d in D]\n",
    "\n",
    "\n",
    "def h_theta(x):\n",
    "    x_1, x_2 = x\n",
    "    return -2 - 0.05 * x_1 -0.5 * x_2\n",
    "\n",
    "\n",
    "\n",
    "sqr_loss = sum((h_theta(x) - y_hat)**2 for x,y_hat in zip(x_vals, y_hats))\n",
    "\n",
    "print(f\"Lösung: L(D,f)= {sqr_loss:0.3f}\")"
   ]
  },
  {
   "cell_type": "markdown",
   "metadata": {},
   "source": [
    "---"
   ]
  },
  {
   "cell_type": "markdown",
   "metadata": {},
   "source": [
    "## Rechenaufgabe 3\n",
    "\n",
    "Sei ein Datensatz $D$ gegeben durch\n",
    "\n",
    "$$\n",
    "D=\\{((182,23),172),((180,12),168),((162,26),153)\\}\n",
    "$$\n",
    "\n",
    "\n",
    "und $\\theta=(-15,1,0.4)$ sowie $\\lambda=0.1$. \n",
    "\n",
    "**Aufgabe**: Bestimmen Sie den quadratischen Fehler mit Tikhonov-Regularisierung $L_T$ von $h_\\theta$ bzgl. $D$."
   ]
  },
  {
   "cell_type": "code",
   "execution_count": 42,
   "metadata": {},
   "outputs": [
    {
     "name": "stdout",
     "output_type": "stream",
     "text": [
      "Lösung: L_T(D,f)= 40.356\n"
     ]
    }
   ],
   "source": [
    "D=[((182,23),172),((180,12),168),((162,26),153)]\n",
    "\n",
    "x_vals = [d[0] for d in D]\n",
    "y_hats = [d[1] for d in D]\n",
    "\n",
    "def h_theta(x):\n",
    "    x_1, x_2 = x\n",
    "\n",
    "    return -15 + x_1 + 0.4 * x_2\n",
    "\n",
    "\n",
    "thikonov_loss = 1**2 + 0.4**2\n",
    "sqr_loss = sum((h_theta(x) - y_hat)**2 for x, y_hat in zip(x_vals, y_hats))\n",
    "\n",
    "sqr_loss_thikonov = sqr_loss + 0.1 * thikonov_loss\n",
    "\n",
    "print(f\"Lösung: L_T(D,f)= {sqr_loss_thikonov:0.3f}\")"
   ]
  },
  {
   "cell_type": "markdown",
   "metadata": {},
   "source": [
    "---"
   ]
  },
  {
   "cell_type": "markdown",
   "metadata": {},
   "source": [
    "## Rechenaufgabe 4\n",
    "\n",
    "Sei ein Datensatz $D$ gegeben durch\n",
    "\n",
    "$$\n",
    "D=\\{((674,40),998),((100,19),71),((348,1),1)\\}\n",
    "$$\n",
    "\n",
    "**Aufgabe**: Bestimmen Sie die polynomielle Merkmalserweiterung von D mit Maximalgrad $2$."
   ]
  },
  {
   "cell_type": "markdown",
   "metadata": {},
   "source": [
    "**Antwort**: Klar, wir erhalten:\n",
    "\n",
    "- $x_1=(674, 40, 674^2, 674\\cdot 40, 40^2)$\n",
    "- $x_2=(100, 19, 100^2, 100\\cdot 19, 19^2)$\n",
    "- $x_3=(348, 1, 348^2, 348\\cdot 1, 1^2)$\n",
    "\n",
    "und damit\n",
    "\n",
    "$$\n",
    "D'=\\{\n",
    "((674, 40, 674^2, 674\\cdot 40, 40^2), 998),\n",
    "((100, 19, 100^2, 100\\cdot 19, 19^2), 71),\n",
    "((348, 1, 348^2, 348\\cdot 1, 1^2), 1)\n",
    "\\}\n",
    "$$"
   ]
  }
 ],
 "metadata": {
  "kernelspec": {
   "display_name": "venv",
   "language": "python",
   "name": "python3"
  },
  "language_info": {
   "codemirror_mode": {
    "name": "ipython",
    "version": 3
   },
   "file_extension": ".py",
   "mimetype": "text/x-python",
   "name": "python",
   "nbconvert_exporter": "python",
   "pygments_lexer": "ipython3",
   "version": "3.10.5"
  }
 },
 "nbformat": 4,
 "nbformat_minor": 2
}
