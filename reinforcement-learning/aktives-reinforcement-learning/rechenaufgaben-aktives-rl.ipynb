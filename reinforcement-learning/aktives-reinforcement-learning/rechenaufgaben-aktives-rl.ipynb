{
 "cells": [
  {
   "cell_type": "markdown",
   "metadata": {},
   "source": [
    "# Rechenaufgabe zu 4.3 (Aktives RL)\n",
    "\n",
    "- In einer vollautomatisierten Packstation soll ein Transportroboter eigenständig Pakete von der Annahmestelle in die Regale transportieren.\n",
    "- Der ideale Ablauf hierfür ist, dass er das Paket aufnimmt (load), sich zu den Regalen bewegt (move), dort das Paket ablegt (unload) und zurückkehrt.\n",
    "- Der Zielzustand ist erreicht, wenn sich der Roboter an der Annahmestelle befindet und kein weiteres Paket vorliegt.\n",
    "\n",
    "Die Menge der Zustände ergibt sich folglich aus\n",
    "\n",
    "- dem Aufenthaltsort des Roboters (a Annahmestelle oder r Regale) und\n",
    "- dem Status des zu bearbeitenden Paketes (v vorgelegt, u unterwegs, w weggebracht).\n",
    "\n",
    "Die Menge der Zustände erhalten wir also durch\n",
    "\n",
    "$$\n",
    "S_\\text{tr}=\\{s^v_a,s^u_a,s^v_r,s^u_r,s^w_r,s^w_a\\}\n",
    "$$\n",
    "\n",
    "Als Startzustand wählen wir $s_0=s^v_a$, als Zielzustand $s^t=s^w_a$.\\\n",
    "Die Menge der Aktionen ist:\n",
    "\n",
    "$$\n",
    "A_\\text{tr}=\\{\\text{move},\\text{load},\\text{unload}\\}\n",
    "$$\n",
    "\n",
    "Sei eine Strategie vorgegeben durch\n",
    "\n",
    "- $\\pi_\\text{tr}(s^v_a)=\\text{load}$\n",
    "- $\\pi_\\text{tr}(s^u_a)=\\pi_\\text{tr}(s^v_r)=\\pi_\\text{tr}(s^w_r)=\\text{move}$\n",
    "- $\\pi_\\text{tr}(s^u_r)=\\text{unload}$\n"
   ]
  },
  {
   "cell_type": "markdown",
   "metadata": {
    "vscode": {
     "languageId": "plaintext"
    }
   },
   "source": [
    "## Aufgabe 1\n",
    "\n",
    "Sei $\\alpha=0.2$ der Lernparameter.\\\n",
    "Sei $\\gamma=0.9$ der Discountfaktor.\\\n",
    "Seien die Initialwerte der Q-Funktion gegeben durch $q^\\gamma(a,s)=0$ für alle Aktionen $a$ und Zustände $s$.\n",
    "\n",
    "Aktualisieren Sie die Q-Funktion für die Beobachtungen $o_1=(s^u_r,\\text{unload},s^w_r,8),o_2=(s^u_a,\\text{move},s^u_r,−1), o_3=(s^u_r,\\text{move},s^u_a,0)$\n"
   ]
  },
  {
   "cell_type": "markdown",
   "metadata": {},
   "source": [
    "**Antwort** Klar. Das allgemeine Update ist gegeben durch:\n",
    "\n",
    "$$\n",
    "q^{\\gamma}(a,s)+\\alpha(r+\\gamma\\max_{a'\\in A}q^{\\gamma}(a',s')-q^{\\gamma}(a,s))\n",
    "$$\n",
    "\n",
    "- $(s^u_r,\\text{unload},s^w_r,8)$\n",
    "  - $q^\\gamma(\\text{unload},s^u_r)=0+0.2(8+0-0)=\\frac{8}{5}=1.6$\n",
    "- $(s^u_a,\\text{move},s^u_r,−1)$\n",
    "  - $q^\\gamma(\\text{move},s^u_a)=0+0.2(-1+1.6\\gamma-0)=0.088$\n",
    "- $(s^u_r,\\text{move},s^u_a,0)$\n",
    "  - $q^\\gamma(\\text{move},s^u_r)=0+0.2(0+0.088\\gamma-0)\\approx 0.016$\n"
   ]
  }
 ],
 "metadata": {
  "kernelspec": {
   "display_name": "venv",
   "language": "python",
   "name": "python3"
  },
  "language_info": {
   "codemirror_mode": {
    "name": "ipython",
    "version": 3
   },
   "file_extension": ".py",
   "mimetype": "text/x-python",
   "name": "python",
   "nbconvert_exporter": "python",
   "pygments_lexer": "ipython3",
   "version": "3.10.5"
  }
 },
 "nbformat": 4,
 "nbformat_minor": 2
}
