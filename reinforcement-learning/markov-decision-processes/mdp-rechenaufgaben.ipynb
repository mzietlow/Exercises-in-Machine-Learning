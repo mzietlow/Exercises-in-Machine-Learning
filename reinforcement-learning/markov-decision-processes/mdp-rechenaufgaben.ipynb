{
 "cells": [
  {
   "cell_type": "markdown",
   "metadata": {},
   "source": [
    "# Rechenaufgaben zu 3.5 (Markov Entscheidungsprozesse)\n",
    "\n",
    "Betrachten Sie folgendes Szenario.\n",
    "\n",
    "**Zustandsraum**\n",
    "\n",
    "In einer Firma sind Rollläden angebracht, die tagsüber über einen Sensor detektieren, ob die Sonne auf sie scheint und sie somit herunter fahren sollen, bzw. ob sie wieder hoch fahren sollen, falls die Sonne nicht mehr scheint. \n",
    "\n",
    "Es gibt also die Zustände \n",
    "\n",
    "- $s^s_o$ (die Sonne scheint und der Rollladen ist oben), \n",
    "- $s^s_u$ (die Sonne scheint und der Rollladen ist unten), \n",
    "- $s^w_o$ (es ist bewölkt und der Rollladen ist oben),\n",
    "- $s^w_u$ (es ist bewölkt und der Rollladen ist unten) und\n",
    "- $s^t$ (Ende eines Tages)\n",
    "\n",
    "Als Startzustand nehmen wir $s^s_o$ an.\n",
    "\n",
    "\n",
    "**Aktionsraum**\n",
    "\n",
    "Der Aktionsraum umfasst:\n",
    "- *hoch*: der Rollladen fährt hoch\n",
    "    - Erfolgswahrscheinlichkeit: 80%\n",
    "- *runter*: der Rolladen fährt runter\n",
    "    - Erfolgswahrscheinlichkeit: 80%\n",
    "- *detektiere*: der Sensor im Rollladen detektiert, ob die Sonne scheint oder nicht\n",
    "    - detektiert mit einer Wahrscheinlichkeit von 30 % einen Wechsel von sonnig auf bewölkt bzw. bewölkt auf sonnig\n",
    "    - detektiert mit einer Wahrscheinlichkeit von 70 % keinen Wechsel\n",
    "- *beendeTag*: der Tag wird beendet\n",
    "\n",
    "\n",
    "**Belohnungen**\n",
    "\n",
    "Wir vergeben folgende Belohnungen:\n",
    "\n",
    "- Fährt der Rollladen erfolgreich runter, wenn er oben ist und die Sonne scheint, erhält er **15 Punkte**.\n",
    "- Fährt der Rollladen erfolgreich hoch, wenn er unten ist und es bewölkt ist, erhält er ebenfalls **15 Punkte**.\n",
    "- Fährt der Rollladen fälschlicherweise hoch, obwohl die Sonne scheint oder herunter, wenn es bewölkt ist, verliert er **10 Punkte**.\n",
    "- Wird hoch ausgeführt, obwohl der Rollladen bereits oben ist oder wird runter ausgeführt, wenn er bereits unten ist, werden für die unnötige Energieverschwendung **3 Punkte** abgezogen.\n",
    "- Die Aktion detektiere kostet stets **2 Punkte**.\n",
    "- Die Aktion beendeTag gibt **10 Punkte**, wenn der Rollladen unten ist und die Sonne scheint oder oben ist und es bewölkt ist. Ansonsten gibt es **10 Punkte** Abzug.\n",
    "- Für alle weiteren Situationen beträgt die Belohnung **0 Punkte**."
   ]
  },
  {
   "cell_type": "markdown",
   "metadata": {},
   "source": [
    "## Aufgabe 1 (MDP Modellierung)\n",
    "\n",
    "Formalisieren Sie den Zustandsraum $S$, den Aktionsraum $A$, den Startzustand $s_0$ und die Menge der Zielzustände $S^t$ bezüglich des beschriebenen Szenarios.\n",
    "\n",
    "\n",
    "**Antwort:** \n",
    "\n",
    "Hier wurde uns die ganze Arbeit natürlich schon abgenommen:\n",
    "\n",
    "- $S=\\{s^s_0, s^s_u, s^w_o, s^w_u, s^t\\}$\n",
    "- $A=\\{ \\textit{hoch}, \\textit{runter}, \\textit{detektiere}, \\textit{beendeTag} \\}$\n",
    "- $s^0=s^s_o$\n",
    "- $S^t = s^t$"
   ]
  },
  {
   "cell_type": "markdown",
   "metadata": {},
   "source": [
    "## Aufgabe 2 (Wahrscheinlichkeit einer Episode und diskontierter Nutzen)\n",
    "\n",
    "Sei eine Episode gegeben durch\n",
    "\n",
    "$$\n",
    "e=(s^s_o, \\textit{detektiere}, s^s_o, \\textit{runter}, s^s_u, \\textit{beendeTag}, s^t)\n",
    "$$\n",
    "\n",
    "1. Berechnen Sie die Wahrscheinlichkeit $P(e)$.\n",
    "2. Berechnen Sie den diskontierten Nutzen $U^\\gamma_D(e)$ mit Diskontierungsfaktor $\\gamma=0.9$.\n",
    "\n",
    "**Antwort:**\n",
    "\n",
    "Für 1. gehen wir davon aus, dass die Beobachtungen stochastisch unabhängig voneinander seien. Dann erhalten wir $P(e)$ durch das Produkt\n",
    "\n",
    "$$\n",
    "\\begin{aligned}\n",
    "P(e)\n",
    "&=\\underbrace{P(s^s_o, \\textit{detektiere},s^s_o)}_{=0.7}\\cdot \\underbrace{P(s^s_o, \\textit{runter}, s^s_u)}_{=0.8}\\cdot \\underbrace{P(s^s_u\\textit{beendeTag}, s^t)}_{=1}\\\\\n",
    "&=0.7\\cdot 0.8\\cdot 1\\\\\n",
    "&= 0.56\n",
    "\\end{aligned}\n",
    "$$\n",
    "\n",
    "Den diskontierten Nutzen erhalten wir als diskontierte Summe der Rewards:\n",
    "\n",
    "$$\n",
    "\\begin{aligned}\n",
    "U^\\gamma_D(e)\n",
    "&=\\underbrace{R(s^s_o, \\textit{detektiere},s^s_o)}_{=-2}+ \\underbrace{\\gamma R(s^s_o, \\textit{runter}, s^s_u)}_{=13.5}+ \\underbrace{\\gamma^2 R(s^s_u\\textit{beendeTag}, s^t)}_{\\approx 8.1}\\\\\n",
    "&\\approx -2+13.5+8.1\\\\\n",
    "&= 19.6\n",
    "\\end{aligned}\n",
    "$$"
   ]
  },
  {
   "cell_type": "code",
   "execution_count": 5,
   "metadata": {},
   "outputs": [
    {
     "name": "stdout",
     "output_type": "stream",
     "text": [
      "13.5\n",
      "8.100000000000001\n",
      "19.6\n"
     ]
    }
   ],
   "source": [
    "print(0.9*15)\n",
    "print((0.9**2) * 10)\n",
    "print(-2+13.5+8.1)\n"
   ]
  },
  {
   "cell_type": "markdown",
   "metadata": {
    "vscode": {
     "languageId": "plaintext"
    }
   },
   "source": [
    "## Aufgabe 3 (Bellman-Update)\n",
    "\n",
    "Sei zunächst $u_0(s^w_o)=u_0(s^s_o)=u_0(s^w_u)=u_0(s^s_u)=0.1$\n",
    "\n",
    "Berechnen Sie $u_1(s^s_o)$.\n",
    "\n",
    "**Antwort:**\n",
    "\n",
    "Mit dem Bellman-Update erhalten wir $u_1(s^s_o)$ durch:\n",
    "\n",
    "$$\n",
    "u_1(s^s_o)=\n",
    "\\max_{a\\in A}\\sum_{s'\\in S} P(s^s_o, a, s')(R(s^s_o, a, s')+\\gamma u_0(s'))\n",
    "$$\n",
    "\n",
    "Bei der optimalen Aktion müsste es sich, rein logisch, um $\\textit{runter}$ handeln, denn die Sonne scheint, aber der Rolladen ist oben. Also:\n",
    "\n",
    "$$\n",
    "\\begin{aligned}\n",
    "u_1(s^s_o)\n",
    "&= \\sum_{s'\\in S} P(s^s_o, \\textit{runter}, s')(R(s^s_o, \\textit{runter}, s')+\\gamma u_0(s'))\\\\\n",
    "&=\n",
    "\\underbrace{\\underbrace{P(s^s_o, \\textit{runter}, s^s_u)}_{=0.8}(\\underbrace{R(s^s_o, \\textit{runter}, s^s_u)}_{=15}+\\underbrace{\\gamma u_0(s^s_u)}_{=0.09})}_{\\text{für } s^s_u}\n",
    "\\\\&\\quad +\n",
    "\\underbrace{\\underbrace{P(s^s_o, \\textit{runter}, s^s_o)}_{=0.2}(\\underbrace{R(s^s_o, \\textit{runter}, s^s_u)}_{=0}+\\underbrace{\\gamma u_0(s^s_o)}_{=0.09})}_{\\text{für } s^s_o}\n",
    "\\\\&\\quad +\n",
    "\\underbrace{\\sum_{s'\\in S\\setminus \\{ s^s_u, s^s_o \\}} \\underbrace{P(s^s_o, \\textit{runter}, s')}_{=0}(R(s^s_o, \\textit{runter}, s')+\\gamma u_0(s'))}_{=0}\\\\\n",
    "&=0.8\\cdot (15+0.09) + 0.2\\cdot 0.09\\\\\n",
    "&\\approx 12.09\n",
    "\\end{aligned}\n",
    "$$\n"
   ]
  },
  {
   "cell_type": "code",
   "execution_count": 1,
   "metadata": {},
   "outputs": [
    {
     "data": {
      "text/plain": [
       "12.090000000000002"
      ]
     },
     "execution_count": 1,
     "metadata": {},
     "output_type": "execute_result"
    }
   ],
   "source": [
    "0.8*(15+0.09) + 0.2*0.09"
   ]
  }
 ],
 "metadata": {
  "kernelspec": {
   "display_name": "venv",
   "language": "python",
   "name": "python3"
  },
  "language_info": {
   "codemirror_mode": {
    "name": "ipython",
    "version": 3
   },
   "file_extension": ".py",
   "mimetype": "text/x-python",
   "name": "python",
   "nbconvert_exporter": "python",
   "pygments_lexer": "ipython3",
   "version": "3.10.5"
  }
 },
 "nbformat": 4,
 "nbformat_minor": 2
}
