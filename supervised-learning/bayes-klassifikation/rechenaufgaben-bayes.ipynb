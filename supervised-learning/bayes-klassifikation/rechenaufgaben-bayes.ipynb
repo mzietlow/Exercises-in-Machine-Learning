{
 "cells": [
  {
   "cell_type": "markdown",
   "metadata": {},
   "source": [
    "# Rechenaufgaben zu 2.5 (Bayes- und Naive-Bayes-Klassifikation)"
   ]
  },
  {
   "cell_type": "markdown",
   "metadata": {},
   "source": [
    "Sei ein Datensatz gegeben durch\n",
    "\n",
    "$$\n",
    "D=\\{((1,0),c_1),((0,1),c_1),((1,1),c_2),((0,0),c_2),((0,1),c_1)\\}\n",
    "$$\n",
    "\n",
    "wobei $Z_1=Z_2=\\{0,1\\}$ sowie die Klassen $Z={c_1,c_2}$ gegeben seien. Die Merkmalsausprägungen sind **stochastisch unabhängig**.\n",
    "\n",
    "1. Bestimmen Sie $\\mathbb{P}(c_1\\mid D)$ und $\\mathbb{P}(c_2\\mid D)$\n",
    "2. Bestimmen Sie die Wahrscheinlichkeitsverteilungen der einzelnen Merkmalsausprägungen bzgl. der beiden Klassen.\n",
    "3. Gegeben sei nun der Datenpunkt $(0,0)$. Bestimmen Sie die Wahrscheinlichkeiten, die der Naive-Bayes Klassifikator dem Datenpunkt $(0,0)$ bezüglich der Klasse $c_1$ bzw. $c_2$ (vor Anwendung des $\\operatorname{arg\\ max}$) zuordnet.\n",
    "4. Welcher Klasse gehört der neue Datenpunkt laut den obigen Berechnungen an?"
   ]
  },
  {
   "cell_type": "markdown",
   "metadata": {},
   "source": [
    "## Aufgabe 1\n",
    "\n",
    "Bestimmen Sie $\\mathbb{P}(c_1\\mid D)$ und $\\mathbb{P}(c_2\\mid D)$"
   ]
  },
  {
   "cell_type": "markdown",
   "metadata": {},
   "source": [
    "**Antwort:** Da hier alles schön binär ist und wir keine weiteren Informationen gegeben haben, bestimmen wir die Werte empirisch durch Zählen.\n",
    "\n",
    "Wir beobachten:\n",
    "\n",
    "- $|D|=5$\n",
    "- $|\\{ (z,c_1) \\in D \\}|= 3, \\qquad z\\in Z_1\\times Z_2$\n",
    "- $|\\{ (z,c_2) \\in D \\}|= 2, \\qquad z\\in Z_1\\times Z_2$\n",
    "\n",
    "damit erhalten wir\n",
    "\n",
    "$$\n",
    "\\begin{align}\n",
    "\\mathbb{P}(c_1 \\mid D) &= \\frac{|\\{ (z,c_1) \\in D \\}|}{|D|}= 3/5 =0.6\\\\\n",
    "\\mathbb{P}(c_2 \\mid D) &= \\frac{|\\{ (z,c_2) \\in D \\}|}{|D|}= 2/5 =0.4\\\\\n",
    "\\end{align}\n",
    "$$"
   ]
  },
  {
   "cell_type": "markdown",
   "metadata": {},
   "source": [
    "## Aufgabe 2\n",
    "\n",
    "Bestimmen Sie die Wahrscheinlichkeitsverteilungen der einzelnen Merkmalsausprägungen bzgl. der beiden Klassen.\n",
    "\n",
    "**Antwort:** Nach Skript gilt:\n",
    "\n",
    "$$\n",
    "\\mathbb{P}(x_i=z_i \\mid c=c', D) =\\frac{|\\{(z,c)\\in D: z=(z_1,z_2), z_i=x_i,c=c'\\}|}{|\\{(z,c)\\in D: c=c'\\}|}\n",
    "$$\n",
    "\n",
    "\n",
    "Also:\n",
    "\n",
    "- $\\mathbb{P}(x_1=0\\mid c=c_1, D)=\\frac{2}{3}$\n",
    "\n",
    "- $\\mathbb{P}(x_1=0\\mid c=c_2, D)=\\frac{1}{2}$\n",
    "\n",
    "- $\\mathbb{P}(x_1=1\\mid c=c_1, D)=\\frac{1}{3}$\n",
    "\n",
    "- $\\mathbb{P}(x_1=1\\mid c=c_2, D)=\\frac{1}{2}$\n",
    "\n",
    "- $\\mathbb{P}(x_2=0\\mid c=c_1, D)=\\frac{1}{3}$\n",
    "\n",
    "- $\\mathbb{P}(x_2=0\\mid c=c_2, D)=\\frac{1}{2}$\n",
    "\n",
    "- $\\mathbb{P}(x_2=1\\mid c=c_1, D)=\\frac{2}{3}$\n",
    "\n",
    "- $\\mathbb{P}(x_2=1\\mid c=c_2, D)=\\frac{1}{2}$"
   ]
  },
  {
   "cell_type": "markdown",
   "metadata": {},
   "source": [
    "## Aufgabe 3\n",
    "\n",
    "Gegeben sei nun der Datenpunkt $(0,0)$. Bestimmen Sie die Wahrscheinlichkeiten, die der Naive-Bayes Klassifikator dem Datenpunkt $(0,0)$ bezüglich der Klasse $c_1$ bzw. $c_2$ (vor Anwendung des $\\operatorname{arg\\ max}$) zuordnet.\n",
    "\n",
    "**Antwort:** wir sollen also bestimmen:\n",
    "\n",
    "- $\\mathbb{P}(c=c_1| D) \\cdot \\mathbb{P}(x_1=0 | c=c_1,D)\\cdot \\mathbb{P}(x_2=0 | c=c_1,D)=3/5\\cdot 2/3\\cdot 1/3=\\frac{6}{45}=\\frac{2}{15}\\approx 0.133$\n",
    "- $\\mathbb{P}(c=c_2| D) \\cdot \\mathbb{P}(x_1=0 | c=c_2,D)\\cdot \\mathbb{P}(x_2=0 | c=c_2,D)=2/5\\cdot 1/2\\cdot 1/2=\\frac{2}{20}=\\frac{1}{10}=0.1$"
   ]
  },
  {
   "cell_type": "markdown",
   "metadata": {},
   "source": [
    "## Aufgabe 4\n",
    "\n",
    "Welcher Klasse gehört der neue Datenpunkt laut den obigen Berechnungen an?\n",
    "\n",
    "**Antwort**: Da 0.133 > 0.1, maximiert $c_1$ das Optimierungsproblem des Naiven-Bayes-Klassifikators.\\\n",
    "Wir erhalten also $\\operatorname{clf}_D^\\text{Bayes}((0,0))=c_1$."
   ]
  }
 ],
 "metadata": {
  "kernelspec": {
   "display_name": "venv",
   "language": "python",
   "name": "python3"
  },
  "language_info": {
   "codemirror_mode": {
    "name": "ipython",
    "version": 3
   },
   "file_extension": ".py",
   "mimetype": "text/x-python",
   "name": "python",
   "nbconvert_exporter": "python",
   "pygments_lexer": "ipython3",
   "version": "3.10.5"
  }
 },
 "nbformat": 4,
 "nbformat_minor": 2
}
