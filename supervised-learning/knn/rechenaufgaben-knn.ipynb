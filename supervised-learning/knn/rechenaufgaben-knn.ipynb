{
 "cells": [
  {
   "cell_type": "markdown",
   "metadata": {},
   "source": [
    "# Rechenaufgaben zu 2.4 (KNN)"
   ]
  },
  {
   "cell_type": "markdown",
   "metadata": {},
   "source": [
    "## Aufgabe 1\n",
    "\n",
    "Sei ein Datensatz gegeben durch\n",
    "\n",
    "$$\n",
    "D=\\{((−2,1),1),((−1.9,1.4),1),((−2.6,3.3),2),((−3.9,4.5),2),((−6.8,6),3)\\}\n",
    "$$\n",
    "\n",
    "**Aufgabe**: Bestimmen Sie den nächsten Nachbarn von $x^{(6)}=(−7.8,0.8)$.\n",
    "\n",
    "**Antwort**:\n",
    "\n",
    "Den nächsten Nachbarn finden wir über den geringsten euklidischen Abstand. Auf Anhieb sehe ich keinen *perfekten* Kandidaten. Eventuell der Punkt $x^{(5)}$? Daher definiere ich kurz eine geeignete Abstandsfunktion:"
   ]
  },
  {
   "cell_type": "code",
   "execution_count": 1,
   "metadata": {},
   "outputs": [
    {
     "name": "stdout",
     "output_type": "stream",
     "text": [
      "1: 5.803447251418763\n",
      "2: 5.930430001273095\n",
      "3: 5.769748694700662\n",
      "4: 5.375872022286245\n",
      "5: 5.295280917949491\n"
     ]
    }
   ],
   "source": [
    "import numpy as np\n",
    "\n",
    "\n",
    "def dist(x: int, y: int) -> int:\n",
    "    x_6 = -7.8\n",
    "    y_6 = 0.8\n",
    "\n",
    "    return np.sqrt((x_6 - x) ** 2 + (y_6 - y) ** 2)\n",
    "\n",
    "\n",
    "print(f\"1: {dist(-2,1)}\")\n",
    "print(f\"2: {dist(-1.9,1.4)}\")\n",
    "print(f\"3: {dist(-2.6,3.3)}\")\n",
    "print(f\"4: {dist(-3.9,4.5)}\")\n",
    "print(f\"5: {dist(-6.8,6)}\")"
   ]
  },
  {
   "cell_type": "markdown",
   "metadata": {},
   "source": [
    "Den kleinsten Abstand hat also $x^{(5)}$."
   ]
  },
  {
   "cell_type": "markdown",
   "metadata": {},
   "source": [
    "## Aufgabe 2\n",
    "\n",
    "Sei ein Datensatz gegeben durch\n",
    "\n",
    "$$\n",
    "D={((5,13),54),((7,29),80),((8,−48),48),((10,3),69),((11,−21),59)}\n",
    "$$\n",
    "\n",
    "\n",
    "**Aufgabe**: Bestimmen Sie den $y$ Wert des Punktes $x^{(6)}=(9, 59)$ mithilfe der Regressions-Variante des KNN mit $k=2$ bzgl. $D$.\n",
    "\n",
    "**Antwort**:\n",
    "\n",
    "Bestimmen wir also zunächst die zwei Nachbarn von $x^{(6)}$:"
   ]
  },
  {
   "cell_type": "code",
   "execution_count": 3,
   "metadata": {},
   "outputs": [
    {
     "name": "stdout",
     "output_type": "stream",
     "text": [
      "1: 46.17358552246078\n",
      "2: 30.066592756745816\n",
      "3: 107.00467279516349\n",
      "4: 56.00892785976178\n",
      "5: 80.02499609497022\n"
     ]
    }
   ],
   "source": [
    "def dist(x: int, y: int) -> int:\n",
    "    x_6 = 9\n",
    "    y_6 = 59\n",
    "\n",
    "    return np.sqrt((x_6 - x) ** 2 + (y_6 - y) ** 2)\n",
    "\n",
    "\n",
    "print(f\"1: {dist(5,13)}\")\n",
    "print(f\"2: {dist(7,29)}\")\n",
    "print(f\"3: {dist(8,-48)}\")\n",
    "print(f\"4: {dist(10,3)}\")\n",
    "print(f\"5: {dist(11,-21)}\")"
   ]
  },
  {
   "cell_type": "markdown",
   "metadata": {},
   "source": [
    "Den niedrigsten Abstand haben also die beiden Punkte $x^{(1)}, x^{(2)}$ mit $y^{(1)}=54,y^{(2)}=80$.\n",
    "\n",
    "Das arithmetische Mittel der beiden ergibt sich also als $67$ und damit $y^{(6)}=67$."
   ]
  }
 ],
 "metadata": {
  "kernelspec": {
   "display_name": "venv",
   "language": "python",
   "name": "python3"
  },
  "language_info": {
   "codemirror_mode": {
    "name": "ipython",
    "version": 3
   },
   "file_extension": ".py",
   "mimetype": "text/x-python",
   "name": "python",
   "nbconvert_exporter": "python",
   "pygments_lexer": "ipython3",
   "version": "3.10.5"
  }
 },
 "nbformat": 4,
 "nbformat_minor": 2
}
