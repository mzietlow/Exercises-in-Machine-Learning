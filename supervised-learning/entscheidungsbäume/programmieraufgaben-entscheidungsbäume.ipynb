{
 "cells": [
  {
   "cell_type": "markdown",
   "metadata": {},
   "source": [
    "# Programmieraufgaben zu 2.6 (Entscheidungsbäume)\n"
   ]
  },
  {
   "cell_type": "markdown",
   "metadata": {},
   "source": [
    "## Aufgabe 1\n",
    "\n",
    "Seien ein Trainings- und ein Testdatensatz gegeben durch\n",
    "\n",
    "$$\n",
    "\\begin{aligned}\n",
    "D_\\text{train}&=\\{((37.5,2),1),((36,1),0),((39,1),1),((37.5,1),0),((39,0),1),((37.5,0),0),((37.5,1),0),((36,2),1)\\}\\\\\n",
    "D_\\text{test}&=\\{((36,0),0),((37.5,1),0),((39,1),1),((39,2),0)\\}\n",
    "\\end{aligned}\n",
    "$$\n",
    "\n",
    "Trainieren Sie einen Entscheidungsbaum anhand von $D_\\text{train}$ und nutzen Sie ihn, um die Beispiele aus $D_\\text{test}$ zu klassifizieren.\n",
    "\n",
    "\n",
    "1. Geben Sie die resultierenden Klassenzuweisungen für die Beispiele aus $D_\\text{test}$ an.\n",
    "2. Erstellen Sie die zugehörige Konfusionsmatrix."
   ]
  },
  {
   "cell_type": "code",
   "execution_count": 1,
   "metadata": {},
   "outputs": [
    {
     "data": {
      "text/plain": [
       "([(37.5, 2),\n",
       "  (36, 1),\n",
       "  (39, 1),\n",
       "  (37.5, 1),\n",
       "  (39, 0),\n",
       "  (37.5, 0),\n",
       "  (37.5, 1),\n",
       "  (36, 2)],\n",
       " [1, 0, 1, 0, 1, 0, 0, 1],\n",
       " [(36, 0), (37.5, 1), (39, 1), (39, 2)],\n",
       " [0, 0, 1, 0])"
      ]
     },
     "execution_count": 1,
     "metadata": {},
     "output_type": "execute_result"
    }
   ],
   "source": [
    "D_train = [\n",
    "    ((37.5, 2), 1),\n",
    "    ((36, 1), 0),\n",
    "    ((39, 1), 1),\n",
    "    ((37.5, 1), 0),\n",
    "    ((39, 0), 1),\n",
    "    ((37.5, 0), 0),\n",
    "    ((37.5, 1), 0),\n",
    "    ((36, 2), 1),\n",
    "]\n",
    "D_test = [((36, 0), 0), ((37.5, 1), 0), ((39, 1), 1), ((39, 2), 0)]\n",
    "\n",
    "X_train = [x[0] for x in D_train]\n",
    "y_train = [x[1] for x in D_train]\n",
    "\n",
    "X_test = [x[0] for x in D_test]\n",
    "y_test = [x[1] for x in D_test]\n",
    "\n",
    "X_train, y_train, X_test, y_test"
   ]
  },
  {
   "cell_type": "code",
   "execution_count": 2,
   "metadata": {},
   "outputs": [],
   "source": [
    "from sklearn.tree import DecisionTreeClassifier\n",
    "\n",
    "clf = DecisionTreeClassifier().fit(X_train, y_train)"
   ]
  },
  {
   "cell_type": "code",
   "execution_count": 3,
   "metadata": {},
   "outputs": [
    {
     "data": {
      "text/plain": [
       "array([0, 0, 1, 1])"
      ]
     },
     "execution_count": 3,
     "metadata": {},
     "output_type": "execute_result"
    }
   ],
   "source": [
    "preds_100 = clf.predict(X_test)\n",
    "preds_100"
   ]
  },
  {
   "cell_type": "markdown",
   "metadata": {},
   "source": [
    "Als Konfusionmatrix erhalten wir\n",
    "\n",
    "|       | y=1 | y=0 |\n",
    "|-------|-----|-----|\n",
    "| clf=1 | 1   | 1   |\n",
    "| clf=0 | 0   | 2   |"
   ]
  },
  {
   "cell_type": "markdown",
   "metadata": {},
   "source": [
    "## Aufgabe 2\n",
    "\n",
    "Seien zwei Datensätze gegeben durch\n",
    "\n",
    "$$\n",
    "\\begin{aligned}\n",
    "D_\\text{train}&=\\{((37.5,2),1),((36,1),0),((39,1),1),((37.5,1),0),((39,0),1),((37.5,0),0),((37.5,1),0),((36,2),1)\\}\\\\\n",
    "D_\\text{test}&=\\{((36,0),0),((37.5,1),0),((39,1),1),((39,2),0)\\}\n",
    "\\end{aligned}\n",
    "$$\n",
    "\n",
    "Trainieren Sie einen Entscheidungswald anhand von $D_\\text{train}$ und nutzen Sie ihn, um die Beispiele aus $D_\\text{test}$ zu klassifizieren. Dabei soll die Anzahl erstellter Entscheidungsbäume 100 betragen.\\\n",
    "Dies sollte defaultmäßig der Fall sein.\n",
    "\n",
    "1. Geben Sie die resultierenden Klassenzuweisungen für die Beispiele aus $D_\\text{test}$ an\n",
    "2. Geben Sie außerdem die resultierende Genauigkeit und den F1-Wert an.\n",
    "\n",
    "Trainieren Sie nun zwei weitere Entscheidungswälder, einmal mit 10 generierten Entscheidungsbäumen und einmal mit 1000.\n",
    "\n",
    "3. Geben Sie die resultierenden Klassenzuweisungen für die Beispiele aus $D_\\text{test}$ an.\n",
    "4. Geben Sie außerdem die resultierende Genauigkeit und den F1-Wert an."
   ]
  },
  {
   "cell_type": "code",
   "execution_count": 4,
   "metadata": {},
   "outputs": [],
   "source": [
    "D_train = [\n",
    "    ((37.5, 2), 1),\n",
    "    ((36, 1), 0),\n",
    "    ((39, 1), 1),\n",
    "    ((37.5, 1), 0),\n",
    "    ((39, 0), 1),\n",
    "    ((37.5, 0), 0),\n",
    "    ((37.5, 1), 0),\n",
    "    ((36, 2), 1),\n",
    "]\n",
    "D_test = [((36, 0), 0), ((37.5, 1), 0), ((39, 1), 1), ((39, 2), 0)]\n",
    "\n",
    "X_train = [x[0] for x in D_train]\n",
    "y_train = [x[1] for x in D_train]\n",
    "\n",
    "X_test = [x[0] for x in D_test]\n",
    "y_test = [x[1] for x in D_test]"
   ]
  },
  {
   "cell_type": "markdown",
   "metadata": {},
   "source": [
    "### Teilaufgabe (1) und (2)"
   ]
  },
  {
   "cell_type": "code",
   "execution_count": 5,
   "metadata": {},
   "outputs": [],
   "source": [
    "from sklearn.ensemble import RandomForestClassifier\n",
    "\n",
    "clf_100 = RandomForestClassifier().fit(X_train, y_train)"
   ]
  },
  {
   "cell_type": "code",
   "execution_count": 6,
   "metadata": {},
   "outputs": [
    {
     "data": {
      "text/plain": [
       "(array([0, 0, 1, 1]), 0.75, 0.6666666666666666)"
      ]
     },
     "execution_count": 6,
     "metadata": {},
     "output_type": "execute_result"
    }
   ],
   "source": [
    "from sklearn.metrics import accuracy_score, f1_score\n",
    "\n",
    "preds_100 = clf_100.predict(X_test)\n",
    "acc_100 = accuracy_score(y_test, preds_100)\n",
    "f1_100 = f1_score(y_test, preds_100)\n",
    "\n",
    "preds_100, acc_100, f1_100"
   ]
  },
  {
   "cell_type": "markdown",
   "metadata": {},
   "source": [
    "### Teilaufgabe (3) und (4)"
   ]
  },
  {
   "cell_type": "code",
   "execution_count": 7,
   "metadata": {},
   "outputs": [],
   "source": [
    "from sklearn.ensemble import RandomForestClassifier\n",
    "\n",
    "clf_10 = RandomForestClassifier(n_estimators=10).fit(X_train, y_train)\n",
    "clf_1000 = RandomForestClassifier(n_estimators=1000).fit(X_train, y_train)"
   ]
  },
  {
   "cell_type": "code",
   "execution_count": 8,
   "metadata": {},
   "outputs": [
    {
     "name": "stdout",
     "output_type": "stream",
     "text": [
      "k=10: (array([0, 0, 1, 1]), 0.75, 0.6666666666666666)\n",
      "k=1000: (array([0, 0, 1, 1]), 0.75, 0.6666666666666666)\n"
     ]
    }
   ],
   "source": [
    "from sklearn.metrics import accuracy_score, f1_score\n",
    "\n",
    "preds_10 = clf_10.predict(X_test)\n",
    "acc_10 = accuracy_score(y_test, preds_10)\n",
    "f1_10 = f1_score(y_test, preds_10)\n",
    "\n",
    "preds_1000 = clf_1000.predict(X_test)\n",
    "acc_1000 = accuracy_score(y_test, preds_1000)\n",
    "f1_1000 = f1_score(y_test, preds_1000)\n",
    "\n",
    "print(f\"k=10: {preds_10, acc_10, f1_10}\")\n",
    "print(f\"k=1000: {preds_1000, acc_1000, f1_1000}\")"
   ]
  }
 ],
 "metadata": {
  "kernelspec": {
   "display_name": "venv",
   "language": "python",
   "name": "python3"
  },
  "language_info": {
   "codemirror_mode": {
    "name": "ipython",
    "version": 3
   },
   "file_extension": ".py",
   "mimetype": "text/x-python",
   "name": "python",
   "nbconvert_exporter": "python",
   "pygments_lexer": "ipython3",
   "version": "3.10.5"
  }
 },
 "nbformat": 4,
 "nbformat_minor": 2
}
