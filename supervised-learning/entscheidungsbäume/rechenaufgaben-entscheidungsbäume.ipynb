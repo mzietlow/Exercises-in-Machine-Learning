{
 "cells": [
  {
   "cell_type": "markdown",
   "metadata": {},
   "source": [
    "# Rechenaufgaben zu 2.6 (Entscheidungsbäume)\n",
    "\n",
    "Sei ein Datensatz mit den Merkmalen *Wetter* und *Temperatur* gegeben durch\n",
    "\n",
    "$$\n",
    "D=\\{((\\text{Sonne},>20°C),\\text{Eistee}),((\\text{Sonne},10−20°C),\\text{Eistee}),((\\text{Wolken},>20°C),\\text{Eistee}),((\\text{Wolken},<10°C),\\text{Tee})\\}\n",
    "$$\n",
    "\n",
    "1. Berechnen Sie die Entropie $H(D)$.\n",
    "2. Berechnen Sie die bedingten Entropien $H(D∣\\textit{Wetter})$ und $H(D∣\\textit{Temperatur})$.\n",
    "3. Berechnen Sie jeweils das Information Gain $IG(D,\\textit{Wetter})$ und $IG(D,\\textit{Temperatur})$."
   ]
  },
  {
   "cell_type": "markdown",
   "metadata": {},
   "source": [
    "## Aufgabe 1\n",
    "\n",
    "Berechnen Sie die Entropie $H(D)$.\n",
    "\n",
    "**Antwort:** Okay, wir haben hier den binären Fall. Wir berechnen uns zunächst die jeweiligen relativen Anteile:\n",
    "\n",
    "$$\n",
    "\\operatorname{rel}_{\\text{Eistee}} := \\frac{| \\{ (x,y) \\in D \\mid y=\\text{Eistee} \\} |}{|D|} = \\frac{3}{4}\n",
    "$$\n",
    "\n",
    "$$\n",
    "\\operatorname{rel}_{\\text{Tee}} := \\frac{| \\{ (x,y) \\in D \\mid y=\\text{Tee} \\} |}{|D|} = \\frac{1}{4}\n",
    "$$\n",
    "\n",
    "die Entropie erhalten wir jetzt einfach durch\n",
    "\n",
    "$$\n",
    "\\begin{align}\n",
    "H(D) &= -\\operatorname{rel}_{\\text{Eistee}}\\cdot \\log_{10}(\\operatorname{rel}_{\\text{Eistee}})-\\operatorname{rel}_{\\text{Tee}}\\cdot \\log_{10}(\\operatorname{rel}_{\\text{Tee}})\\\\\n",
    "&= -\\left[\\frac{3}{4}\\cdot \\log_{10}\\left(\\frac{3}{4}\\right)+ \\frac{1}{4}\\cdot \\log_{10}\\left(\\frac{1}{4}\\right) \\right] \\approx 0.244\n",
    "\\end{align}\n",
    "$$"
   ]
  },
  {
   "cell_type": "markdown",
   "metadata": {},
   "source": [
    "## Aufgabe 2\n",
    "\n",
    "Berechnen Sie die bedingten Entropien $H(D∣\\textit{Wetter})$ und $H(D∣\\textit{Temperatur})$.\n",
    "\n",
    "**Antwort:** Die bedingte Entropie erhalten wir im Allgemeinen durch:\n",
    "\n",
    "$$\n",
    "H(D| i) = -\\sum_{j=1}^{n_{i} } \\frac{|\\{ (x',y') \\in D \\mid x'_{i}= x_{i,j} \\} | }{|D| } H(\\{ (x',y')\\in D \\mid x'_{i}=x_{i,j} \\})\n",
    "$$\n",
    "\n",
    "Ich bin hier etwas faul, die Berechnung explizit anzugeben ist anstrengend, daher bloß das Ergebnis:\n",
    "\n",
    "- $H(D∣\\textit{Wetter})=-(\\frac{2}{4}\\cdot 0 +\\frac{2}{4}\\cdot 0.301)=0.151$\n",
    "- $H(D∣\\textit{Temperatur})=0$ (die Entropien evaluieren jeweils zu $1\\cdot \\log_{10}(1)=0$)"
   ]
  },
  {
   "cell_type": "markdown",
   "metadata": {},
   "source": [
    "## Aufgabe 3\n",
    "\n",
    "Berechnen Sie jeweils das Information Gain $IG(D,\\textit{Wetter})$ und $IG(D,\\textit{Temperatur})$.\n",
    "\n",
    "**Antwort:**\n",
    "\n",
    "- $IG(D,\\textit{Wetter})=H(D)-H(D,\\textit{Wetter}) = 0.244-0.151=0.093$\n",
    "- $IG(D,\\textit{Temperatur})=H(D)-H(D,\\textit{Temperatur}) = 0.244-0=0.244$ "
   ]
  }
 ],
 "metadata": {
  "kernelspec": {
   "display_name": "venv",
   "language": "python",
   "name": "python3"
  },
  "language_info": {
   "codemirror_mode": {
    "name": "ipython",
    "version": 3
   },
   "file_extension": ".py",
   "mimetype": "text/x-python",
   "name": "python",
   "nbconvert_exporter": "python",
   "pygments_lexer": "ipython3",
   "version": "3.10.5"
  }
 },
 "nbformat": 4,
 "nbformat_minor": 2
}
