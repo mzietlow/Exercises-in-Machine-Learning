{
 "cells": [
  {
   "cell_type": "markdown",
   "metadata": {},
   "source": [
    "# Programmieraufgaben zu 2.2 (Logistische Regression)"
   ]
  },
  {
   "cell_type": "markdown",
   "metadata": {},
   "source": [
    "## Frage 1\n",
    "\n",
    "Sei ein Datensatz D gegeben durch\n",
    "\n",
    "$$\n",
    "D=\\{((16,22),1),((43,70),1),((135,50),0),((42,46),0),((60,59),0),((105,140),1)\\}\n",
    "$$\n",
    "\n",
    "Bestimmen Sie, unter Nutzung von Python und scikit-learn, $\\theta=(\\theta_0,\\theta_1,\\theta_2)$ für das optimale logistische Modell $h^{\\text{logit}}_\\theta$ bzgl. $D$."
   ]
  },
  {
   "cell_type": "code",
   "execution_count": 176,
   "metadata": {},
   "outputs": [],
   "source": [
    "X=((16,22), (43,70), (135,50), (42,46), (60,59), (105,140))\n",
    "y=(1,1,0,0,0,1)"
   ]
  },
  {
   "cell_type": "code",
   "execution_count": 177,
   "metadata": {},
   "outputs": [],
   "source": [
    "from sklearn.linear_model import LogisticRegression\n",
    "reg = LogisticRegression().fit(X,y)"
   ]
  },
  {
   "cell_type": "code",
   "execution_count": 179,
   "metadata": {},
   "outputs": [
    {
     "name": "stdout",
     "output_type": "stream",
     "text": [
      "1,762\n",
      "-0,586\n",
      "0,453\n"
     ]
    }
   ],
   "source": [
    "def pp(x) -> str:\n",
    "    return f\"{x:0.3f}\".replace('.', ',')\n",
    "\n",
    "print(pp(reg.intercept_[0]))\n",
    "print(pp(reg.coef_[0][0]))\n",
    "print(pp(reg.coef_[0][1]))"
   ]
  },
  {
   "cell_type": "markdown",
   "metadata": {},
   "source": [
    "## Frage 2\n",
    "\n",
    "Sei ein Datensatz gegeben durch\n",
    "\n",
    "$$\n",
    "D=\\{((12,11),0),((13,14),1),((11,8),1),((6,2),0),((12,10),0),((7,11),0)\\}\n",
    "$$\n",
    "\n",
    "Bestimmen Sie, unter Nutzung von Python und scikit-learn, $\\theta=(\\theta_0,\\theta_1,\\theta_2,\\theta_3,\\theta_4,\\theta_5)$ für das optimale logistische Modell $h^{\\text{logit}}_\\theta$ bzgl. D′, wobei D′ die polynomielle Merkmalserweiterung von D mit Maximalgrad 2 ist."
   ]
  },
  {
   "cell_type": "code",
   "execution_count": 61,
   "metadata": {},
   "outputs": [
    {
     "name": "stdout",
     "output_type": "stream",
     "text": [
      "X: [(12, 11), (13, 14), (11, 8), (6, 2), (12, 10), (7, 11)]\n",
      "y: [0, 1, 1, 0, 0, 0]\n"
     ]
    }
   ],
   "source": [
    "D=[((12,11),0),((13,14),1),((11,8),1),((6,2),0),((12,10),0),((7,11),0)]\n",
    "X=[x[0] for x in (((12,11), 0),((13,14),1),((11,8),1),((6,2),0),((12,10),0),((7,11),0))]\n",
    "y=[y[1] for y in (((12,11), 0),((13,14),1),((11,8),1),((6,2),0),((12,10),0),((7,11),0))]\n",
    "\n",
    "print(f\"X: {X}\")\n",
    "print(f\"y: {y}\")"
   ]
  },
  {
   "cell_type": "code",
   "execution_count": 68,
   "metadata": {},
   "outputs": [],
   "source": [
    "from sklearn.preprocessing import PolynomialFeatures\n",
    "X_prime = PolynomialFeatures(degree=2, include_bias=False).fit_transform(X)"
   ]
  },
  {
   "cell_type": "code",
   "execution_count": 69,
   "metadata": {},
   "outputs": [],
   "source": [
    "from sklearn.linear_model import LogisticRegression\n",
    "reg = LogisticRegression().fit(X_prime, y)"
   ]
  },
  {
   "cell_type": "code",
   "execution_count": 71,
   "metadata": {},
   "outputs": [
    {
     "name": "stdout",
     "output_type": "stream",
     "text": [
      "-11,265\n",
      " 0,064\n",
      "-0,202\n",
      " 0,386\n",
      "-0,635\n",
      " 0,330\n"
     ]
    }
   ],
   "source": [
    "def pp(x) -> str:\n",
    "    return f\"{x:0.3f}\".replace('.', ',')\n",
    "\n",
    "print(pp(reg.intercept_[0]))\n",
    "print(pp(reg.coef_[0][0]))\n",
    "print(pp(reg.coef_[0][1]))\n",
    "print(pp(reg.coef_[0][2]))\n",
    "print(pp(reg.coef_[0][3]))\n",
    "print(pp(reg.coef_[0][4]))"
   ]
  },
  {
   "cell_type": "markdown",
   "metadata": {},
   "source": [
    "## Frage 3\n",
    "\n",
    "Sei ein Datensatz gegeben durch\n",
    "\n",
    "$$\n",
    "D=\\{((1,80),2),((20,3),2),((5,0),1),((13,12),1),((60,30),3),((10,40),3)\\}\n",
    "$$\n",
    "\n",
    "Führen Sie, unter Nutzung von Python und scikit-learn, eine Mehrklassen-Klassifikation mithilfe logistischer Regression durch.\n",
    "\n",
    "Erstellen Sie dazu klassenspezifische Versionen $D_c (c\\in\\{1,…,k\\})$ von Datensatz $D$ und bestimmen Sie jeweils $\\theta_c=(\\theta_{c,0},\\theta_{c,1},\\theta_{c,2})$ für das optimale logistische Modell $h^{\\text{logit}}_\\theta$ bzgl. $D_c$."
   ]
  },
  {
   "cell_type": "code",
   "execution_count": 175,
   "metadata": {},
   "outputs": [
    {
     "name": "stdout",
     "output_type": "stream",
     "text": [
      "D_1: [[[1, 80], 0], [[20, 3], 0], [[5, 0], 1], [[13, 12], 1], [[60, 30], 0], [[10, 40], 0]]\n",
      "D_2: [[[1, 80], 0], [[20, 3], 0], [[5, 0], 1], [[13, 12], 1], [[60, 30], 0], [[10, 40], 0]]\n",
      "D_3: [[[1, 80], 0], [[20, 3], 0], [[5, 0], 1], [[13, 12], 1], [[60, 30], 0], [[10, 40], 0]]\n",
      "[[1, 80], [20, 3], [5, 0], [13, 12], [60, 30], [10, 40]] [2, 2, 1, 1, 3, 3]\n"
     ]
    }
   ],
   "source": [
    "D=[[[1,80],2],[[20,3],2],[[5,0],1],[[13,12],1],[[60,30],3],[[10,40],3]]\n",
    "\n",
    "def extract_X_and_y(cls_idx: int):\n",
    "    X = [x[0] for x in D]\n",
    "    y = [1 if x[1]==cls_idx else 0 for x in D]\n",
    "    return X,y\n",
    "\n",
    "X1, y1 = extract_X_and_y(1)\n",
    "print(f\"D_1: {list([x,y] for (x,y) in zip(X1,y1))}\")\n",
    "\n",
    "X2, y2 = extract_X_and_y(2)\n",
    "print(f\"D_2: {list([x,y] for (x,y) in zip(X1,y1))}\")\n",
    "\n",
    "X3,y3 = extract_X_and_y(3)\n",
    "print(f\"D_3: {list([x,y] for (x,y) in zip(X1,y1))}\")\n",
    "\n",
    "X_mult = [x[0] for x in D]\n",
    "y_mult = [x[1] for x in D]\n",
    "print(X_mult,y_mult)"
   ]
  },
  {
   "cell_type": "code",
   "execution_count": 150,
   "metadata": {},
   "outputs": [],
   "source": [
    "from sklearn.linear_model import LogisticRegression\n",
    "reg1 = LogisticRegression().fit(X1,y1)\n",
    "reg2 = LogisticRegression().fit(X2,y2)\n",
    "reg3 = LogisticRegression().fit(X3,y3)\n",
    "\n",
    "from sklearn.multiclass import OneVsRestClassifier\n",
    "ovr_classifier = OneVsRestClassifier(LogisticRegression()).fit(X_mult,y_mult)"
   ]
  },
  {
   "cell_type": "code",
   "execution_count": 151,
   "metadata": {},
   "outputs": [
    {
     "name": "stdout",
     "output_type": "stream",
     "text": [
      " 14,690 -0,789 -0,246\n",
      "-0,917 -0,030  0,024\n",
      "-5,138  0,196  0,053\n"
     ]
    }
   ],
   "source": [
    "def pp(x) -> str:\n",
    "    return f\"{x:0.3f}\"\n",
    "\n",
    "def print_model_params(reg: LogisticRegression) -> None:\n",
    "    print(f\"[{pp(reg.intercept_[0])}, {pp(reg.coef_[0][0])}, {pp(reg.coef_[0][1])}]\")\n",
    "\n",
    "print_model_params(reg1)\n",
    "print_model_params(reg2)\n",
    "print_model_params(reg3)"
   ]
  },
  {
   "cell_type": "markdown",
   "metadata": {},
   "source": [
    "## Frage 4\n",
    "\n",
    "Sei ein Datensatz gegeben durch\n",
    "\n",
    "$$\n",
    "D=\\{((0.3,0.3),1),((0.24,0.26),4),((0.33,0.2),2),((0.35,0.4),3),((0.39,0.38),3),((0.42,0.26),1)\\}\n",
    "$$\n",
    "\n",
    "\n",
    "Führen Sie, unter Nutzung von Python und scikit-learn, eine Mehrklassen-Klassifikation mithilfe logistischer Regression durch.\n",
    "\n",
    "Erstellen Sie dazu klassenspezifische Versionen $D'_c$, wobei $c\\in \\{1,\\ldots ,k\\}$, von Datensatz $D'$ und bestimmen Sie jeweils $\\theta_c=(\\theta_{c,0},\\theta_{c,1},\\theta_{c,2},\\theta_{c,3},\\theta_{c,4},\\theta_{c,5})$ für das optimale logistische Modell $h^\\text{logit}_\\theta$ bzgl. $D'_c$.\n",
    "\n",
    "Dabei ist $D'$ die polynomielle Merkmalserweiterung von $D$ mit Maximalgrad 2."
   ]
  },
  {
   "cell_type": "code",
   "execution_count": 152,
   "metadata": {},
   "outputs": [],
   "source": [
    "D=[((0.3,0.3),1),((0.24,0.26),4),((0.33,0.2),2),((0.35,0.4),3),((0.39,0.38),3),((0.42,0.26),1)]\n",
    "X=[x[0] for x in D]\n",
    "y=[x[1] for x in D]"
   ]
  },
  {
   "cell_type": "code",
   "execution_count": 162,
   "metadata": {},
   "outputs": [
    {
     "name": "stdout",
     "output_type": "stream",
     "text": [
      "[[[0.3, 0.3, 0.09, 0.09, 0.09], 1], [[0.24, 0.26, 0.058, 0.062, 0.068], 4], [[0.33, 0.2, 0.109, 0.066, 0.04], 2], [[0.35, 0.4, 0.122, 0.14, 0.16], 3], [[0.39, 0.38, 0.152, 0.148, 0.144], 3], [[0.42, 0.26, 0.176, 0.109, 0.068], 1]]\n",
      "[[[0.3, 0.3, 0.09, 0.09, 0.09], 1], [[0.24, 0.26, 0.058, 0.062, 0.068], 0], [[0.33, 0.2, 0.109, 0.066, 0.04], 0], [[0.35, 0.4, 0.122, 0.14, 0.16], 0], [[0.39, 0.38, 0.152, 0.148, 0.144], 0], [[0.42, 0.26, 0.176, 0.109, 0.068], 1]]\n",
      "[[[0.3, 0.3, 0.09, 0.09, 0.09], 0], [[0.24, 0.26, 0.058, 0.062, 0.068], 0], [[0.33, 0.2, 0.109, 0.066, 0.04], 1], [[0.35, 0.4, 0.122, 0.14, 0.16], 0], [[0.39, 0.38, 0.152, 0.148, 0.144], 0], [[0.42, 0.26, 0.176, 0.109, 0.068], 0]]\n",
      "[[[0.3, 0.3, 0.09, 0.09, 0.09], 0], [[0.24, 0.26, 0.058, 0.062, 0.068], 0], [[0.33, 0.2, 0.109, 0.066, 0.04], 0], [[0.35, 0.4, 0.122, 0.14, 0.16], 1], [[0.39, 0.38, 0.152, 0.148, 0.144], 1], [[0.42, 0.26, 0.176, 0.109, 0.068], 0]]\n",
      "[[[0.3, 0.3, 0.09, 0.09, 0.09], 0], [[0.24, 0.26, 0.058, 0.062, 0.068], 1], [[0.33, 0.2, 0.109, 0.066, 0.04], 0], [[0.35, 0.4, 0.122, 0.14, 0.16], 0], [[0.39, 0.38, 0.152, 0.148, 0.144], 0], [[0.42, 0.26, 0.176, 0.109, 0.068], 0]]\n"
     ]
    }
   ],
   "source": [
    "from sklearn.preprocessing import PolynomialFeatures\n",
    "import numpy as np\n",
    "\n",
    "X_prime = PolynomialFeatures(degree=2, include_bias=False).fit_transform(X)\n",
    "D_prime = [[(list(np.round(x, 3))),y] for (x,y) in zip(X_prime, y)]\n",
    "print(D_prime)\n",
    "\n",
    "D_prime1 = [[x[0], 1 if x[1]==1 else 0] for x in D_prime]\n",
    "print(D_prime1)\n",
    "\n",
    "D_prime2 = [[x[0], 1 if x[1]==2 else 0] for x in D_prime]\n",
    "print(D_prime2)\n",
    "\n",
    "D_prime3 = [[x[0], 1 if x[1]==3 else 0] for x in D_prime]\n",
    "print(D_prime3)\n",
    "\n",
    "D_prime4 = [[x[0], 1 if x[1]==4 else 0] for x in D_prime]\n",
    "print(D_prime4)"
   ]
  },
  {
   "cell_type": "code",
   "execution_count": 163,
   "metadata": {},
   "outputs": [],
   "source": [
    "def extract_X_and_y(dataset: list[tuple[tuple, int]]) -> tuple[list[tuple[int, int]], list[int]]:\n",
    "    X = [x[0] for x in dataset]\n",
    "    y = [x[1] for x in dataset]\n",
    "    return X,y\n",
    "\n",
    "X_1, y_1 = extract_X_and_y(D_prime1)\n",
    "X_2, y_2 = extract_X_and_y(D_prime2)\n",
    "X_3, y_3 = extract_X_and_y(D_prime3)\n",
    "X_4, y_4 = extract_X_and_y(D_prime4)"
   ]
  },
  {
   "cell_type": "code",
   "execution_count": 164,
   "metadata": {},
   "outputs": [],
   "source": [
    "from sklearn.linear_model import LogisticRegression\n",
    "\n",
    "reg1 = LogisticRegression().fit(X_1, y_1)\n",
    "reg2 = LogisticRegression().fit(X_2, y_2)\n",
    "reg3 = LogisticRegression().fit(X_3, y_3)\n",
    "reg4 = LogisticRegression().fit(X_4, y_4)"
   ]
  },
  {
   "cell_type": "code",
   "execution_count": 171,
   "metadata": {},
   "outputs": [
    {
     "name": "stdout",
     "output_type": "stream",
     "text": [
      "[-0.696,  0.043, -0.040,  0.030, -0.006, -0.032]\n",
      "[-1.567, -0.008, -0.099, -0.009, -0.036, -0.055]\n",
      "[-0.791,  0.062,  0.178,  0.038,  0.082,  0.113]\n",
      "[-1.551, -0.098, -0.040, -0.060, -0.040, -0.027]\n"
     ]
    }
   ],
   "source": [
    "def pp(x) -> str:\n",
    "    return f\"{x:0.3f}\"\n",
    "\n",
    "def print_model_params(reg: LogisticRegression) -> None:\n",
    "    print(f\"[{pp(reg.intercept_[0])}, {pp(reg.coef_[0][0])}, {pp(reg.coef_[0][1])}, {pp(reg.coef_[0][2])}, {pp(reg.coef_[0][3])}, {pp(reg.coef_[0][4])}]\")\n",
    "\n",
    "print_model_params(reg1)\n",
    "print_model_params(reg2)\n",
    "print_model_params(reg3)\n",
    "print_model_params(reg4)"
   ]
  },
  {
   "cell_type": "code",
   "execution_count": null,
   "metadata": {},
   "outputs": [],
   "source": []
  }
 ],
 "metadata": {
  "kernelspec": {
   "display_name": "venv",
   "language": "python",
   "name": "python3"
  },
  "language_info": {
   "codemirror_mode": {
    "name": "ipython",
    "version": 3
   },
   "file_extension": ".py",
   "mimetype": "text/x-python",
   "name": "python",
   "nbconvert_exporter": "python",
   "pygments_lexer": "ipython3",
   "version": "3.10.5"
  }
 },
 "nbformat": 4,
 "nbformat_minor": 2
}
