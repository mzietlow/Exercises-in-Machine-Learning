{
 "cells": [
  {
   "cell_type": "markdown",
   "metadata": {},
   "source": [
    "# Programmieraufgaben zu 2.4 (KNN)"
   ]
  },
  {
   "cell_type": "markdown",
   "metadata": {},
   "source": [
    "## Aufgabe 1\n",
    "\n",
    "Sei ein Datensatz gegeben durch\n",
    "\n",
    "$$\n",
    "D={((14.26,18.98),1),((9.45,8.61),1),((7.53,−0.7),1),((15.62,4.92),2),((17.47,−8.43),2),((6.66,−5.27),3)}\n",
    "$$\n",
    "\n",
    "**Aufgabe**: Bestimmen Sie die Klasse des Punktes $x^{(7)}=(13.92,−1.76)$ mittels KNN bzgl. $D$ für \n",
    "\n",
    "- (a) $k=1$\n",
    "- (b) $k=3$\n",
    "- (c) $k=5$"
   ]
  },
  {
   "cell_type": "code",
   "execution_count": 1,
   "metadata": {},
   "outputs": [
    {
     "name": "stdout",
     "output_type": "stream",
     "text": [
      "[(14.26, 18.98), (9.45, 8.61), (7.53, -0.7), (15.62, 4.92), (17.47, -8.43), (6.66, -5.27)] [1, 1, 1, 2, 2, 3] (13.92, -1.76)\n"
     ]
    }
   ],
   "source": [
    "D = [\n",
    "    ((14.26, 18.98), 1),\n",
    "    ((9.45, 8.61), 1),\n",
    "    ((7.53, -0.7), 1),\n",
    "    ((15.62, 4.92), 2),\n",
    "    ((17.47, -8.43), 2),\n",
    "    ((6.66, -5.27), 3),\n",
    "]\n",
    "\n",
    "X = [x[0] for x in D]\n",
    "y = [x[1] for x in D]\n",
    "\n",
    "x_7 = (13.92, -1.76)\n",
    "\n",
    "print(X, y, x_7)"
   ]
  },
  {
   "cell_type": "code",
   "execution_count": 2,
   "metadata": {},
   "outputs": [],
   "source": [
    "from sklearn.neighbors import KNeighborsClassifier\n",
    "\n",
    "clf_1 = KNeighborsClassifier(n_neighbors=1).fit(X, y)\n",
    "clf_2 = KNeighborsClassifier(n_neighbors=3).fit(X, y)\n",
    "clf_3 = KNeighborsClassifier(n_neighbors=5).fit(X, y)"
   ]
  },
  {
   "cell_type": "code",
   "execution_count": 3,
   "metadata": {},
   "outputs": [
    {
     "name": "stdout",
     "output_type": "stream",
     "text": [
      "K=1: 1\n",
      "K=2: 2\n",
      "K=3: 1\n"
     ]
    }
   ],
   "source": [
    "print(f\"K=1: {clf_1.predict([x_7])[0]}\")\n",
    "print(f\"K=2: {clf_2.predict([x_7])[0]}\")\n",
    "print(f\"K=3: {clf_3.predict([x_7])[0]}\")"
   ]
  },
  {
   "cell_type": "markdown",
   "metadata": {},
   "source": [
    "## Aufgabe 2\n",
    "\n",
    "Sei ein Datensatz gegeben durch\n",
    "\n",
    "$$\n",
    "D=\\{((9.8,40.29),1),((−0.1,37.54),1),((−18.46,46.52),1),((−30.33,22.56),2),((12.51,30.13),2),((36.45,13.2),3)\\}\n",
    "$$\n",
    "\n",
    "1. Berechnen Sie die z-transformierte Variante $\\hat{D}$ zu dem Datensatz.\n",
    "2. Bestimmen Sie die Klasse des Punktes $x^{(7)}=(−4.2,21.45)$ mittels KNN mit k=3 bzgl. $\\hat{D}$.\\\n",
    "    (Tipp: $x^{(7)}$ ist noch nicht z-transformiert.)\n"
   ]
  },
  {
   "cell_type": "code",
   "execution_count": 4,
   "metadata": {},
   "outputs": [
    {
     "name": "stdout",
     "output_type": "stream",
     "text": [
      "[(9.8, 40.29), (-0.1, 37.54), (-18.46, 46.52), (-30.33, 22.56), (12.51, 30.13), (36.45, 13.2)] [1, 1, 1, 2, 2, 3] (-4.2, 21.45)\n"
     ]
    }
   ],
   "source": [
    "D = [\n",
    "    ((9.8, 40.29), 1),\n",
    "    ((-0.1, 37.54), 1),\n",
    "    ((-18.46, 46.52), 1),\n",
    "    ((-30.33, 22.56), 2),\n",
    "    ((12.51, 30.13), 2),\n",
    "    ((36.45, 13.2), 3),\n",
    "]\n",
    "\n",
    "X = [x[0] for x in D]\n",
    "y = [x[1] for x in D]\n",
    "\n",
    "x_7 = (-4.2, 21.45)\n",
    "\n",
    "print(X, y, x_7)"
   ]
  },
  {
   "cell_type": "code",
   "execution_count": 5,
   "metadata": {},
   "outputs": [
    {
     "name": "stdout",
     "output_type": "stream",
     "text": [
      "[((0.376, 0.765), 1), ((-0.08, 0.52), 1), ((-0.926, 1.32), 1), ((-1.473, -0.815), 2), ((0.501, -0.14), 2), ((1.604, -1.649), 3)]\n"
     ]
    }
   ],
   "source": [
    "import numpy as np\n",
    "from sklearn.preprocessing import StandardScaler\n",
    "\n",
    "scaler = StandardScaler(with_mean=True, with_std=True).fit(X)\n",
    "\n",
    "X_hat = scaler.transform(X)\n",
    "x_7_hat = scaler.transform([x_7])[0]\n",
    "y_hat = y\n",
    "\n",
    "D_hat = [(tuple(np.round(x, decimals=3)), y) for x, y in zip(X_hat, y_hat)]\n",
    "\n",
    "print(D_hat)"
   ]
  },
  {
   "cell_type": "code",
   "execution_count": 6,
   "metadata": {},
   "outputs": [
    {
     "name": "stdout",
     "output_type": "stream",
     "text": [
      "Klassifikation: 2\n"
     ]
    }
   ],
   "source": [
    "from sklearn.neighbors import KNeighborsClassifier\n",
    "\n",
    "clf = KNeighborsClassifier(n_neighbors=3).fit(X_hat, y_hat)\n",
    "\n",
    "print(f\"Klassifikation: {clf.predict([x_7_hat])[0]}\")"
   ]
  },
  {
   "cell_type": "markdown",
   "metadata": {},
   "source": [
    "## Aufgabe 3\n",
    "\n",
    "Sei ein Datensatz gegeben durch\n",
    "\n",
    "$$\n",
    "D=\\{((3.1,4.1),5.9),((2.6,5.3),5.8),((9.7,9.3),2.3),((8.4,6.2),6.4),((3.3,8.3),2.7),((9.5,0.2),8.8)\\}\n",
    "$$\n",
    "\n",
    "Bestimmen Sie die Klasse von $x^{(7)}=(4.1,9.7)$ mithilfe der KNN-Regression ($k=3$) bzgl. $D$."
   ]
  },
  {
   "cell_type": "code",
   "execution_count": 7,
   "metadata": {},
   "outputs": [
    {
     "name": "stdout",
     "output_type": "stream",
     "text": [
      "[(3.1, 4.1), (2.6, 5.3), (9.7, 9.3), (8.4, 6.2), (3.3, 8.3), (9.5, 0.2)] [5.9, 5.8, 2.3, 6.4, 2.7, 8.8] (4.1, 9.7)\n"
     ]
    }
   ],
   "source": [
    "D = [\n",
    "    ((3.1, 4.1), 5.9),\n",
    "    ((2.6, 5.3), 5.8),\n",
    "    ((9.7, 9.3), 2.3),\n",
    "    ((8.4, 6.2), 6.4),\n",
    "    ((3.3, 8.3), 2.7),\n",
    "    ((9.5, 0.2), 8.8),\n",
    "]\n",
    "X = [x[0] for x in D]\n",
    "y = [x[1] for x in D]\n",
    "x_7 = (4.1, 9.7)\n",
    "print(X, y, x_7)"
   ]
  },
  {
   "cell_type": "code",
   "execution_count": 8,
   "metadata": {},
   "outputs": [
    {
     "name": "stdout",
     "output_type": "stream",
     "text": [
      "Klassifikation:  4.967\n"
     ]
    }
   ],
   "source": [
    "from sklearn.neighbors import KNeighborsRegressor\n",
    "\n",
    "reg = KNeighborsRegressor(n_neighbors=3).fit(X, y)\n",
    "\n",
    "print(f\"Klassifikation: {reg.predict([x_7])[0]: 0.3f}\")"
   ]
  }
 ],
 "metadata": {
  "kernelspec": {
   "display_name": "venv",
   "language": "python",
   "name": "python3"
  },
  "language_info": {
   "codemirror_mode": {
    "name": "ipython",
    "version": 3
   },
   "file_extension": ".py",
   "mimetype": "text/x-python",
   "name": "python",
   "nbconvert_exporter": "python",
   "pygments_lexer": "ipython3",
   "version": "3.10.5"
  }
 },
 "nbformat": 4,
 "nbformat_minor": 2
}
