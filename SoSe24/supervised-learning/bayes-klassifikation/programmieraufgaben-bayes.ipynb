{
 "cells": [
  {
   "cell_type": "markdown",
   "metadata": {},
   "source": [
    "# Programmieraufgaben zu 2.5 (Bayes- und Naive-Bayes-Klassifikation)"
   ]
  },
  {
   "cell_type": "markdown",
   "metadata": {},
   "source": [
    "## Aufgabe 1\n",
    "\n",
    "Sei ein Datensatz gegeben durch\n",
    "\n",
    "$$\n",
    "D=\\{((0,50),0),((1,200),2),((2,200),1),((0,100),1),((1,50),0),((0,200),2)\\}\n",
    "$$\n",
    "\n",
    "sowie die Klassen $Z = \\{0, 1, 2\\}$.\n",
    "\n",
    "Bestimmen Sie wie der Datenpunkt $x^{(7)}=(2,50)$ mit einem Naive Bayes-Klassifikator klassifiziert werden würde."
   ]
  },
  {
   "cell_type": "code",
   "execution_count": 18,
   "metadata": {},
   "outputs": [
    {
     "name": "stdout",
     "output_type": "stream",
     "text": [
      "[(0, 50), (1, 200), (2, 200), (0, 100), (1, 50), (0, 200)] [0, 2, 1, 1, 0, 2] (2, 50)\n"
     ]
    }
   ],
   "source": [
    "D = [\n",
    "    ((0, 50), 0),\n",
    "    ((1, 200), 2),\n",
    "    ((2, 200), 1),\n",
    "    ((0, 100), 1),\n",
    "    ((1, 50), 0),\n",
    "    ((0, 200), 2),\n",
    "]\n",
    "X = [x[0] for x in D]\n",
    "y = [x[1] for x in D]\n",
    "\n",
    "x_7 = (2, 50)\n",
    "\n",
    "print(X, y, x_7)"
   ]
  },
  {
   "cell_type": "code",
   "execution_count": 19,
   "metadata": {},
   "outputs": [
    {
     "name": "stdout",
     "output_type": "stream",
     "text": [
      "Klassifikation von x_7: 0\n"
     ]
    }
   ],
   "source": [
    "from sklearn.naive_bayes import GaussianNB\n",
    "\n",
    "clf = GaussianNB().fit(X, y)\n",
    "\n",
    "result = clf.predict([x_7])\n",
    "\n",
    "print(f\"Klassifikation von x_7: {result[0]}\")"
   ]
  },
  {
   "cell_type": "markdown",
   "metadata": {},
   "source": [
    "## Aufgabe 2\n",
    "\n",
    "Seien $Z=\\{0,1\\}$ die Klassen.\\\n",
    "Seien zwei Datensätze gegeben durch:\n",
    "\n",
    "$$\n",
    "\\begin{align}\n",
    "D^\\text{train}&=\\{((1.29,−1.83),1),((0.76,−0.95),1),((5.24,−1.59),0),((8.74,−0.27),0),((2.77,−2.23),0),((1.24,−1.65),1)\\}\\\\\n",
    "D^\\text{test}&=\\{((0.62,−1.58),1),((6.82,0.07),0),((2.64,−0.15),1),((3.23,−1.58),0)\\}\n",
    "\\end{align}\n",
    "$$\n",
    "\n",
    "Führen Sie für $D^\\text{test}$ eine Naive Bayes-Klassifikation durch.\\\n",
    "Bestimmen Sie anschließend die Performanzfunktionen: Accuracy, Precision, Recall und F1-Score."
   ]
  },
  {
   "cell_type": "code",
   "execution_count": 20,
   "metadata": {},
   "outputs": [],
   "source": [
    "D_train = [\n",
    "    ((1.29, -1.83), 1),\n",
    "    ((0.76, -0.95), 1),\n",
    "    ((5.24, -1.59), 0),\n",
    "    ((8.74, -0.27), 0),\n",
    "    ((2.77, -2.23), 0),\n",
    "    ((1.24, -1.65), 1),\n",
    "]\n",
    "D_test = [((0.62, -1.58), 1), ((6.82, 0.07), 0), ((2.64, -0.15), 1), ((3.23, -1.58), 0)]\n",
    "\n",
    "X_train = [x[0] for x in D_train]\n",
    "y_train = [x[1] for x in D_train]\n",
    "\n",
    "X_test = [x[0] for x in D_test]\n",
    "y_test = [x[1] for x in D_test]"
   ]
  },
  {
   "cell_type": "code",
   "execution_count": 21,
   "metadata": {},
   "outputs": [
    {
     "data": {
      "text/plain": [
       "array([1, 0, 0, 0])"
      ]
     },
     "execution_count": 21,
     "metadata": {},
     "output_type": "execute_result"
    }
   ],
   "source": [
    "from sklearn.naive_bayes import GaussianNB\n",
    "\n",
    "clf = GaussianNB().fit(X_train, y_train)\n",
    "\n",
    "pred = clf.predict(X_test)\n",
    "pred"
   ]
  },
  {
   "cell_type": "code",
   "execution_count": 22,
   "metadata": {},
   "outputs": [
    {
     "name": "stdout",
     "output_type": "stream",
     "text": [
      "accuracy_score: 0.75\n",
      "precision_score: 1.0\n",
      "recall_score: 0.5\n",
      "f1_score: 0.6666666666666666\n"
     ]
    }
   ],
   "source": [
    "from sklearn.metrics import accuracy_score, precision_score, recall_score, f1_score\n",
    "\n",
    "print(f\"accuracy_score: {accuracy_score(y_test, pred)}\")\n",
    "print(f\"precision_score: {precision_score(y_test, pred)}\")\n",
    "print(f\"recall_score: {recall_score(y_test, pred)}\")\n",
    "print(f\"f1_score: {f1_score(y_test, pred)}\")"
   ]
  }
 ],
 "metadata": {
  "kernelspec": {
   "display_name": "venv",
   "language": "python",
   "name": "python3"
  },
  "language_info": {
   "codemirror_mode": {
    "name": "ipython",
    "version": 3
   },
   "file_extension": ".py",
   "mimetype": "text/x-python",
   "name": "python",
   "nbconvert_exporter": "python",
   "pygments_lexer": "ipython3",
   "version": "3.10.5"
  }
 },
 "nbformat": 4,
 "nbformat_minor": 2
}
