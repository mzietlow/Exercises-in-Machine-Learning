{
 "cells": [
  {
   "cell_type": "markdown",
   "metadata": {},
   "source": [
    "# Programmieraufgaben zu 2.1 (Lineare Regression)"
   ]
  },
  {
   "cell_type": "markdown",
   "metadata": {},
   "source": [
    "## Frage 1"
   ]
  },
  {
   "cell_type": "markdown",
   "metadata": {},
   "source": [
    "Sei ein Datensatz $D$ gegeben durch\n",
    "\n",
    "$$\n",
    "D=\\{((23,36),0.1),((23,34),0),((26,29),1.2),((21,40),−0.5),((20,33),−1.5),((25,35),0.7)\\}\n",
    "$$\n",
    " \n",
    "\n",
    "Bestimmen Sie, unter Nutzung von Python und scikit-learn, $\\theta=(\\theta_0,\\theta_1,\\theta_2)$ für das optimale lineare Modell $h_\\theta$ bzgl. $D$"
   ]
  },
  {
   "cell_type": "code",
   "execution_count": 77,
   "metadata": {},
   "outputs": [],
   "source": [
    "X = [[23,36],[23,34],[26,29],[21,40],[20,33],[25,35]]\n",
    "y = [0.1, 0, 1.2, -0.5, -1.5, 0.7]"
   ]
  },
  {
   "cell_type": "code",
   "execution_count": 78,
   "metadata": {},
   "outputs": [],
   "source": [
    "from sklearn.linear_model import LinearRegression\n",
    "reg = LinearRegression().fit(X,y)"
   ]
  },
  {
   "cell_type": "code",
   "execution_count": 79,
   "metadata": {},
   "outputs": [
    {
     "name": "stdout",
     "output_type": "stream",
     "text": [
      "-11.918,  0.445,  0.049\n"
     ]
    }
   ],
   "source": [
    "print(f\"{reg.intercept_: .3f}, {reg.coef_[0]: .3f}, {reg.coef_[1]: .3f}\")"
   ]
  },
  {
   "cell_type": "markdown",
   "metadata": {},
   "source": [
    "## Frage 2\n",
    "\n",
    "Sei ein Datensatz $D$ gegeben durch\n",
    "\n",
    "$$\n",
    "D=\\{((0.5,4.4),6.8),((1,4.0),8.1),((1.5,3.8),9.3),((1.6,3.7),11.1),((1.2,5.2),11.6),((0.7,4.3),13.6)\\}\n",
    "$$\n",
    " \n",
    "\n",
    "Bestimmen Sie, unter Nutzung von Python und scikit-learn, $\\theta=(\\theta_0,\\theta_1,\\theta_2,\\theta_3,\\theta_4,\\theta_5)$ für das optimale lineare Modell $h_\\theta$ bzgl. $D'$, wobei $D'$ die polynomielle Merkmalserweiterung von D mit Maximalgrad 2 sei.\n",
    "\n"
   ]
  },
  {
   "cell_type": "code",
   "execution_count": 80,
   "metadata": {},
   "outputs": [],
   "source": [
    "X=[[0.5,4.4],[1,4.0],[1.5,3.8],[1.6,3.7],[1.2,5.2],[0.7,4.3]]\n",
    "y=[6.8, 8.1, 9.3, 11.1, 11.6, 13.6]"
   ]
  },
  {
   "cell_type": "code",
   "execution_count": 81,
   "metadata": {},
   "outputs": [
    {
     "name": "stdout",
     "output_type": "stream",
     "text": [
      "[[ 0.5   4.4   0.25  2.2  19.36]\n",
      " [ 1.    4.    1.    4.   16.  ]\n",
      " [ 1.5   3.8   2.25  5.7  14.44]\n",
      " [ 1.6   3.7   2.56  5.92 13.69]\n",
      " [ 1.2   5.2   1.44  6.24 27.04]\n",
      " [ 0.7   4.3   0.49  3.01 18.49]]\n"
     ]
    }
   ],
   "source": [
    "from sklearn.preprocessing import PolynomialFeatures\n",
    "X_prime = PolynomialFeatures(degree=2, include_bias=False).fit_transform(X)\n",
    "print(X_prime)"
   ]
  },
  {
   "cell_type": "code",
   "execution_count": 82,
   "metadata": {},
   "outputs": [],
   "source": [
    "reg = LinearRegression().fit(X_prime, y)"
   ]
  },
  {
   "cell_type": "code",
   "execution_count": 83,
   "metadata": {},
   "outputs": [
    {
     "name": "stdout",
     "output_type": "stream",
     "text": [
      "-1588,241, 1488,408, 353,983, -180,842, -266,054, -3,934\n"
     ]
    }
   ],
   "source": [
    "def pp(float):\n",
    "    return f\"{float:0.3f}\".replace(\".\", \",\")\n",
    "\n",
    "print(f\"{pp(reg.intercept_)}, {pp(reg.coef_[0])}, {pp(reg.coef_[1])}, {pp(reg.coef_[2])}, {pp(reg.coef_[3])}, {pp(reg.coef_[4])}\")"
   ]
  },
  {
   "cell_type": "markdown",
   "metadata": {},
   "source": [
    "## Frage 3\n",
    "\n",
    "Sei ein Datensatz $D$ gegeben durch\n",
    "\n",
    "$$\n",
    "D=\\{((12,7),5.5),((10,8),6),((10,7.5),7),((15,5),6.5),((16,9),7.5),((18,8),10)\\}\n",
    "$$\n",
    " \n",
    "\n",
    "Bestimmen Sie, unter Nutzung von Python und scikit-learn, $\\theta=(\\theta_0,\\theta_1,\\theta_2)$ für das Ridge-Regressions Modell $h_\\theta$ bzgl. $D$ mit $\\lambda=0.1$.\n",
    "\n"
   ]
  },
  {
   "cell_type": "code",
   "execution_count": 84,
   "metadata": {},
   "outputs": [],
   "source": [
    "X=((12,7),(10,8),(10,7.5),(15,5),(16,9),(18,8))\n",
    "y= (5.5,6,7,6.5,7.5,10)"
   ]
  },
  {
   "cell_type": "code",
   "execution_count": 85,
   "metadata": {},
   "outputs": [],
   "source": [
    "from sklearn.linear_model import Ridge\n",
    "reg = Ridge(alpha=0.1).fit(X,y)"
   ]
  },
  {
   "cell_type": "code",
   "execution_count": 86,
   "metadata": {},
   "outputs": [
    {
     "name": "stdout",
     "output_type": "stream",
     "text": [
      "-0,278, 0,347, 0,361\n"
     ]
    }
   ],
   "source": [
    "print(f\"{pp(reg.intercept_)}, {pp(reg.coef_[0])}, {pp(reg.coef_[1])}\")"
   ]
  },
  {
   "cell_type": "markdown",
   "metadata": {},
   "source": [
    "## Frage 3\n",
    "\n",
    "Sei ein Datensatz $D$ gegeben durch\n",
    "\n",
    "$$\n",
    "D=\\{((17.5,20),0.85),((21.5,23),0.9),((19,19),1.1),((20,18),1),((22.5,16),1.1),((20.5,15),0.8)\\}\n",
    "$$\n",
    " \n",
    "\n",
    "Bestimmen Sie, unter Nutzung von Python und scikit-learn, $\\theta=(\\theta_0,\\theta_1,\\theta_2,\\theta_3,\\theta_4,\\theta_5)$ für das optimale Ridge-Regressions Modell $h_\\theta$ bzgl. $D'$, wobei $D'$ die polynomielle Merkmalserweiterung von $ mit Maximalgrad 2 sei."
   ]
  },
  {
   "cell_type": "code",
   "execution_count": 87,
   "metadata": {},
   "outputs": [],
   "source": [
    "X=((17.5,20),(21.5,23),(19,19),(20,18),(22.5,16),(20.5,15))\n",
    "y=(0.85,0.9,1.1,1,1.1,0.8)"
   ]
  },
  {
   "cell_type": "code",
   "execution_count": 88,
   "metadata": {},
   "outputs": [
    {
     "name": "stdout",
     "output_type": "stream",
     "text": [
      "[[ 17.5   20.   306.25 350.   400.  ]\n",
      " [ 21.5   23.   462.25 494.5  529.  ]\n",
      " [ 19.    19.   361.   361.   361.  ]\n",
      " [ 20.    18.   400.   360.   324.  ]\n",
      " [ 22.5   16.   506.25 360.   256.  ]\n",
      " [ 20.5   15.   420.25 307.5  225.  ]]\n"
     ]
    }
   ],
   "source": [
    "from sklearn.preprocessing import PolynomialFeatures\n",
    "X_prime = PolynomialFeatures(degree=2, include_bias=False).fit_transform(X)\n",
    "print(X_prime)"
   ]
  },
  {
   "cell_type": "code",
   "execution_count": 89,
   "metadata": {},
   "outputs": [],
   "source": [
    "reg = Ridge(alpha=0.2).fit(X_prime, y)"
   ]
  },
  {
   "cell_type": "code",
   "execution_count": 90,
   "metadata": {},
   "outputs": [
    {
     "name": "stdout",
     "output_type": "stream",
     "text": [
      "-0,900, -0,062, 0,227, -0,002, 0,010, -0,011\n"
     ]
    }
   ],
   "source": [
    "print(f\"{pp(reg.intercept_)}, {pp(reg.coef_[0])}, {pp(reg.coef_[1])}, {pp(reg.coef_[2])}, {pp(reg.coef_[3])}, {pp(reg.coef_[4])}\")"
   ]
  }
 ],
 "metadata": {
  "kernelspec": {
   "display_name": "Python 3 (ipykernel)",
   "language": "python",
   "name": "python3"
  },
  "language_info": {
   "codemirror_mode": {
    "name": "ipython",
    "version": 3
   },
   "file_extension": ".py",
   "mimetype": "text/x-python",
   "name": "python",
   "nbconvert_exporter": "python",
   "pygments_lexer": "ipython3",
   "version": "3.10.5"
  }
 },
 "nbformat": 4,
 "nbformat_minor": 2
}
