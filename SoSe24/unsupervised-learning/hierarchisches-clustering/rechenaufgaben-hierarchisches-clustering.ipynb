{
 "cells": [
  {
   "cell_type": "markdown",
   "metadata": {},
   "source": [
    "# Rechenaufgaben zu 3.2 (Hierarchisches Clustering)\n",
    "\n",
    "Sei ein Datensatz gegeben durch\n",
    "\n",
    "$$\n",
    "E=\\{x_1=(2.8,12.5),x_2=(3.9,6.7),x_3=(14,17.3),x_4=(14.7,17.2)\\}\n",
    "$$\n",
    "\n",
    "Sei $X$ die Menge der Cluster und sei initial $X:=\\{\\{x_1\\},\\{x_2\\},\\{x_3\\},\\{x_4\\}\\}$.\n",
    "\n",
    "1. Berechnen Sie $D_\\text{single}(X_1,X_2)$ für alle $X_1,X_2\\in X$ (wobei $X_1\\neq X_2$).\n",
    "2. Bestimmen Sie, welche initialen Cluster nun zusammengelegt werden und geben Sie das Ergebnis-Clustering an.\n",
    "3. Berechnen Sie nun $D_\\text{single}(X_1,X_2)$ für alle $X_1,X_2$ im aktualisierten Cluster $X$.\n",
    "4. Bestimmen Sie, welche Cluster nun zusammengelegt werden und geben Sie das Ergebnis-Clustering an.\n",
    "5. Wo liegt der Schwellwert für das im zweiten Schritt gebildete Clustering?"
   ]
  },
  {
   "cell_type": "markdown",
   "metadata": {
    "vscode": {
     "languageId": "plaintext"
    }
   },
   "source": [
    "## Aufgabe 1\n",
    "\n",
    "Berechnen Sie $D_\\text{single}(X_1,X_2)$ für alle $X_1,X_2\\in X$ (wobei $X_1\\neq X_2$).\n",
    "\n",
    "**Antwort:** Die Abstandsfunktion $D_\\text{single}$ ist definiert durch\n",
    "\n",
    "$$\n",
    "D_\\text{single}(E_1, E_2) = \\min_{x_1\\in E_1, x_2\\in E_2} \\Vert x_1-x_2\\Vert_2\n",
    "$$\n",
    "\n",
    "Also:"
   ]
  },
  {
   "cell_type": "code",
   "execution_count": 41,
   "metadata": {},
   "outputs": [
    {
     "name": "stdout",
     "output_type": "stream",
     "text": [
      "D_single({x_1}, {x_2}): 5,903\n",
      "D_single({x_1}, {x_3}): 12,185\n",
      "D_single({x_1}, {x_4}): 12,795\n",
      "D_single({x_2}, {x_3}): 14,641\n",
      "D_single({x_2}, {x_4}): 15,063\n",
      "D_single({x_3}, {x_4}): 0,707\n"
     ]
    }
   ],
   "source": [
    "import itertools\n",
    "import numpy as np\n",
    "\n",
    "\n",
    "def euclid_dist(x_1: list[float], x_2: list[float]) -> float:\n",
    "    return np.round(\n",
    "        np.sqrt(sum((x - x_prime) ** 2 for (x, x_prime) in zip(x_1, x_2))), decimals=3\n",
    "    )\n",
    "\n",
    "\n",
    "def d_single(E_1: list[list[float]], E_2: list[list[float]]) -> float:\n",
    "    return min(euclid_dist(x_1, x_2) for x_1 in E_1 for x_2 in E_2)\n",
    "\n",
    "\n",
    "cluster = {\n",
    "    \"{x_1}\": [(2.8, 12.5)],\n",
    "    \"{x_2}\": [(3.9, 6.7)],\n",
    "    \"{x_3}\": [(14, 17.3)],\n",
    "    \"{x_4}\": [(14.7, 17.2)],\n",
    "}\n",
    "\n",
    "for E_1, E_2 in itertools.combinations(cluster, 2):\n",
    "    print(\n",
    "        f\"D_single({E_1}, {E_2}): {d_single(cluster[E_1], cluster[E_2])}\".replace(\n",
    "            \".\", \",\"\n",
    "        )\n",
    "    )"
   ]
  },
  {
   "cell_type": "markdown",
   "metadata": {},
   "source": [
    "## Aufgabe 2\n",
    "\n",
    "Bestimmen Sie, welche initialen Cluster nun zusammengelegt werden und geben Sie das Ergebnis-Clustering an.\n",
    "\n",
    "**Antwort:** Die Cluster mit dem geringsten Abstand sind $\\{x_3\\}$ und $\\{x_4\\}$. Wir erhalten also \n",
    "\n",
    "$$\n",
    "X=\\{\\{x_1\\},\\{x_2\\},\\{x_3, x_4\\}\\}\n",
    "$$"
   ]
  },
  {
   "cell_type": "markdown",
   "metadata": {},
   "source": [
    "## Aufgabe 3\n",
    "\n",
    "Berechnen Sie nun $D_\\text{single}(X_1,X_2)$ für alle $X_1,X_2$ im aktualisierten Cluster $X$.\n",
    "\n",
    "**Antwort:** Wie in Aufgabe 1:"
   ]
  },
  {
   "cell_type": "code",
   "execution_count": 43,
   "metadata": {},
   "outputs": [
    {
     "name": "stdout",
     "output_type": "stream",
     "text": [
      "D_single({x_1}, {x_2}): 5,903\n",
      "D_single({x_1}, {x_3, x_4}): 12,185\n",
      "D_single({x_2}, {x_3, x_4}): 14,641\n"
     ]
    }
   ],
   "source": [
    "cluster = {\n",
    "    \"{x_1}\": [(2.8, 12.5)],\n",
    "    \"{x_2}\": [(3.9, 6.7)],\n",
    "    \"{x_3, x_4}\": [(14, 17.3), (14.7, 17.2)],\n",
    "}\n",
    "\n",
    "for E_1, E_2 in itertools.combinations(cluster, 2):\n",
    "    print(\n",
    "        f\"D_single({E_1}, {E_2}): {d_single(cluster[E_1], cluster[E_2])}\".replace(\n",
    "            \".\", \",\"\n",
    "        )\n",
    "    )"
   ]
  },
  {
   "cell_type": "markdown",
   "metadata": {},
   "source": [
    "## Aufgabe 4\n",
    "\n",
    "Bestimmen Sie, welche Cluster nun zusammengelegt werden und geben Sie das Ergebnis-Clustering an.\n",
    "\n",
    "**Antwort:** Die Cluster mit dem geringsten Abstand sind $\\{x_1\\}$ und $\\{x_2\\}$. Wir erhalten also:\n",
    "\n",
    "$$\n",
    "X=\\{\\{x_1,x_2\\},\\{x_3, x_4\\}\\}\n",
    "$$"
   ]
  },
  {
   "cell_type": "markdown",
   "metadata": {},
   "source": [
    "## Aufgabe 5\n",
    "\n",
    "Wo liegt der Schwellwert für das im zweiten Schritt gebildete Clustering?\n",
    "\n",
    "**Antwort:** Der Schwellwert liegt bei 5,903"
   ]
  }
 ],
 "metadata": {
  "kernelspec": {
   "display_name": "venv",
   "language": "python",
   "name": "python3"
  },
  "language_info": {
   "codemirror_mode": {
    "name": "ipython",
    "version": 3
   },
   "file_extension": ".py",
   "mimetype": "text/x-python",
   "name": "python",
   "nbconvert_exporter": "python",
   "pygments_lexer": "ipython3",
   "version": "3.10.5"
  }
 },
 "nbformat": 4,
 "nbformat_minor": 2
}
