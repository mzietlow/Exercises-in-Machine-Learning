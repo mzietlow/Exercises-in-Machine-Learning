{
 "cells": [
  {
   "cell_type": "markdown",
   "metadata": {},
   "source": [
    "# Programmieraufgaben zu 3.5 (Hauptkomponentenanalyse)\n",
    "\n",
    "Sei ein Datensatz gegeben durch\n",
    "\n",
    "$$\n",
    "E=\\{(−1.222,−1.297,−1.648),(−0.604,−0.208,1.436),(1.247,0.809,−0.414), (1.247,1.826,−0.846),(−0.693,0.301,1.128),(−0.869,−1.006,0.141),(0.894,−0.425,0.203)\\}\n",
    "$$\n",
    "\n",
    "Nutzen Sie Python und scikit-learn, um die folgenden Aufgaben zu bearbeiten.\n",
    "\n",
    "1. Führen Sie eine Hauptkomponentenanalyse auf E aus, wobei 2 Komponenten behalten werden sollen.\n",
    "    - Geben Sie die zu den Hauptkomponenten zugehörigen Eigenwerte an.\n",
    "2. Führen Sie eine Hauptkomponentenanalyse auf E aus, wobei 3 Komponenten behalten werden sollen.\n",
    "    - Geben Sie die zu den Hauptkomponenten zugehörigen Eigenwerte an.\n",
    "\n",
    "**Antwort:**\n",
    "\n",
    "Da die Eigenwerte die *Varianz* in Richtung der Eigenvektoren angeben, erhalten wir sie in sklearn durch das Attribut `explained_variance_`. Also:"
   ]
  },
  {
   "cell_type": "code",
   "execution_count": 43,
   "metadata": {},
   "outputs": [],
   "source": [
    "import numpy as np\n",
    "E=[(-1.222,-1.297,-1.648),(-0.604,-0.208,1.436),(1.247,0.809,-0.414), (1.247,1.826,-0.846),(-0.693,0.301,1.128),(-0.869,-1.006,0.141),(0.894,-0.425,0.203)]"
   ]
  },
  {
   "cell_type": "code",
   "execution_count": 44,
   "metadata": {},
   "outputs": [
    {
     "name": "stdout",
     "output_type": "stream",
     "text": [
      "für n=2 [2.06520402 1.17129394]\n",
      "\n",
      "für n=3 [2.06520402 1.17129394 0.26330904]\n"
     ]
    }
   ],
   "source": [
    "from sklearn.decomposition import PCA\n",
    "\n",
    "result_n2 = PCA(n_components=2, ).fit(E)\n",
    "print(f\"für n=2 {result_n2.explained_variance_ }\\n\")\n",
    "\n",
    "result_n3 = PCA(n_components=3).fit(E)\n",
    "print(f\"für n=3 {result_n3.explained_variance_}\")"
   ]
  }
 ],
 "metadata": {
  "kernelspec": {
   "display_name": "venv",
   "language": "python",
   "name": "python3"
  },
  "language_info": {
   "codemirror_mode": {
    "name": "ipython",
    "version": 3
   },
   "file_extension": ".py",
   "mimetype": "text/x-python",
   "name": "python",
   "nbconvert_exporter": "python",
   "pygments_lexer": "ipython3",
   "version": "3.10.5"
  }
 },
 "nbformat": 4,
 "nbformat_minor": 2
}
