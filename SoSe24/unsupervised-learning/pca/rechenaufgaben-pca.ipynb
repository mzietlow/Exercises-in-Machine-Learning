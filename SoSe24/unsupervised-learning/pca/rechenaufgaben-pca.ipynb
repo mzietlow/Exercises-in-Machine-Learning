{
 "cells": [
  {
   "cell_type": "markdown",
   "metadata": {},
   "source": [
    "# Rechenaufgaben zu 3.5 (Hauptkomponentenanalyse)\n",
    "\n",
    "Sei ein standardisierter Datensatz gegeben durch\n",
    "\n",
    "$$\n",
    "E=\\{(−1.3,−1.4),(−0.7,−0.4),(1,0.5),(1,1.3)\\}\n",
    "$$\n",
    "\n",
    "und sei weiterhin \n",
    "\n",
    "$$\n",
    "E_\\text{compressed}=\\{1.909,0.779,−1.063,−1.625\\}\n",
    "$$\n",
    "\n",
    "die (bspw. durch PCA) komprimierte Version von E."
   ]
  },
  {
   "cell_type": "markdown",
   "metadata": {},
   "source": [
    "## Aufgabe 1\n",
    "\n",
    "Berechnen Sie die Kovarianzmatrix $\\operatorname{Cov}(E)$.\n",
    "\n",
    "\n",
    "**Antwort**:\n",
    "\n",
    "Da $E$ bereits standardisiert ist, erhalten wir $\\operatorname{Cov}(E)$ durch $\\frac{1}{4} \\cdot E^TE$.\n",
    "\n",
    "Also\n",
    "\n",
    "$$\n",
    "\\begin{align}\n",
    "\\operatorname{Cov}(E)&=\n",
    "\\frac{1}{4}\n",
    "\\cdot\n",
    "\\begin{pmatrix}\n",
    "(-1.3)^2+(-0.7)^2+1+1               & (-1.3)(-1.4) + (-0.7)(-0.4)+0.5+1.3\\\\\n",
    "(-1.4)(-1.3) + (-0.4)(-0.7)+0.5+1.3 & (-1.4)^2+(-0.4)^2+0.5^2+1.3^2\n",
    "\\end{pmatrix}\\\\\n",
    "&\\approx\n",
    "\\begin{pmatrix}\n",
    "1.045 & 0.975\\\\\n",
    "0.975 & 1.015\n",
    "\\end{pmatrix}\n",
    "\n",
    "\\end{align}\n",
    "$$"
   ]
  },
  {
   "cell_type": "code",
   "execution_count": 6,
   "metadata": {},
   "outputs": [
    {
     "name": "stdout",
     "output_type": "stream",
     "text": [
      "1.045\n",
      "1.015\n",
      "0.9749999999999999\n"
     ]
    }
   ],
   "source": [
    "print(((-1.3)**2+(-0.7)**2+1+1)/4)\n",
    "print(((-1.4)**2+(-0.4)**2+0.5**2+1.3**2)/4)\n",
    "print(((-1.4)*(-1.3) + (-0.4)*(-0.7)+0.5+1.3)/4)"
   ]
  },
  {
   "cell_type": "markdown",
   "metadata": {},
   "source": [
    "## Aufgabe 2\n",
    "\n",
    "Berechnen Sie die Varianz $\\operatorname{var}(E)$\n",
    "\n",
    "**Antwort:**\n",
    "\n",
    "Da $E$ bereits den Erwartungswert $0$ hat, erhalten wir die Varianz einfach durch\n",
    "\n",
    "$$\n",
    "\\operatorname{var}(E)=\\frac{1}{4}(((-1.3)^2+(-1.4)^2)+((-0.7)^2+(-0.4)^2)+(1^2+0.5^2)+(1^2+1.3^2))\\approx 2.06\n",
    "$$"
   ]
  },
  {
   "cell_type": "code",
   "execution_count": 24,
   "metadata": {},
   "outputs": [
    {
     "data": {
      "text/plain": [
       "2.06"
      ]
     },
     "execution_count": 24,
     "metadata": {},
     "output_type": "execute_result"
    }
   ],
   "source": [
    "((1.3**2+1.4**2)+(0.7**2+0.4**2)+(1+0.5**2)+(1+1.3**2))/4"
   ]
  },
  {
   "cell_type": "markdown",
   "metadata": {},
   "source": [
    "## Aufgabe 3\n",
    "\n",
    "Berechnen sie die Retained Variance $\\operatorname{retVar}(E,E_\\text{compressed})$\n",
    "\n",
    "**Antwort**:\n",
    "\n",
    "Die Retained Variance erhalten wir jetzt einfach durch\n",
    "\n",
    "$$\n",
    "\\frac{\\operatorname{var}(E_\\text{compressed})}{\\operatorname{var}(E)}\n",
    "$$\n",
    "\n",
    "Da $E$ bereits standardisiert ist und PCA **nicht** den Erwartungswert der Daten ändert, ist auch der Erwartungswert von $E_\\text{compressed}$ $0$. Damit erhalten wir die Varianz von $E_\\text{compressed}$ einfach durch\n",
    "\n",
    "$$\n",
    "\\operatorname{var}(E_\\text{compressed})=\\frac{1}{4} (1.909^2+0.779^2+(-1.063)^2+(-1.625)^2)\\approx 2.005\n",
    "$$\n",
    "\n",
    "und damit\n",
    "\n",
    "$$\n",
    "\\operatorname{retVar}(E,E_\\text{compressed})=\\frac{2.005}{1.9}\\approx 0.973\n",
    "$$"
   ]
  },
  {
   "cell_type": "code",
   "execution_count": 28,
   "metadata": {},
   "outputs": [
    {
     "name": "stdout",
     "output_type": "stream",
     "text": [
      "2.0054290000000004\n",
      "0.9733009708737863\n"
     ]
    }
   ],
   "source": [
    "print((1.909**2+0.779**2+1.063**2+1.625**2)/4)\n",
    "\n",
    "print(2.005/2.06)"
   ]
  }
 ],
 "metadata": {
  "kernelspec": {
   "display_name": "venv",
   "language": "python",
   "name": "python3"
  },
  "language_info": {
   "codemirror_mode": {
    "name": "ipython",
    "version": 3
   },
   "file_extension": ".py",
   "mimetype": "text/x-python",
   "name": "python",
   "nbconvert_exporter": "python",
   "pygments_lexer": "ipython3",
   "version": "3.10.5"
  }
 },
 "nbformat": 4,
 "nbformat_minor": 2
}
