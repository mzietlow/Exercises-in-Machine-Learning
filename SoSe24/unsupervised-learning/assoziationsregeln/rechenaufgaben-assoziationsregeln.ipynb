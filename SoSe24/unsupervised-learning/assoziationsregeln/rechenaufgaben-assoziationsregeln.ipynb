{
 "cells": [
  {
   "cell_type": "markdown",
   "metadata": {},
   "source": [
    "# Rechenaufgaben zu 3.3 (Assoziationsregellernen)\n",
    "\n",
    "Sei ein Datensatz gegeben durch\n",
    "\n",
    "| Nr  | a   | b   | c   | d   |\n",
    "| --- | --- | --- | --- | --- |\n",
    "| 1   | 1   | 1   | 0   | 1   |\n",
    "| 2   | 0   | 1   | 0   | 1   |\n",
    "| 3   | 1   | 0   | 1   | 0   |\n",
    "| 4   | 1   | 1   | 1   | 1   |\n",
    "| 5   | 0   | 0   | 0   | 1   |\n",
    "\n",
    "Bestimmen Sie folgende Werte:\n",
    "\n",
    "1. support({a})\n",
    "2. support({b,c})\n",
    "3. support({a,c})\n",
    "4. support({b,c,d})\n",
    "5. support({a}⇒{d})\n",
    "6. conf({a}⇒{d})\n",
    "7. support({a,b}⇒{c})\n",
    "8. conf({a,b}⇒{c})\n",
    "\n",
    "**Antwort:**\n",
    "\n",
    "1. support({a}) = $\\frac{3}{5}=0.6$\n",
    "2. support({b,c}) = $\\frac{1}{5}=0.2$\n",
    "3. support({a,c}) = $\\frac{2}{5}=0.4$\n",
    "4. support({b,c,d}) = $\\frac{1}{5}=0.2$\n",
    "5. support({a}⇒{d}) = support({a,d}) = $\\frac{2}{5}=0.4$\n",
    "6. conf({a}⇒{d}) = $\\frac{\\operatorname{support}(\\{a,d\\})}{\\operatorname{support}(\\{a\\})}$=$\\frac{0.4}{0.6}=2/3$\n",
    "7. support({a,b}⇒{c}) = support({a,b,c})= $\\frac{1}{5}=0.2$\n",
    "8. conf({a,b}⇒{c}) = $\\frac{\\operatorname{support}(\\{a,b,c\\})}{\\operatorname{support}(\\{a,b\\})}$=$\\frac{0.2}{0.4}=0.5$\n"
   ]
  }
 ],
 "metadata": {
  "language_info": {
   "name": "python"
  }
 },
 "nbformat": 4,
 "nbformat_minor": 2
}
