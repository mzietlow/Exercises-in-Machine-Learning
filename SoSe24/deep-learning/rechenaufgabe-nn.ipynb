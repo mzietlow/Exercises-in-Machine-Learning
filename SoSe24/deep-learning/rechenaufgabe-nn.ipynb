{
 "cells": [
  {
   "cell_type": "markdown",
   "metadata": {},
   "source": [
    "# Rechenaufgabe zu 5.1 (Neuronale Netzwerke)\n",
    "\n",
    "Gegeben sei ein neuronales Netzwerk mit ReLU als Aktivierungsfunktion und Gewichtsmatrizen:\n",
    "\n",
    "- $W_0=(1)$\n",
    "- $W_1=(1.5)$\n",
    "- $b_0=0.2$ (Bias des Input Layers)\n",
    "- $b_1 = 0.05$ (Bias des 1. Hidden Layers)"
   ]
  },
  {
   "cell_type": "markdown",
   "metadata": {},
   "source": [
    "## Teilaufgabe 1\n",
    "\n",
    "Führen Sie den Forward-Pass für den Input $x=0.1$ durch.\n",
    "\n",
    "**Antwort:** Klar, wir erhalten\n",
    "\n",
    "$$\n",
    "\\begin{aligned}\n",
    "\\phi(0.1)\n",
    "&=\\operatorname{ReLU}(1.5\\cdot \\operatorname{ReLU}(0.1\\cdot 1+0.2) + 0.05)\\\\\n",
    "&=\\operatorname{ReLU}(0.3\\cdot 1.5+0.05)\\\\\n",
    "&\\approx 0.5\n",
    "\\end{aligned}\n",
    "$$"
   ]
  },
  {
   "cell_type": "markdown",
   "metadata": {},
   "source": [
    "## Teilaufgabe 2\n",
    "\n",
    "Berechnen Sie den Fehler mittels Logistischer Kostenfunktion, wobei $y=0.3$\n",
    "\n",
    "**Antwort:** Wir erhalten\n",
    "\n",
    "$$\n",
    "\\begin{aligned}\n",
    "\\operatorname{cost}(y, x)\n",
    "&=-(0.3\\ln(0.5)+0.7\\ln(1-0.5))\\\\\n",
    "&= -(0.3\\ln(0.5)+0.7\\ln(1-0.5))\\\\\n",
    "&\\approx 0.693\n",
    "\\end{aligned}\n",
    "$$"
   ]
  },
  {
   "cell_type": "code",
   "execution_count": 12,
   "metadata": {},
   "outputs": [
    {
     "data": {
      "text/plain": [
       "0.6931471805599453"
      ]
     },
     "execution_count": 12,
     "metadata": {},
     "output_type": "execute_result"
    }
   ],
   "source": [
    "import numpy as np\n",
    "\n",
    "-(0.3*np.log(0.5)+0.7*np.log(1-0.5))"
   ]
  },
  {
   "cell_type": "markdown",
   "metadata": {},
   "source": [
    "## Teilaufgabe 3\n",
    "\n",
    "Führen Sie den Backpropagation-Algorithmus durch mit Lernrate $\\gamma = 0.1$.\n",
    "\n",
    "**Antwort:** Um $W_1$ und $W_0$ zu aktualisieren müssen wir\n",
    "\n",
    "$$\n",
    "\\frac{\\partial \\operatorname{cost}(y, x)}{\\partial W_1} = \\delta(z^{(2)}_1)\\cdot a^{(1)},\n",
    "\\qquad\n",
    "\\frac{\\partial \\operatorname{cost}(y, x)}{\\partial W_0} = \\delta(z^{(2)}_1)\\cdot x\n",
    "$$\n",
    "\n",
    "berechnen. Wir beginnen mit $W_1$. \n",
    "\n",
    "### Aktualisierung von $W_1$\n",
    "\n",
    "Hierzu berechnen wir als erstes $\\delta(z^{(2)}_1)$:\n",
    "\n",
    "$$\n",
    "\\begin{aligned}\n",
    "\\delta(z^{(2)}_1)\n",
    "&=\n",
    "-\\frac\n",
    "{\\partial}\n",
    "{\\partial a^{(2)}}\n",
    "(0.3\\ln(a^{(2)})+0.7\\ln(1-a^{(2)}))\\\\\n",
    "&=\n",
    "-(\\frac{0.3}{a^{(2)}}+\\frac{0.7}{1-a^{(2)}}\\cdot \\underbrace{(-1)}_{\\mathclap{\\text{Innere Ableitung}}})\\\\\n",
    "&=\n",
    "-\\frac{0.3}{a^{(2)}}+\\frac{0.7}{1-a^{(2)}}\\\\\n",
    "&=\n",
    "-\\frac{0.3}{0.5}+\\frac{0.7}{0.5} \\approx 0.8\n",
    "\\end{aligned}\n",
    "$$"
   ]
  },
  {
   "cell_type": "code",
   "execution_count": 22,
   "metadata": {},
   "outputs": [
    {
     "data": {
      "text/plain": [
       "0.4"
      ]
     },
     "execution_count": 22,
     "metadata": {},
     "output_type": "execute_result"
    }
   ],
   "source": [
    "-(0.3/0.5)+(0.7/0.5)"
   ]
  },
  {
   "cell_type": "markdown",
   "metadata": {},
   "source": [
    "Damit erhalten wir \n",
    "\n",
    "$$\n",
    "\\frac{\\partial \\operatorname{cost}(y, x)}{\\partial W_1} = \\delta(z^{(2)}_1)\\cdot a^{(1)} = 0.8\\cdot 0.3 = 0.24\n",
    "$$\n",
    "\n",
    "Mit einer Lernrate von $\\gamma = 0.1$ erhalten wir für $W_1^*$ also\n",
    "\n",
    "$$\n",
    "W_1^* = W_1-0.1\\cdot 0.24 = 1.5-0.024 = 1.476\n",
    "$$"
   ]
  },
  {
   "cell_type": "markdown",
   "metadata": {},
   "source": [
    "### Aktualisierung von $W_0$\n",
    "\n",
    "Jetzt berechnen wir noch $\\delta(z^{(1)}_1)$:\n",
    "\n",
    "$$\n",
    "\\delta(z^{(1)}_1) = \\operatorname{ReLU}'(z^{(1)}_1) \\cdot \\delta(z^{(2)})\\cdot W^{(1)}  = 1\\cdot 0.8 \\cdot 1.5 = 1.2\n",
    "$$\n",
    "\n",
    "und damit\n",
    "\n",
    "$$\n",
    "\\frac{\\partial \\operatorname{cost}(y, x)}{\\partial W_0} = \\delta(z^{(2)}_1)\\cdot x = 1.2x = 0.12\n",
    "$$\n",
    "\n",
    "Für $W_0^*$ gilt also:\n",
    "\n",
    "$$\n",
    "W_0^* = W_0- 0.1\\cdot 0.12 = 1 - 0.012 = 0.988\n",
    "$$"
   ]
  },
  {
   "cell_type": "markdown",
   "metadata": {},
   "source": [
    "## Teilaufgabe 4\n",
    "\n",
    "Führen Sie nochmal einen Forward-Pass durch. Wie lautet der neue Ausgabewert $\\phi(x)$?\n",
    "\n",
    "**Antwort:**\n",
    "\n",
    "Wir erhalten nun\n",
    "\n",
    "$$\n",
    "\\begin{aligned}\n",
    "\\phi(0.1)\n",
    "&= \\operatorname{ReLU}(1.46\\cdot \\operatorname{ReLU}(0.1\\cdot 0.988 + 0.2) + 0.05)\\\\\n",
    "&= 1.476\\cdot 0.299 + 0.05\\\\\n",
    "&= 0.441+0.05\\\\\n",
    "&= 0.491\n",
    "\\end{aligned}\n",
    "$$\n"
   ]
  }
 ],
 "metadata": {
  "kernelspec": {
   "display_name": "venv",
   "language": "python",
   "name": "python3"
  },
  "language_info": {
   "codemirror_mode": {
    "name": "ipython",
    "version": 3
   },
   "file_extension": ".py",
   "mimetype": "text/x-python",
   "name": "python",
   "nbconvert_exporter": "python",
   "pygments_lexer": "ipython3",
   "version": "3.10.5"
  }
 },
 "nbformat": 4,
 "nbformat_minor": 2
}
