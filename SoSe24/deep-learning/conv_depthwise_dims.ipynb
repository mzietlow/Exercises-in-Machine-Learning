{
 "cells": [
  {
   "cell_type": "code",
   "execution_count": 3,
   "metadata": {},
   "outputs": [
    {
     "name": "stdout",
     "output_type": "stream",
     "text": [
      "120\n",
      "(1, 96, 96, 12)\n"
     ]
    }
   ],
   "source": [
    "import numpy as np\n",
    "import keras\n",
    "\n",
    "x = np.random.rand(1, 96, 96, 3)\n",
    "\n",
    "layer = keras.layers.DepthwiseConv2D((3,3), depth_multiplier=4, activation='relu', padding=\"same\")\n",
    "y = layer(x)\n",
    "\n",
    "print(layer.count_params())\n",
    "# 120\n",
    "\n",
    "print(y.shape)\n",
    "# (1, 96, 96, 12)"
   ]
  },
  {
   "cell_type": "code",
   "execution_count": 294,
   "metadata": {},
   "outputs": [],
   "source": [
    "import numpy as np\n",
    "import keras\n"
   ]
  },
  {
   "cell_type": "code",
   "execution_count": 315,
   "metadata": {},
   "outputs": [
    {
     "name": "stdout",
     "output_type": "stream",
     "text": [
      "120\n",
      "(1, 96, 96, 12)\n"
     ]
    }
   ],
   "source": [
    "x = np.random.rand(1, 96, 96, 3)\n",
    "layer = keras.layers.DepthwiseConv2D((3,3), depth_multiplier=4, activation='relu', padding=\"same\")\n",
    "y = layer(x)\n",
    "\n",
    "print(layer.count_params())\n",
    "print(y.shape)"
   ]
  },
  {
   "cell_type": "code",
   "execution_count": 317,
   "metadata": {},
   "outputs": [
    {
     "name": "stdout",
     "output_type": "stream",
     "text": [
      "120\n"
     ]
    }
   ],
   "source": [
    "from torch import nn\n",
    "\n",
    "def count_parameters(model):\n",
    "    return sum(p.numel() for p in model.parameters() if p.requires_grad)\n",
    "\n",
    "layer = nn.Conv2d(in_channels=3, out_channels=12, kernel_size=(3,3), groups=3)\n",
    "print(count_parameters(layer))"
   ]
  },
  {
   "cell_type": "code",
   "execution_count": 314,
   "metadata": {},
   "outputs": [
    {
     "data": {
      "text/plain": [
       "'======== Weights ========'"
      ]
     },
     "metadata": {},
     "output_type": "display_data"
    },
    {
     "data": {
      "text/plain": [
       "Parameter containing:\n",
       "tensor([[[[ 0.7041]]],\n",
       "\n",
       "\n",
       "        [[[-0.5042]]],\n",
       "\n",
       "\n",
       "        [[[ 0.1903]]],\n",
       "\n",
       "\n",
       "        [[[-0.2888]]],\n",
       "\n",
       "\n",
       "        [[[-0.7594]]],\n",
       "\n",
       "\n",
       "        [[[-0.9167]]]], requires_grad=True)"
      ]
     },
     "metadata": {},
     "output_type": "display_data"
    },
    {
     "data": {
      "text/plain": [
       "'======== Biases ========'"
      ]
     },
     "metadata": {},
     "output_type": "display_data"
    },
    {
     "data": {
      "text/plain": [
       "Parameter containing:\n",
       "tensor([-0.9765,  0.5035, -0.6238, -0.1216, -0.0423,  0.5719],\n",
       "       requires_grad=True)"
      ]
     },
     "metadata": {},
     "output_type": "display_data"
    },
    {
     "data": {
      "text/plain": [
       "'======== Input ========'"
      ]
     },
     "metadata": {},
     "output_type": "display_data"
    },
    {
     "data": {
      "text/plain": [
       "tensor([[[[0.6636]],\n",
       "\n",
       "         [[2.0137]]]])"
      ]
     },
     "metadata": {},
     "output_type": "display_data"
    },
    {
     "data": {
      "text/plain": [
       "'======== Output ========'"
      ]
     },
     "metadata": {},
     "output_type": "display_data"
    },
    {
     "data": {
      "text/plain": [
       "tensor([[[[-0.5093]],\n",
       "\n",
       "         [[ 0.1689]],\n",
       "\n",
       "         [[-0.4975]],\n",
       "\n",
       "         [[-0.7032]],\n",
       "\n",
       "         [[-1.5715]],\n",
       "\n",
       "         [[-1.2741]]]], grad_fn=<ConvolutionBackward0>)"
      ]
     },
     "metadata": {},
     "output_type": "display_data"
    }
   ],
   "source": [
    "import torch\n",
    "from torch import nn\n",
    "\n",
    "layer = nn.Conv2d(in_channels=2, out_channels=6, kernel_size=(1,1), groups=2)\n",
    "weights, biases = list(layer.parameters())\n",
    "input = torch.randn(1, 2, 1, 1)\n",
    "\n",
    "display(\"======== Weights ========\")\n",
    "display(weights)\n",
    "\n",
    "display(\"======== Biases ========\")\n",
    "display(biases)\n",
    "\n",
    "display(\"======== Input ========\")\n",
    "display(input)\n",
    "\n",
    "display(\"======== Output ========\")\n",
    "\n",
    "output = layer(input)\n",
    "display(output)"
   ]
  },
  {
   "cell_type": "code",
   "execution_count": 282,
   "metadata": {},
   "outputs": [
    {
     "data": {
      "text/plain": [
       "0.91530896"
      ]
     },
     "execution_count": 282,
     "metadata": {},
     "output_type": "execute_result"
    }
   ],
   "source": [
    "l1=(-0.6865)*(-1.6570)\n",
    "\n",
    "l2= (0.3329)*(-0.0024)\n",
    "b1= 0.7012\n",
    "\n",
    "\n",
    "l3 = (0.6218)*(0.1792)\n",
    "l4 = (-0.4560)*(-1.0504)\n",
    "\n",
    "b2 = 0.3249\n",
    "\n",
    "l3+l4+b2"
   ]
  },
  {
   "cell_type": "code",
   "execution_count": 249,
   "metadata": {},
   "outputs": [
    {
     "name": "stdout",
     "output_type": "stream",
     "text": [
      "Calc Default Filter 1 (Layer 1 + Layer 2):\n",
      "-0.489\n",
      "Calc Default Filter 2 (Layer 1 + Layer 2):\n"
     ]
    }
   ],
   "source": [
    "def calc_default(w1, w2, b, in_1, in_2):\n",
    "    return np.round((w1 * in_1) + (w2*in_2) +b, decimals=4)\n",
    "\n",
    "\n",
    "print (\"Calc Default Filter 1 (Layer 1 + Layer 2):\")\n",
    "w1 =-0.0886\n",
    "w2 = 0.2835\n",
    "b = -0.4439\n",
    "in_1 = 2.3061\n",
    "in_2 = 0.5617\n",
    "\n",
    "print(calc_default(w1,w2,b,in_1,in_2))\n",
    "\n",
    "print (\"Calc Default Filter 2 (Layer 1 + Layer 2):\")\n"
   ]
  },
  {
   "cell_type": "code",
   "execution_count": 247,
   "metadata": {},
   "outputs": [
    {
     "name": "stdout",
     "output_type": "stream",
     "text": [
      "Calc Depth Layer 1:\n",
      "-0.077\n",
      "Calc Depth Layer 2:\n",
      "0.0898\n"
     ]
    }
   ],
   "source": [
    "def calc_depth(weight, bias, in_val):\n",
    "    return np.round(weight * in_val + bias, decimals=4)\n",
    "\n",
    "\n",
    "print(\"Calc Depth Layer 1:\")\n",
    "\n",
    "w1 = -0.3735\n",
    "b1 = -0.6408\n",
    "in_1 = -1.5096\n",
    "\n",
    "print(calc_depth(w1,b1,in_1))\n",
    "\n",
    "print(\"Calc Depth Layer 2:\")\n",
    "w2 = 0.9717\n",
    "b2 = -0.3645\n",
    "in_2 = 0.4675\n",
    "\n",
    "print(calc_depth(w2,b2,in_2))\n"
   ]
  }
 ],
 "metadata": {
  "kernelspec": {
   "display_name": "venv",
   "language": "python",
   "name": "python3"
  },
  "language_info": {
   "codemirror_mode": {
    "name": "ipython",
    "version": 3
   },
   "file_extension": ".py",
   "mimetype": "text/x-python",
   "name": "python",
   "nbconvert_exporter": "python",
   "pygments_lexer": "ipython3",
   "version": "3.10.5"
  }
 },
 "nbformat": 4,
 "nbformat_minor": 2
}
